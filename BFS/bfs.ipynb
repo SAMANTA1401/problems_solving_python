{
 "cells": [
  {
   "cell_type": "code",
   "execution_count": null,
   "id": "2d74ea29",
   "metadata": {},
   "outputs": [],
   "source": [
    "from collections import deque"
   ]
  },
  {
   "cell_type": "code",
   "execution_count": null,
   "id": "70e60861",
   "metadata": {},
   "outputs": [],
   "source": [
    " # Example usage:\n",
    "graph = {\n",
    "    'A': ['B', 'C'],\n",
    "    'B': ['D', 'E'],\n",
    "    'C': ['F', 'G'],\n",
    "    'D': [],\n",
    "    'E': [],\n",
    "    'F': [],\n",
    "    'G': []\n",
    "}"
   ]
  },
  {
   "cell_type": "code",
   "execution_count": 4,
   "id": "8bc8b25c",
   "metadata": {},
   "outputs": [],
   "source": [
    "def bfs(graph, start):\n",
    "    # Create a queue for BFS\n",
    "    queue = deque([start])\n",
    "    \n",
    "    # Set to store visited nodes\n",
    "    visited = set()\n",
    "    \n",
    "    # Mark the start node as visited\n",
    "    visited.add(start)\n",
    "    \n",
    "    # Traverse the graph\n",
    "    while queue:\n",
    "        # Dequeue a vertex from the queue\n",
    "        node = queue.popleft()\n",
    "        \n",
    "        print(node, end=\" \")\n",
    "\n",
    "        # Get all adjacent vertices of the dequeued node\n",
    "        # If an adjacent vertex hasn't been visited, mark it as visited and enqueue i\n",
    "        for neighbor in graph[node]:\n",
    "            if neighbor not in visited:\n",
    "                visited.add(neighbor)\n",
    "                print(f\"Visiting: {neighbor}\")\n",
    "                queue.append(neighbor)\n",
    "                print(f\"Queue: {list(queue)}\")  "
   ]
  },
  {
   "cell_type": "code",
   "execution_count": 5,
   "id": "4693e6b1",
   "metadata": {},
   "outputs": [
    {
     "name": "stdout",
     "output_type": "stream",
     "text": [
      "A Visiting: B\n",
      "Queue: ['B']\n",
      "Visiting: C\n",
      "Queue: ['B', 'C']\n",
      "B Visiting: D\n",
      "Queue: ['C', 'D']\n",
      "Visiting: E\n",
      "Queue: ['C', 'D', 'E']\n",
      "C Visiting: F\n",
      "Queue: ['D', 'E', 'F']\n",
      "Visiting: G\n",
      "Queue: ['D', 'E', 'F', 'G']\n",
      "D E F G "
     ]
    }
   ],
   "source": [
    "bfs(graph, 'A')"
   ]
  }
 ],
 "metadata": {
  "kernelspec": {
   "display_name": "Python 3",
   "language": "python",
   "name": "python3"
  },
  "language_info": {
   "codemirror_mode": {
    "name": "ipython",
    "version": 3
   },
   "file_extension": ".py",
   "mimetype": "text/x-python",
   "name": "python",
   "nbconvert_exporter": "python",
   "pygments_lexer": "ipython3",
   "version": "3.11.0"
  }
 },
 "nbformat": 4,
 "nbformat_minor": 5
}
