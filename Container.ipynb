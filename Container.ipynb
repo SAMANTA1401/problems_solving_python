{
  "nbformat": 4,
  "nbformat_minor": 0,
  "metadata": {
    "colab": {
      "provenance": []
    },
    "kernelspec": {
      "name": "python3",
      "display_name": "Python 3"
    },
    "language_info": {
      "name": "python"
    }
  },
  "cells": [
    {
      "cell_type": "markdown",
      "source": [
        "container are data structures that hold data values\n",
        "\n",
        "they support membership tests which means we can check whether a value exists in the container or not\n",
        "\n",
        "\n",
        "generallly containers provide a way to access the contained objects and to iterate over them\n",
        "\n",
        "examples of containers include tuple list set dict str"
      ],
      "metadata": {
        "id": "9TZ0_oxvS75q"
      }
    },
    {
      "cell_type": "code",
      "execution_count": null,
      "metadata": {
        "colab": {
          "base_uri": "https://localhost:8080/"
        },
        "id": "sNZ9EblLSz1L",
        "outputId": "a8765536-2be8-4376-a920-83b68c55cfa3"
      },
      "outputs": [
        {
          "output_type": "execute_result",
          "data": {
            "text/plain": [
              "True"
            ]
          },
          "metadata": {},
          "execution_count": 2
        }
      ],
      "source": [
        "list1 = ['asif' , 'john' , 'Michael' , 'Basit']\n",
        "\n",
        "'asif' in list1  #membership  check using in operator"
      ]
    },
    {
      "cell_type": "code",
      "source": [
        "assert 'john' in list1  #if the condition returns true the program does nmothing"
      ],
      "metadata": {
        "id": "Bwm7BvU5U6pC"
      },
      "execution_count": null,
      "outputs": []
    },
    {
      "cell_type": "code",
      "source": [
        "assert 'john1' in list1  #if the condition return false the programe assert will stop"
      ],
      "metadata": {
        "colab": {
          "base_uri": "https://localhost:8080/",
          "height": 193
        },
        "id": "WCq02CPaVDK0",
        "outputId": "948f8c33-996f-4093-a79b-897e2c80f89b"
      },
      "execution_count": null,
      "outputs": [
        {
          "output_type": "error",
          "ename": "AssertionError",
          "evalue": "ignored",
          "traceback": [
            "\u001b[0;31m---------------------------------------------------------------------------\u001b[0m",
            "\u001b[0;31mAssertionError\u001b[0m                            Traceback (most recent call last)",
            "\u001b[0;32m<ipython-input-4-8ef96b9ad698>\u001b[0m in \u001b[0;36m<cell line: 1>\u001b[0;34m()\u001b[0m\n\u001b[0;32m----> 1\u001b[0;31m \u001b[0;32massert\u001b[0m \u001b[0;34m'john1'\u001b[0m \u001b[0;32min\u001b[0m \u001b[0mlist1\u001b[0m  \u001b[0;31m#if the condition return false the programe assert will stop\u001b[0m\u001b[0;34m\u001b[0m\u001b[0;34m\u001b[0m\u001b[0m\n\u001b[0m",
            "\u001b[0;31mAssertionError\u001b[0m: "
          ]
        }
      ]
    },
    {
      "cell_type": "code",
      "source": [
        "mydict = {'Name':'Asif', 'id':2454, 'dob': 32523, 'address':'dfaea'}\n",
        "mydict"
      ],
      "metadata": {
        "colab": {
          "base_uri": "https://localhost:8080/"
        },
        "id": "wLDhvT6sVRlv",
        "outputId": "c6236846-e1de-4a19-8a7d-c66bba3403a3"
      },
      "execution_count": null,
      "outputs": [
        {
          "output_type": "execute_result",
          "data": {
            "text/plain": [
              "{'Name': 'Asif', 'id': 2454, 'dob': 32523, 'address': 'dfaea'}"
            ]
          },
          "metadata": {},
          "execution_count": 5
        }
      ]
    },
    {
      "cell_type": "code",
      "source": [
        "'Asif' in mydict # dictionary membership will always check the keys"
      ],
      "metadata": {
        "colab": {
          "base_uri": "https://localhost:8080/"
        },
        "id": "vxcSTGsLVuiQ",
        "outputId": "5b211fbe-a2d5-4a60-b029-e95ba280be8f"
      },
      "execution_count": null,
      "outputs": [
        {
          "output_type": "execute_result",
          "data": {
            "text/plain": [
              "False"
            ]
          },
          "metadata": {},
          "execution_count": 6
        }
      ]
    },
    {
      "cell_type": "code",
      "source": [
        "'Name' in mydict #dictionary membership will always check the keys"
      ],
      "metadata": {
        "colab": {
          "base_uri": "https://localhost:8080/"
        },
        "id": "8Rp5QMNhXYHS",
        "outputId": "a3de713d-98f8-4b36-ca8e-657d7d7ed6e5"
      },
      "execution_count": null,
      "outputs": [
        {
          "output_type": "execute_result",
          "data": {
            "text/plain": [
              "True"
            ]
          },
          "metadata": {},
          "execution_count": 7
        }
      ]
    },
    {
      "cell_type": "code",
      "source": [
        "mystr = 'asifbhat'\n",
        "'as' in mystr #check if substring is present"
      ],
      "metadata": {
        "colab": {
          "base_uri": "https://localhost:8080/"
        },
        "id": "vB4r9SceXkZQ",
        "outputId": "3187b887-d2b1-44ff-d43d-cdfa5fe22ef5"
      },
      "execution_count": null,
      "outputs": [
        {
          "output_type": "execute_result",
          "data": {
            "text/plain": [
              "True"
            ]
          },
          "metadata": {},
          "execution_count": 8
        }
      ]
    },
    {
      "cell_type": "code",
      "source": [],
      "metadata": {
        "id": "w02w3CJWX-qa"
      },
      "execution_count": null,
      "outputs": []
    }
  ]
}