{
  "cells": [
    {
      "cell_type": "markdown",
      "metadata": {
        "id": "9TZ0_oxvS75q"
      },
      "source": [
        "container are data structures that hold data values\n",
        "\n",
        "they support membership tests which means we can check whether a value exists in the container or not\n",
        "\n",
        "\n",
        "generallly containers provide a way to access the contained objects and to iterate over them\n",
        "\n",
        "examples of containers include tuple list set dict str"
      ]
    },
    {
      "cell_type": "code",
      "execution_count": null,
      "metadata": {
        "colab": {
          "base_uri": "https://localhost:8080/"
        },
        "id": "sNZ9EblLSz1L",
        "outputId": "a8765536-2be8-4376-a920-83b68c55cfa3"
      },
      "outputs": [
        {
          "data": {
            "text/plain": [
              "True"
            ]
          },
          "execution_count": 2,
          "metadata": {},
          "output_type": "execute_result"
        }
      ],
      "source": [
        "list1 = ['asif' , 'john' , 'Michael' , 'Basit']\n",
        "\n",
        "'asif' in list1  #membership  check using in operator"
      ]
    },
    {
      "cell_type": "code",
      "execution_count": null,
      "metadata": {
        "id": "Bwm7BvU5U6pC"
      },
      "outputs": [],
      "source": [
        "assert 'john' in list1  #if the condition returns true the program does nothing"
      ]
    },
    {
      "cell_type": "code",
      "execution_count": null,
      "metadata": {
        "colab": {
          "base_uri": "https://localhost:8080/",
          "height": 193
        },
        "id": "WCq02CPaVDK0",
        "outputId": "948f8c33-996f-4093-a79b-897e2c80f89b"
      },
      "outputs": [
        {
          "ename": "AssertionError",
          "evalue": "ignored",
          "output_type": "error",
          "traceback": [
            "\u001b[0;31m---------------------------------------------------------------------------\u001b[0m",
            "\u001b[0;31mAssertionError\u001b[0m                            Traceback (most recent call last)",
            "\u001b[0;32m<ipython-input-4-8ef96b9ad698>\u001b[0m in \u001b[0;36m<cell line: 1>\u001b[0;34m()\u001b[0m\n\u001b[0;32m----> 1\u001b[0;31m \u001b[0;32massert\u001b[0m \u001b[0;34m'john1'\u001b[0m \u001b[0;32min\u001b[0m \u001b[0mlist1\u001b[0m  \u001b[0;31m#if the condition return false the programe assert will stop\u001b[0m\u001b[0;34m\u001b[0m\u001b[0;34m\u001b[0m\u001b[0m\n\u001b[0m",
            "\u001b[0;31mAssertionError\u001b[0m: "
          ]
        }
      ],
      "source": [
        "assert 'john1' in list1  #if the condition return false the programme assert will stop"
      ]
    },
    {
      "cell_type": "code",
      "execution_count": null,
      "metadata": {
        "colab": {
          "base_uri": "https://localhost:8080/"
        },
        "id": "wLDhvT6sVRlv",
        "outputId": "c6236846-e1de-4a19-8a7d-c66bba3403a3"
      },
      "outputs": [
        {
          "data": {
            "text/plain": [
              "{'Name': 'Asif', 'id': 2454, 'dob': 32523, 'address': 'dfaea'}"
            ]
          },
          "execution_count": 5,
          "metadata": {},
          "output_type": "execute_result"
        }
      ],
      "source": [
        "mydict = {'Name':'Asif', 'id':2454, 'dob': 32523, 'address':'dfaea'}\n",
        "mydict"
      ]
    },
    {
      "cell_type": "code",
      "execution_count": null,
      "metadata": {
        "colab": {
          "base_uri": "https://localhost:8080/"
        },
        "id": "vxcSTGsLVuiQ",
        "outputId": "5b211fbe-a2d5-4a60-b029-e95ba280be8f"
      },
      "outputs": [
        {
          "data": {
            "text/plain": [
              "False"
            ]
          },
          "execution_count": 6,
          "metadata": {},
          "output_type": "execute_result"
        }
      ],
      "source": [
        "'Asif' in mydict # dictionary membership will always check the keys"
      ]
    },
    {
      "cell_type": "code",
      "execution_count": null,
      "metadata": {
        "colab": {
          "base_uri": "https://localhost:8080/"
        },
        "id": "8Rp5QMNhXYHS",
        "outputId": "a3de713d-98f8-4b36-ca8e-657d7d7ed6e5"
      },
      "outputs": [
        {
          "data": {
            "text/plain": [
              "True"
            ]
          },
          "execution_count": 7,
          "metadata": {},
          "output_type": "execute_result"
        }
      ],
      "source": [
        "'Name' in mydict #dictionary membership will always check the keys"
      ]
    },
    {
      "cell_type": "code",
      "execution_count": null,
      "metadata": {
        "colab": {
          "base_uri": "https://localhost:8080/"
        },
        "id": "vB4r9SceXkZQ",
        "outputId": "3187b887-d2b1-44ff-d43d-cdfa5fe22ef5"
      },
      "outputs": [
        {
          "data": {
            "text/plain": [
              "True"
            ]
          },
          "execution_count": 8,
          "metadata": {},
          "output_type": "execute_result"
        }
      ],
      "source": [
        "mystr = 'asifbhat'\n",
        "'as' in mystr #check if substring is present"
      ]
    },
    {
      "cell_type": "code",
      "execution_count": null,
      "metadata": {
        "id": "w02w3CJWX-qa"
      },
      "outputs": [],
      "source": []
    }
  ],
  "metadata": {
    "colab": {
      "provenance": []
    },
    "kernelspec": {
      "display_name": "Python 3",
      "name": "python3"
    },
    "language_info": {
      "name": "python"
    }
  },
  "nbformat": 4,
  "nbformat_minor": 0
}
