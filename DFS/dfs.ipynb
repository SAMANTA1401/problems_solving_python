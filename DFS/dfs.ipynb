{
 "cells": [
  {
   "cell_type": "code",
   "execution_count": 1,
   "id": "a7fe4135",
   "metadata": {},
   "outputs": [],
   "source": [
    "visited = set()  # To keep track of visited nodes"
   ]
  },
  {
   "cell_type": "code",
   "execution_count": 2,
   "id": "f56207d3",
   "metadata": {},
   "outputs": [
    {
     "data": {
      "text/plain": [
       "set()"
      ]
     },
     "execution_count": 2,
     "metadata": {},
     "output_type": "execute_result"
    }
   ],
   "source": [
    "visited"
   ]
  },
  {
   "cell_type": "code",
   "execution_count": 21,
   "id": "bf259968",
   "metadata": {},
   "outputs": [],
   "source": [
    " # Example usage:\n",
    " graph = {\n",
    "    'A': ['B', 'C'],\n",
    "    'B': ['D', 'E'],\n",
    "    'C': ['F'],\n",
    "    'D': [],\n",
    "    'E': ['F'],\n",
    "    'F': []\n",
    " }"
   ]
  },
  {
   "attachments": {
    "image-2.png": {
     "image/png": "[encoded data removed]"
    },
    "image.png": {
     "image/png": "[encoded data removed]"
    }
   },
   "cell_type": "markdown",
   "id": "86f2f42e",
   "metadata": {},
   "source": [
    "![image-2.png](attachment:image-2.png)"
   ]
  },
  {
   "cell_type": "code",
   "execution_count": 22,
   "id": "17088b9c",
   "metadata": {},
   "outputs": [],
   "source": [
    "def dfs_iterative(graph, start):\n",
    "    visited = set()\n",
    "    stack = [start]\n",
    "\n",
    "    while stack:\n",
    "        node = stack.pop()\n",
    "        print(node)\n",
    "        print(\"/////\")\n",
    "        print(visited)\n",
    "        print(\"/////\")\n",
    "        print(stack)\n",
    "\n",
    "        if node not in visited:\n",
    "            print(node)  # Process the node (e.g., print it)\n",
    "            visited.add(node)  # Mark the node as visited\n",
    "            print(\"visited\", visited)\n",
    "            # Add unvisited neighbors to the stack\n",
    "            for neighbor in graph[node]:\n",
    "                print(\"neighbor\", neighbor)\n",
    "                if neighbor not in visited:\n",
    "                    stack.append(neighbor)\n",
    "                    print(\"stack\", stack)"
   ]
  },
  {
   "cell_type": "code",
   "execution_count": 23,
   "id": "e71e7308",
   "metadata": {},
   "outputs": [
    {
     "name": "stdout",
     "output_type": "stream",
     "text": [
      "A\n",
      "/////\n",
      "set()\n",
      "/////\n",
      "[]\n",
      "A\n",
      "visited {'A'}\n",
      "neighbor B\n",
      "stack ['B']\n",
      "neighbor C\n",
      "stack ['B', 'C']\n",
      "C\n",
      "/////\n",
      "{'A'}\n",
      "/////\n",
      "['B']\n",
      "C\n",
      "visited {'A', 'C'}\n",
      "neighbor F\n",
      "stack ['B', 'F']\n",
      "F\n",
      "/////\n",
      "{'A', 'C'}\n",
      "/////\n",
      "['B']\n",
      "F\n",
      "visited {'A', 'C', 'F'}\n",
      "B\n",
      "/////\n",
      "{'A', 'C', 'F'}\n",
      "/////\n",
      "[]\n",
      "B\n",
      "visited {'B', 'A', 'C', 'F'}\n",
      "neighbor D\n",
      "stack ['D']\n",
      "neighbor E\n",
      "stack ['D', 'E']\n",
      "E\n",
      "/////\n",
      "{'B', 'A', 'C', 'F'}\n",
      "/////\n",
      "['D']\n",
      "E\n",
      "visited {'B', 'F', 'A', 'C', 'E'}\n",
      "neighbor F\n",
      "D\n",
      "/////\n",
      "{'B', 'F', 'A', 'C', 'E'}\n",
      "/////\n",
      "[]\n",
      "D\n",
      "visited {'B', 'F', 'D', 'A', 'C', 'E'}\n"
     ]
    }
   ],
   "source": [
    "dfs_iterative(graph, 'A')"
   ]
  },
  {
   "cell_type": "code",
   "execution_count": null,
   "id": "8e5b5665",
   "metadata": {},
   "outputs": [],
   "source": []
  }
 ],
 "metadata": {
  "kernelspec": {
   "display_name": "Python 3",
   "language": "python",
   "name": "python3"
  },
  "language_info": {
   "codemirror_mode": {
    "name": "ipython",
    "version": 3
   },
   "file_extension": ".py",
   "mimetype": "text/x-python",
   "name": "python",
   "nbconvert_exporter": "python",
   "pygments_lexer": "ipython3",
   "version": "3.11.0"
  }
 },
 "nbformat": 4,
 "nbformat_minor": 5
}
