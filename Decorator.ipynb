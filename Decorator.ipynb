{
  "nbformat": 4,
  "nbformat_minor": 0,
  "metadata": {
    "colab": {
      "provenance": []
    },
    "kernelspec": {
      "name": "python3",
      "display_name": "Python 3"
    },
    "language_info": {
      "name": "python"
    }
  },
  "cells": [
    {
      "cell_type": "markdown",
      "source": [
        "# **decorator **is a very powerful and useful tool in python as it allows us to wrap another function in order to extend the behaviour of wrapped function without permanently modifying it."
      ],
      "metadata": {
        "id": "ZMClSkpBeN_5"
      }
    },
    {
      "cell_type": "markdown",
      "source": [
        "in decorators ,functions are taken as the argument into another function and then called inside the wrapped function"
      ],
      "metadata": {
        "id": "896XY9c3fERn"
      }
    },
    {
      "cell_type": "markdown",
      "source": [
        "advantages: logging and debugging , access control and authentication"
      ],
      "metadata": {
        "id": "fJQSP8PEf5qx"
      }
    },
    {
      "cell_type": "code",
      "source": [
        "# create a substract\n",
        "\n",
        "def substract(num1 , num2):\n",
        "  res = num1-num2\n",
        "  print(\"rsult is:\", res)\n",
        "\n",
        "substract(4,2)\n",
        "substract(6,3)"
      ],
      "metadata": {
        "id": "lZ4ewwMheNgZ",
        "colab": {
          "base_uri": "https://localhost:8080/"
        },
        "outputId": "06744aca-2f92-4fbd-beef-e2d4cd02bb41"
      },
      "execution_count": null,
      "outputs": [
        {
          "output_type": "stream",
          "name": "stdout",
          "text": [
            "rsult is: 2\n",
            "rsult is: 3\n"
          ]
        }
      ]
    },
    {
      "cell_type": "code",
      "execution_count": null,
      "metadata": {
        "id": "_ylsFDJjciPE",
        "colab": {
          "base_uri": "https://localhost:8080/"
        },
        "outputId": "935bed5e-9926-4f14-b8dd-5040041d5b09"
      },
      "outputs": [
        {
          "output_type": "stream",
          "name": "stdout",
          "text": [
            "outside the wrapper\n",
            "i am a wraaper\n",
            "rsult is: 2\n"
          ]
        }
      ],
      "source": [
        "# we now want substract() function to alwayas substract lower number from higher number\n",
        "# so when we pass (2,4) it should perform 4-2 .to achieve this we will decorate substract()\n",
        "# function.\n",
        "\n",
        "def sub_decorator(func):      #another function\n",
        "  def wrapper (num1, num2):   #wrapped function take argument from func() argument\n",
        "    if num1 < num2:\n",
        "      num1, num2 = num2, num1\n",
        "      print(\"i am a wraaper\")\n",
        "      return func(num1, num2)\n",
        "  print(\"outside the wrapper\")  #wrrped()  return func(num1, num2)\n",
        "  return wrapper               #sub_decorator() also return func(num1, num2) return not callable\n",
        "                              # wrong: return wrapper(num1,num2) outside wrapper()\n",
        "sub = sub_decorator(substract) # sub_decorator take subatract as argument\n",
        "\n",
        "                                #sub_decorator(substract(num1,num2)) #actually this is not done we take wrapper()\n",
        "                                # = sub(num1,num2)\n",
        "\n",
        "sub(2,4)                       #modified decorator function take num1 and num2 as argument\n",
        "                              # and as pass to wrapper()\n",
        "                              # these argument actually bolongs to suubstract()\n",
        "\n"
      ]
    },
    {
      "cell_type": "markdown",
      "source": [],
      "metadata": {
        "id": "OMeGoWa6eMhl"
      }
    },
    {
      "cell_type": "code",
      "source": [
        "# we can use @ syntax for decorating a function in one step\n",
        "\n",
        "@sub_decorator\n",
        "def substract(num1, num2):\n",
        "  res = num1-num2\n",
        "  print('result is:', res)\n",
        "substract(2,4)"
      ],
      "metadata": {
        "colab": {
          "base_uri": "https://localhost:8080/"
        },
        "id": "7CcuKNKpjkda",
        "outputId": "9fc9b543-e8f1-4628-90c5-c4c39b6380ae"
      },
      "execution_count": null,
      "outputs": [
        {
          "output_type": "stream",
          "name": "stdout",
          "text": [
            "result is: 2\n"
          ]
        }
      ]
    },
    {
      "cell_type": "code",
      "source": [
        "def InstallLinux():\n",
        "  print('linux installation has started \\n')\n",
        "def InstallWindows():\n",
        "  print(\"windows installtion has started \\n\")\n",
        "def InstallMaC():\n",
        "  print('mac installtion has started \\n')\n",
        "\n",
        "InstallLinux()\n",
        "# InstallMaC()\n",
        "# InstallWindows()\n",
        "\n",
        "# print()\n",
        "\n",
        "# now suppose if we want to print message : \"please accept terms and conditions\"\n",
        "# then easy way will be to create one decorator function which will present this\n",
        "\n",
        "def InstallDecorator(func):\n",
        "  def wrapper():\n",
        "    print(\"please accept and terms and condition\")\n",
        "    return func()\n",
        "\n",
        "  return wrapper\n",
        "  # return wrapper()  # wrong\n",
        "\n",
        "@InstallDecorator\n",
        "def InstallLinux():\n",
        "  print('linux installation has started \\n')    #wrraper() print first then root function like installlinux\n",
        "\n",
        "\n",
        "InstallLinux()\n"
      ],
      "metadata": {
        "colab": {
          "base_uri": "https://localhost:8080/"
        },
        "id": "UhfwQeHVkH6W",
        "outputId": "f5c44380-1f8e-4b76-8a00-ba0276ad786c"
      },
      "execution_count": null,
      "outputs": [
        {
          "output_type": "stream",
          "name": "stdout",
          "text": [
            "linux installation has started \n",
            "\n",
            "please accept and terms and condition\n",
            "linux installation has started \n",
            "\n"
          ]
        }
      ]
    },
    {
      "cell_type": "code",
      "source": [
        "# apply multiple decorator on a single function\n",
        "\n",
        "def InstallDecorator1(func):\n",
        "  def wrapper():\n",
        "    print(\"please accept terms and conditions...\\n\")\n",
        "    return func()\n",
        "  return wrapper\n",
        "\n",
        "def InstallDecorator2(func):\n",
        "  def wrapper():\n",
        "    print(\"please enter correct licence key...\\n\")\n",
        "    return func()\n",
        "  return wrapper\n",
        "\n",
        "def InstallDecorator3(func):\n",
        "  def wrapper():\n",
        "    print(\"please enter partitioning choice\")\n",
        "    return func()\n",
        "  return wrapper\n",
        "\n",
        "@InstallDecorator1\n",
        "@InstallDecorator2\n",
        "@InstallDecorator3\n",
        "def InstallLinux():\n",
        "  print(\"linux installation has started ..\\n\")\n",
        "\n",
        "InstallLinux()"
      ],
      "metadata": {
        "colab": {
          "base_uri": "https://localhost:8080/"
        },
        "id": "oefpi_U9lYaz",
        "outputId": "f31ec745-70f8-46be-8b2d-af26885fd7f3"
      },
      "execution_count": null,
      "outputs": [
        {
          "output_type": "stream",
          "name": "stdout",
          "text": [
            "please accept terms and conditions...\n",
            "\n",
            "please enter correct licence key...\n",
            "\n",
            "please enter partitioning choice\n",
            "linux installation has started ..\n",
            "\n"
          ]
        }
      ]
    },
    {
      "cell_type": "code",
      "source": [],
      "metadata": {
        "id": "8dQB6C_jx-0-"
      },
      "execution_count": null,
      "outputs": []
    }
  ]
}