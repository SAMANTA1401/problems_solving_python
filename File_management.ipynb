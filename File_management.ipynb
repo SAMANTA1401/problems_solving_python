{
  "cells": [
    {
      "cell_type": "code",
      "execution_count": null,
      "metadata": {
        "id": "KqJG-1a7rDqv"
      },
      "outputs": [],
      "source": [
        "fileobj = open('test1.txt','w') # open file in create/write mode"
      ]
    },
    {
      "cell_type": "code",
      "execution_count": null,
      "metadata": {
        "id": "-Mxi9W5BrUEB"
      },
      "outputs": [],
      "source": [
        "fileobj = open('test1.txt') # open file in read/text mode"
      ]
    },
    {
      "cell_type": "code",
      "execution_count": null,
      "metadata": {
        "id": "_T3--45csEA8"
      },
      "outputs": [],
      "source": [
        "fileobj = open('test1.txt','r') #open file in write mode"
      ]
    },
    {
      "cell_type": "code",
      "execution_count": null,
      "metadata": {
        "colab": {
          "base_uri": "https://localhost:8080/"
        },
        "id": "cM9igcWzstMF",
        "outputId": "a827b7da-f43d-4668-a8b3-db0cb273a46c"
      },
      "outputs": [
        {
          "data": {
            "text/plain": [
              "<_io.TextIOWrapper name='test1.txt' mode='r' encoding='UTF-8'>"
            ]
          },
          "execution_count": 6,
          "metadata": {},
          "output_type": "execute_result"
        }
      ],
      "source": [
        "fileobj"
      ]
    },
    {
      "cell_type": "code",
      "execution_count": null,
      "metadata": {
        "colab": {
          "base_uri": "https://localhost:8080/",
          "height": 36
        },
        "id": "YSrb_JK9s4oS",
        "outputId": "65cdfc5e-78dc-4b43-fd81-b1af903b5cca"
      },
      "outputs": [
        {
          "data": {
            "application/vnd.google.colaboratory.intrinsic+json": {
              "type": "string"
            },
            "text/plain": [
              "''"
            ]
          },
          "execution_count": 8,
          "metadata": {},
          "output_type": "execute_result"
        }
      ],
      "source": [
        "fileobj.read() #read whole file"
      ]
    },
    {
      "cell_type": "markdown",
      "metadata": {
        "id": "dqB--k6s7kjB"
      },
      "source": [
        "REad File"
      ]
    },
    {
      "cell_type": "code",
      "execution_count": null,
      "metadata": {
        "id": "_23cw5Sks8Br"
      },
      "outputs": [],
      "source": [
        "fileobj.close() #close file"
      ]
    },
    {
      "cell_type": "code",
      "execution_count": null,
      "metadata": {
        "id": "fDoqJarbtpAA"
      },
      "outputs": [],
      "source": [
        "fileobj = open('test1.txt')"
      ]
    },
    {
      "cell_type": "code",
      "execution_count": null,
      "metadata": {
        "colab": {
          "base_uri": "https://localhost:8080/",
          "height": 227
        },
        "id": "LKEwdjfXttlw",
        "outputId": "ac2b8061-932c-421b-99f6-2d70a8937288"
      },
      "outputs": [
        {
          "data": {
            "application/vnd.google.colaboratory.intrinsic+json": {
              "type": "string"
            },
            "text/plain": [
              "'Python generators are easy way of creating iterators. It generates values one\\nat a time from a given sequence instead of returning the entire sequence at onc\\ne.\\\\nIt is a special type of function which returns an iterator object.\\\\nIn a ge\\nnerator function, a yield statement is used rather than a return statement.\\\\nTh\\ne generator function cannot include the return keyword. If we include it then i\\nt will terminate the execution of the function.\\\\nThe difference between yield a\\nnd return is that once yield returns a value the function is paused and the con\\ntrol is transferred to the caller.Local variables and their states are remember\\ned between successive calls. In case of the return statement value is returned\\nand the execution of the function is terminated.\\\\nMethods like __iter()__ and _\\n_next()__ are implemented automatically in generator function.\\\\nSimple generato\\nrs can be easily created using generator expressions. Generator expressions cre\\nate anonymous generator functions like lambda.\\\\nThe syntax for generator expres\\nsion is similar to that of a list comprehension but the only difference is squa\\nre brackets are replaced with round parentheses. Also list comprehension produc\\nes the entire list while the generator expression produces one item at a time w\\nhich is more memory efficient than list comprehension.'"
            ]
          },
          "execution_count": 16,
          "metadata": {},
          "output_type": "execute_result"
        }
      ],
      "source": [
        "fileobj.read()"
      ]
    },
    {
      "cell_type": "code",
      "execution_count": null,
      "metadata": {
        "colab": {
          "base_uri": "https://localhost:8080/",
          "height": 36
        },
        "id": "YJL0bnWqvGbl",
        "outputId": "f6aa8130-224c-49fe-aa96-463d3b889f0d"
      },
      "outputs": [
        {
          "data": {
            "application/vnd.google.colaboratory.intrinsic+json": {
              "type": "string"
            },
            "text/plain": [
              "''"
            ]
          },
          "execution_count": 17,
          "metadata": {},
          "output_type": "execute_result"
        }
      ],
      "source": [
        "fileobj.read() #file cursor already at the end of the file"
      ]
    },
    {
      "cell_type": "code",
      "execution_count": null,
      "metadata": {
        "colab": {
          "base_uri": "https://localhost:8080/",
          "height": 227
        },
        "id": "PShCPEBvtwR6",
        "outputId": "68ddb09e-8a7e-46f5-f2ad-39ba5ec2b77b"
      },
      "outputs": [
        {
          "data": {
            "application/vnd.google.colaboratory.intrinsic+json": {
              "type": "string"
            },
            "text/plain": [
              "'Python generators are easy way of creating iterators. It generates values one\\nat a time from a given sequence instead of returning the entire sequence at onc\\ne.\\\\nIt is a special type of function which returns an iterator object.\\\\nIn a ge\\nnerator function, a yield statement is used rather than a return statement.\\\\nTh\\ne generator function cannot include the return keyword. If we include it then i\\nt will terminate the execution of the function.\\\\nThe difference between yield a\\nnd return is that once yield returns a value the function is paused and the con\\ntrol is transferred to the caller.Local variables and their states are remember\\ned between successive calls. In case of the return statement value is returned\\nand the execution of the function is terminated.\\\\nMethods like __iter()__ and _\\n_next()__ are implemented automatically in generator function.\\\\nSimple generato\\nrs can be easily created using generator expressions. Generator expressions cre\\nate anonymous generator functions like lambda.\\\\nThe syntax for generator expres\\nsion is similar to that of a list comprehension but the only difference is squa\\nre brackets are replaced with round parentheses. Also list comprehension produc\\nes the entire list while the generator expression produces one item at a time w\\nhich is more memory efficient than list comprehension.'"
            ]
          },
          "execution_count": 18,
          "metadata": {},
          "output_type": "execute_result"
        }
      ],
      "source": [
        "#bring file cursor to initial position\n",
        "fileobj.seek(0)\n",
        "fileobj.read()"
      ]
    },
    {
      "cell_type": "code",
      "execution_count": null,
      "metadata": {
        "colab": {
          "base_uri": "https://localhost:8080/",
          "height": 227
        },
        "id": "5ryM7-ibt8zA",
        "outputId": "fe93cb40-d69d-4df9-d0e4-aa267a8f425c"
      },
      "outputs": [
        {
          "data": {
            "application/vnd.google.colaboratory.intrinsic+json": {
              "type": "string"
            },
            "text/plain": [
              "'generators are easy way of creating iterators. It generates values one\\nat a time from a given sequence instead of returning the entire sequence at onc\\ne.\\\\nIt is a special type of function which returns an iterator object.\\\\nIn a ge\\nnerator function, a yield statement is used rather than a return statement.\\\\nTh\\ne generator function cannot include the return keyword. If we include it then i\\nt will terminate the execution of the function.\\\\nThe difference between yield a\\nnd return is that once yield returns a value the function is paused and the con\\ntrol is transferred to the caller.Local variables and their states are remember\\ned between successive calls. In case of the return statement value is returned\\nand the execution of the function is terminated.\\\\nMethods like __iter()__ and _\\n_next()__ are implemented automatically in generator function.\\\\nSimple generato\\nrs can be easily created using generator expressions. Generator expressions cre\\nate anonymous generator functions like lambda.\\\\nThe syntax for generator expres\\nsion is similar to that of a list comprehension but the only difference is squa\\nre brackets are replaced with round parentheses. Also list comprehension produc\\nes the entire list while the generator expression produces one item at a time w\\nhich is more memory efficient than list comprehension.'"
            ]
          },
          "execution_count": 19,
          "metadata": {},
          "output_type": "execute_result"
        }
      ],
      "source": [
        "# pass file cursor at loc 7\n",
        "fileobj.seek(7)\n",
        "fileobj.read()"
      ]
    },
    {
      "cell_type": "code",
      "execution_count": null,
      "metadata": {
        "colab": {
          "base_uri": "https://localhost:8080/"
        },
        "id": "afiSRafYuRdP",
        "outputId": "b7815ae8-f4b1-47b9-bddb-309fe58e30f9"
      },
      "outputs": [
        {
          "data": {
            "text/plain": [
              "0"
            ]
          },
          "execution_count": 20,
          "metadata": {},
          "output_type": "execute_result"
        }
      ],
      "source": [
        "fileobj.seek(0)"
      ]
    },
    {
      "cell_type": "code",
      "execution_count": null,
      "metadata": {
        "colab": {
          "base_uri": "https://localhost:8080/",
          "height": 36
        },
        "id": "fz3Y5fm-viRX",
        "outputId": "39383ad0-725e-4d95-a8a3-04e6f6694b1b"
      },
      "outputs": [
        {
          "data": {
            "application/vnd.google.colaboratory.intrinsic+json": {
              "type": "string"
            },
            "text/plain": [
              "'Python generator'"
            ]
          },
          "execution_count": 21,
          "metadata": {},
          "output_type": "execute_result"
        }
      ],
      "source": [
        "fileobj.read(16) #return the first 16 characters of the file"
      ]
    },
    {
      "cell_type": "code",
      "execution_count": null,
      "metadata": {
        "colab": {
          "base_uri": "https://localhost:8080/"
        },
        "id": "eJ2IzCNPvvhJ",
        "outputId": "8fb9e110-91cf-4ade-c694-cb4b204f6991"
      },
      "outputs": [
        {
          "data": {
            "text/plain": [
              "16"
            ]
          },
          "execution_count": 22,
          "metadata": {},
          "output_type": "execute_result"
        }
      ],
      "source": [
        "fileobj.tell() # get the file cursor position"
      ]
    },
    {
      "cell_type": "code",
      "execution_count": null,
      "metadata": {
        "colab": {
          "base_uri": "https://localhost:8080/"
        },
        "id": "NvbdStBVv9Zq",
        "outputId": "597491a3-bf85-4453-fb72-2aad12655a07"
      },
      "outputs": [
        {
          "data": {
            "text/plain": [
              "0"
            ]
          },
          "execution_count": 23,
          "metadata": {},
          "output_type": "execute_result"
        }
      ],
      "source": [
        "fileobj.seek(0)"
      ]
    },
    {
      "cell_type": "code",
      "execution_count": null,
      "metadata": {
        "colab": {
          "base_uri": "https://localhost:8080/"
        },
        "id": "FUYP0-uU0txb",
        "outputId": "a9cd41dd-cc15-4c15-a9ee-04d6e0fac2ba"
      },
      "outputs": [
        {
          "name": "stdout",
          "output_type": "stream",
          "text": [
            "Python generators are easy way of creating iterators. It generates values one\n",
            "\n"
          ]
        }
      ],
      "source": [
        "print(fileobj.readline()) #read first line of a file"
      ]
    },
    {
      "cell_type": "code",
      "execution_count": null,
      "metadata": {
        "colab": {
          "base_uri": "https://localhost:8080/"
        },
        "id": "Z94gYQpv1qmV",
        "outputId": "330aa814-e2ee-4b0e-9ec4-bc105252e79e"
      },
      "outputs": [
        {
          "name": "stdout",
          "output_type": "stream",
          "text": [
            "at a time from a given sequence instead of returning the entire sequence at onc\n",
            "\n"
          ]
        }
      ],
      "source": [
        "print(fileobj.readline()) # read second line as file cursor is located at end of the first line\n"
      ]
    },
    {
      "cell_type": "code",
      "execution_count": null,
      "metadata": {
        "colab": {
          "base_uri": "https://localhost:8080/"
        },
        "id": "cbDjKTvp2-ik",
        "outputId": "9748792b-0494-41bb-8a4f-d59e3bb77fe1"
      },
      "outputs": [
        {
          "name": "stdout",
          "output_type": "stream",
          "text": [
            "e.\\nIt is a special type of function which returns an iterator object.\\nIn a ge\n",
            "\n"
          ]
        }
      ],
      "source": [
        "print(fileobj.readline()) # read third line of a file"
      ]
    },
    {
      "cell_type": "code",
      "execution_count": null,
      "metadata": {
        "colab": {
          "base_uri": "https://localhost:8080/"
        },
        "id": "azc1U9AI3Io_",
        "outputId": "b9b476b6-8179-445a-87d6-5b9beadf9fa3"
      },
      "outputs": [
        {
          "data": {
            "text/plain": [
              "['Python generators are easy way of creating iterators. It generates values one\\n',\n",
              " 'at a time from a given sequence instead of returning the entire sequence at onc\\n',\n",
              " 'e.\\\\nIt is a special type of function which returns an iterator object.\\\\nIn a ge\\n',\n",
              " 'nerator function, a yield statement is used rather than a return statement.\\\\nTh\\n',\n",
              " 'e generator function cannot include the return keyword. If we include it then i\\n',\n",
              " 't will terminate the execution of the function.\\\\nThe difference between yield a\\n',\n",
              " 'nd return is that once yield returns a value the function is paused and the con\\n',\n",
              " 'trol is transferred to the caller.Local variables and their states are remember\\n',\n",
              " 'ed between successive calls. In case of the return statement value is returned\\n',\n",
              " 'and the execution of the function is terminated.\\\\nMethods like __iter()__ and _\\n',\n",
              " '_next()__ are implemented automatically in generator function.\\\\nSimple generato\\n',\n",
              " 'rs can be easily created using generator expressions. Generator expressions cre\\n',\n",
              " 'ate anonymous generator functions like lambda.\\\\nThe syntax for generator expres\\n',\n",
              " 'sion is similar to that of a list comprehension but the only difference is squa\\n',\n",
              " 're brackets are replaced with round parentheses. Also list comprehension produc\\n',\n",
              " 'es the entire list while the generator expression produces one item at a time w\\n',\n",
              " 'hich is more memory efficient than list comprehension.']"
            ]
          },
          "execution_count": 27,
          "metadata": {},
          "output_type": "execute_result"
        }
      ],
      "source": [
        "fileobj.seek(0)\n",
        "fileobj.readlines() #Read all lines of a file"
      ]
    },
    {
      "cell_type": "code",
      "execution_count": null,
      "metadata": {
        "colab": {
          "base_uri": "https://localhost:8080/"
        },
        "id": "cMUm5TDw3fR4",
        "outputId": "4be5d41f-52bc-4e3e-ba12-3285a003a8ae"
      },
      "outputs": [
        {
          "name": "stdout",
          "output_type": "stream",
          "text": [
            "Python generators are easy way of creating iterators. It generates values one\n",
            "\n",
            "at a time from a given sequence instead of returning the entire sequence at onc\n",
            "\n",
            "e.\\nIt is a special type of function which returns an iterator object.\\nIn a ge\n",
            "\n",
            "nerator function, a yield statement is used rather than a return statement.\\nTh\n",
            "\n",
            "e generator function cannot include the return keyword. If we include it then i\n",
            "\n"
          ]
        }
      ],
      "source": [
        "#Read first 5 lines of a file using readline()\n",
        "fileobj.seek(0)\n",
        "\n",
        "count = 0\n",
        "for i in range(5):\n",
        "  if(count<5):\n",
        "    print(fileobj.readline())\n",
        "  else:\n",
        "    break\n",
        "  count+=1"
      ]
    },
    {
      "cell_type": "code",
      "execution_count": null,
      "metadata": {
        "colab": {
          "base_uri": "https://localhost:8080/"
        },
        "id": "SRIZI4wP4whr",
        "outputId": "68e2e361-ae3c-4443-f395-b2778338b67a"
      },
      "outputs": [
        {
          "name": "stdout",
          "output_type": "stream",
          "text": [
            "Python generators are easy way of creating iterators. It generates values one\n",
            "\n",
            "at a time from a given sequence instead of returning the entire sequence at onc\n",
            "\n",
            "e.\\nIt is a special type of function which returns an iterator object.\\nIn a ge\n",
            "\n",
            "nerator function, a yield statement is used rather than a return statement.\\nTh\n",
            "\n",
            "e generator function cannot include the return keyword. If we include it then i\n",
            "\n"
          ]
        }
      ],
      "source": [
        "fileobj.seek(0)\n",
        "#read first 5 lines of a file using readlines\n",
        "\n",
        "\n",
        "for i in range(0,5):\n",
        "  if(i<5):\n",
        "    print(fileobj.readline())\n",
        "  else:\n",
        "    break\n"
      ]
    },
    {
      "cell_type": "code",
      "execution_count": null,
      "metadata": {
        "colab": {
          "base_uri": "https://localhost:8080/"
        },
        "id": "g2u9SFxn5Cm6",
        "outputId": "5b824341-8aa6-4adc-85c7-133b293eae8d"
      },
      "outputs": [
        {
          "name": "stdout",
          "output_type": "stream",
          "text": [
            "Python generators are easy way of creating iterators. It generates values one\n",
            "\n",
            "at a time from a given sequence instead of returning the entire sequence at onc\n",
            "\n",
            "e.\\nIt is a special type of function which returns an iterator object.\\nIn a ge\n",
            "\n",
            "nerator function, a yield statement is used rather than a return statement.\\nTh\n",
            "\n",
            "e generator function cannot include the return keyword. If we include it then i\n",
            "\n"
          ]
        }
      ],
      "source": [
        "#read first 5 lines of a file using readlines()\n",
        "fileobj.seek(0)\n",
        "\n",
        "count = 0\n",
        "for i in fileobj.readlines():\n",
        "  if(count <5 ):\n",
        "    print(i)\n",
        "  else:\n",
        "    break\n",
        "  count +=1"
      ]
    },
    {
      "cell_type": "code",
      "execution_count": null,
      "metadata": {
        "colab": {
          "base_uri": "https://localhost:8080/"
        },
        "id": "MZYlk__-6jER",
        "outputId": "8c6a3b01-df22-4e9e-db0a-0e7949d2ad56"
      },
      "outputs": [
        {
          "name": "stdout",
          "output_type": "stream",
          "text": [
            "P\n",
            "y\n",
            "t\n",
            "h\n",
            "o\n",
            "n\n",
            " \n",
            "g\n",
            "e\n",
            "n\n",
            "e\n",
            "r\n",
            "a\n",
            "t\n",
            "o\n",
            "r\n",
            "s\n",
            " \n",
            "a\n",
            "r\n",
            "e\n",
            " \n",
            "e\n",
            "a\n",
            "s\n",
            "y\n",
            " \n",
            "w\n",
            "a\n",
            "y\n",
            " \n",
            "o\n",
            "f\n",
            " \n",
            "c\n",
            "r\n",
            "e\n",
            "a\n",
            "t\n",
            "i\n",
            "n\n",
            "g\n",
            " \n",
            "i\n",
            "t\n",
            "e\n",
            "r\n",
            "a\n",
            "t\n",
            "o\n",
            "r\n",
            "s\n",
            ".\n",
            " \n",
            "I\n",
            "t\n",
            " \n",
            "g\n",
            "e\n",
            "n\n",
            "e\n",
            "r\n",
            "a\n",
            "t\n",
            "e\n",
            "s\n",
            " \n",
            "v\n",
            "a\n",
            "l\n",
            "u\n",
            "e\n",
            "s\n",
            " \n",
            "o\n",
            "n\n",
            "e\n",
            "\n",
            "\n"
          ]
        }
      ],
      "source": [
        "fileobj.seek(0)\n",
        "for i in fileobj.readline():\n",
        "  print(i)"
      ]
    },
    {
      "cell_type": "code",
      "execution_count": null,
      "metadata": {
        "colab": {
          "base_uri": "https://localhost:8080/"
        },
        "id": "NPO24yaI66SU",
        "outputId": "53b4ccb6-0187-4eb5-c80e-1e971981edc3"
      },
      "outputs": [
        {
          "name": "stdout",
          "output_type": "stream",
          "text": [
            "Python generators are easy way of creating iterators. It generates values one\n",
            "\n",
            "at a time from a given sequence instead of returning the entire sequence at onc\n",
            "\n",
            "e.\\nIt is a special type of function which returns an iterator object.\\nIn a ge\n",
            "\n",
            "nerator function, a yield statement is used rather than a return statement.\\nTh\n",
            "\n",
            "e generator function cannot include the return keyword. If we include it then i\n",
            "\n",
            "t will terminate the execution of the function.\\nThe difference between yield a\n",
            "\n",
            "nd return is that once yield returns a value the function is paused and the con\n",
            "\n",
            "trol is transferred to the caller.Local variables and their states are remember\n",
            "\n",
            "ed between successive calls. In case of the return statement value is returned\n",
            "\n",
            "and the execution of the function is terminated.\\nMethods like __iter()__ and _\n",
            "\n",
            "_next()__ are implemented automatically in generator function.\\nSimple generato\n",
            "\n",
            "rs can be easily created using generator expressions. Generator expressions cre\n",
            "\n",
            "ate anonymous generator functions like lambda.\\nThe syntax for generator expres\n",
            "\n",
            "sion is similar to that of a list comprehension but the only difference is squa\n",
            "\n",
            "re brackets are replaced with round parentheses. Also list comprehension produc\n",
            "\n",
            "es the entire list while the generator expression produces one item at a time w\n",
            "\n",
            "hich is more memory efficient than list comprehension.\n"
          ]
        }
      ],
      "source": [
        "fileobj.seek(0)\n",
        "for i in fileobj.readlines():\n",
        "  print(i)"
      ]
    },
    {
      "cell_type": "markdown",
      "metadata": {
        "id": "KtJ4s_9p7rvt"
      },
      "source": [
        "## **Write file**"
      ]
    },
    {
      "cell_type": "code",
      "execution_count": null,
      "metadata": {
        "id": "tceqKBSO7Qmu"
      },
      "outputs": [],
      "source": [
        "fileobj = open('test1.txt','a')"
      ]
    },
    {
      "cell_type": "code",
      "execution_count": null,
      "metadata": {
        "colab": {
          "base_uri": "https://localhost:8080/"
        },
        "id": "WE3nSf-S8IJr",
        "outputId": "e2c4759a-cf2e-449a-a221-403bba44df36"
      },
      "outputs": [
        {
          "data": {
            "text/plain": [
              "41"
            ]
          },
          "execution_count": 41,
          "metadata": {},
          "output_type": "execute_result"
        }
      ],
      "source": [
        "fileobj.write('This is the content appended in the file ') #append the  content\n"
      ]
    },
    {
      "cell_type": "code",
      "execution_count": null,
      "metadata": {
        "id": "PFKygPlx-OFh"
      },
      "outputs": [],
      "source": [
        "fileobj.close()"
      ]
    },
    {
      "cell_type": "code",
      "execution_count": null,
      "metadata": {
        "id": "yCcBqS4F-UmH"
      },
      "outputs": [],
      "source": [
        "fileobj = open('test1.txt')"
      ]
    },
    {
      "cell_type": "code",
      "execution_count": null,
      "metadata": {
        "colab": {
          "base_uri": "https://localhost:8080/",
          "height": 227
        },
        "id": "2Dx3X-qd-YuS",
        "outputId": "57da03e6-8c36-4022-851a-88e8f78e184e"
      },
      "outputs": [
        {
          "data": {
            "application/vnd.google.colaboratory.intrinsic+json": {
              "type": "string"
            },
            "text/plain": [
              "'this is the content appended  in the fileython generators are easy way of creating iterators. It generates values one\\nat a time from a given sequence instead of returning the entire sequence at onc\\ne.\\\\nIt is a special type of function which returns an iterator object.\\\\nIn a ge\\nnerator function, a yield statement is used rather than a return statement.\\\\nTh\\ne generator function cannot include the return keyword. If we include it then i\\nt will terminate the execution of the function.\\\\nThe difference between yield a\\nnd return is that once yield returns a value the function is paused and the con\\ntrol is transferred to the caller.Local variables and their states are remember\\ned between successive calls. In case of the return statement value is returned\\nand the execution of the function is terminated.\\\\nMethods like __iter()__ and _\\n_next()__ are implemented automatically in generator function.\\\\nSimple generato\\nrs can be easily created using generator expressions. Generator expressions cre\\nate anonymous generator functions like lambda.\\\\nThe syntax for generator expres\\nsion is similar to that of a list comprehension but the only difference is squa\\nre brackets are replaced with round parentheses. Also list comprehension produc\\nes the entire list while the generator expression produces one item at a time w\\nhich is more memory efficient than list comprehension.'"
            ]
          },
          "execution_count": 45,
          "metadata": {},
          "output_type": "execute_result"
        }
      ],
      "source": [
        "fileobj.read()"
      ]
    },
    {
      "cell_type": "code",
      "execution_count": null,
      "metadata": {
        "colab": {
          "base_uri": "https://localhost:8080/"
        },
        "id": "-29XIsSu8d_Z",
        "outputId": "84a5f8e8-fb85-4db7-a452-c884572f258b"
      },
      "outputs": [
        {
          "data": {
            "text/plain": [
              "41"
            ]
          },
          "execution_count": 42,
          "metadata": {},
          "output_type": "execute_result"
        }
      ],
      "source": [
        "fileobj = open('test1.txt', 'w') # if we write in write mode then previous text will be cleared\n",
        "fileobj.write('this is the content appended  in the file')"
      ]
    },
    {
      "cell_type": "code",
      "execution_count": null,
      "metadata": {
        "id": "2xJA_hsL9iQy"
      },
      "outputs": [],
      "source": [
        "fileobj.close()\n",
        "fileobj = open('test1.txt')\n",
        "fileobj.read()"
      ]
    },
    {
      "cell_type": "code",
      "execution_count": null,
      "metadata": {
        "colab": {
          "base_uri": "https://localhost:8080/"
        },
        "id": "rB3Y_c2X-wYT",
        "outputId": "2a9e5899-70a1-4f04-bcc6-cd9e195e640f"
      },
      "outputs": [
        {
          "data": {
            "text/plain": [
              "11"
            ]
          },
          "execution_count": 52,
          "metadata": {},
          "output_type": "execute_result"
        }
      ],
      "source": [
        "# Create a new file\n",
        "fileobj = open(\"test2.txt\", \"w\")\n",
        "fileobj.write(\"first line\\n\")\n",
        "fileobj.write(\"second line\\n\")\n",
        "fileobj.write(\"third line\\n\")"
      ]
    },
    {
      "cell_type": "code",
      "execution_count": null,
      "metadata": {
        "colab": {
          "base_uri": "https://localhost:8080/"
        },
        "id": "3s9HwDnS_Q9V",
        "outputId": "3d0de936-0d25-4ca7-9136-3387d067190c"
      },
      "outputs": [
        {
          "data": {
            "text/plain": [
              "10"
            ]
          },
          "execution_count": 53,
          "metadata": {},
          "output_type": "execute_result"
        }
      ],
      "source": [
        "fileobj.write(\"third line\")"
      ]
    },
    {
      "cell_type": "code",
      "execution_count": null,
      "metadata": {
        "id": "DgrG3ain_Tfj"
      },
      "outputs": [],
      "source": [
        "fileobj.close()"
      ]
    },
    {
      "cell_type": "code",
      "execution_count": null,
      "metadata": {
        "id": "zL-pwcHdAMDF"
      },
      "outputs": [],
      "source": [
        "fileobj = open('test2.txt')"
      ]
    },
    {
      "cell_type": "code",
      "execution_count": null,
      "metadata": {
        "colab": {
          "base_uri": "https://localhost:8080/"
        },
        "id": "rQTfMAoSAUEQ",
        "outputId": "e11a0413-3d06-43ea-c00a-e894d88e688b"
      },
      "outputs": [
        {
          "data": {
            "text/plain": [
              "['first line\\n', 'second line\\n', 'third lien\\n', 'third lien']"
            ]
          },
          "execution_count": 56,
          "metadata": {},
          "output_type": "execute_result"
        }
      ],
      "source": [
        "fileobj.readlines()"
      ]
    },
    {
      "cell_type": "markdown",
      "metadata": {
        "id": "lyc7dPBzA465"
      },
      "source": [
        "## **Delete File**"
      ]
    },
    {
      "cell_type": "code",
      "execution_count": null,
      "metadata": {
        "id": "_JAXU7DxAX-R"
      },
      "outputs": [],
      "source": [
        "import os"
      ]
    },
    {
      "cell_type": "code",
      "execution_count": null,
      "metadata": {
        "id": "CVbTK7pSBFc8"
      },
      "outputs": [],
      "source": [
        "os.remove('test2.txt') #Delete file"
      ]
    },
    {
      "cell_type": "code",
      "execution_count": null,
      "metadata": {
        "colab": {
          "base_uri": "https://localhost:8080/",
          "height": 176
        },
        "id": "X6sQn5DCBVVQ",
        "outputId": "b1801eb8-706e-4342-8334-40380fa0b8ba"
      },
      "outputs": [
        {
          "ename": "FileNotFoundError",
          "evalue": "ignored",
          "output_type": "error",
          "traceback": [
            "\u001b[0;31m---------------------------------------------------------------------------\u001b[0m",
            "\u001b[0;31mFileNotFoundError\u001b[0m                         Traceback (most recent call last)",
            "\u001b[0;32m<ipython-input-59-fecc9f240170>\u001b[0m in \u001b[0;36m<cell line: 1>\u001b[0;34m()\u001b[0m\n\u001b[0;32m----> 1\u001b[0;31m \u001b[0mos\u001b[0m\u001b[0;34m.\u001b[0m\u001b[0mremove\u001b[0m\u001b[0;34m(\u001b[0m\u001b[0;34m\"test3.txt\"\u001b[0m\u001b[0;34m)\u001b[0m\u001b[0;34m\u001b[0m\u001b[0;34m\u001b[0m\u001b[0m\n\u001b[0m",
            "\u001b[0;31mFileNotFoundError\u001b[0m: [Errno 2] No such file or directory: 'test3.txt'"
          ]
        }
      ],
      "source": [
        "os.remove(\"test3.txt\")"
      ]
    },
    {
      "cell_type": "code",
      "execution_count": null,
      "metadata": {
        "colab": {
          "base_uri": "https://localhost:8080/",
          "height": 176
        },
        "id": "22WvPod7BfC5",
        "outputId": "eda94879-af0b-42bc-914c-df9eb532c1cf"
      },
      "outputs": [
        {
          "ename": "FileNotFoundError",
          "evalue": "ignored",
          "output_type": "error",
          "traceback": [
            "\u001b[0;31m---------------------------------------------------------------------------\u001b[0m",
            "\u001b[0;31mFileNotFoundError\u001b[0m                         Traceback (most recent call last)",
            "\u001b[0;32m<ipython-input-60-f0e2cd112d7d>\u001b[0m in \u001b[0;36m<cell line: 1>\u001b[0;34m()\u001b[0m\n\u001b[0;32m----> 1\u001b[0;31m \u001b[0mos\u001b[0m\u001b[0;34m.\u001b[0m\u001b[0mrmdir\u001b[0m\u001b[0;34m(\u001b[0m\u001b[0;34m'folder/'\u001b[0m\u001b[0;34m)\u001b[0m \u001b[0;31m#delete folder\u001b[0m\u001b[0;34m\u001b[0m\u001b[0;34m\u001b[0m\u001b[0m\n\u001b[0m",
            "\u001b[0;31mFileNotFoundError\u001b[0m: [Errno 2] No such file or directory: 'folder/'"
          ]
        }
      ],
      "source": [
        "os.rmdir('folder/') #delete folder"
      ]
    },
    {
      "cell_type": "code",
      "execution_count": null,
      "metadata": {
        "colab": {
          "base_uri": "https://localhost:8080/",
          "height": 176
        },
        "id": "ocrc4EVIBqP2",
        "outputId": "b9cd05df-5acb-4a8c-d2d0-af571c5f723c"
      },
      "outputs": [
        {
          "ename": "FileNotFoundError",
          "evalue": "ignored",
          "output_type": "error",
          "traceback": [
            "\u001b[0;31m---------------------------------------------------------------------------\u001b[0m",
            "\u001b[0;31mFileNotFoundError\u001b[0m                         Traceback (most recent call last)",
            "\u001b[0;32m<ipython-input-61-cd1eb4f63732>\u001b[0m in \u001b[0;36m<cell line: 1>\u001b[0;34m()\u001b[0m\n\u001b[0;32m----> 1\u001b[0;31m \u001b[0mos\u001b[0m\u001b[0;34m.\u001b[0m\u001b[0mrmdir\u001b[0m\u001b[0;34m(\u001b[0m\u001b[0;34m'folder/'\u001b[0m\u001b[0;34m)\u001b[0m\u001b[0;34m\u001b[0m\u001b[0;34m\u001b[0m\u001b[0m\n\u001b[0m",
            "\u001b[0;31mFileNotFoundError\u001b[0m: [Errno 2] No such file or directory: 'folder/'"
          ]
        }
      ],
      "source": [
        "os.rmdir('folder/')"
      ]
    },
    {
      "cell_type": "code",
      "execution_count": null,
      "metadata": {
        "id": "gta4orbYBvzY"
      },
      "outputs": [],
      "source": []
    }
  ],
  "metadata": {
    "colab": {
      "provenance": []
    },
    "kernelspec": {
      "display_name": "Python 3",
      "name": "python3"
    },
    "language_info": {
      "name": "python"
    }
  },
  "nbformat": 4,
  "nbformat_minor": 0
}
