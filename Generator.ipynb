{
  "nbformat": 4,
  "nbformat_minor": 0,
  "metadata": {
    "colab": {
      "provenance": []
    },
    "kernelspec": {
      "name": "python3",
      "display_name": "Python 3"
    },
    "language_info": {
      "name": "python"
    }
  },
  "cells": [
    {
      "cell_type": "markdown",
      "source": [
        "python generator is easy way to creating iterators. it generates values one at a time from a given sequence instead of resulting the entire sequence at once\n",
        "\n",
        "it is a special type of function which returns an iterator object\n",
        "\n",
        "in a generator function, a yield statement is used rather a return statement\n",
        "\n",
        "the generator function cannot include return key word if we include it then it will terminate the execution of the function\n",
        "\n",
        "the difference between yield and return function is paused and the control is transferred to the caller. local variables and their states are remembered between successive calls .in case of the return statement value is returned and the execution of the function is terminated\n",
        "\n",
        "\n",
        "methods like iter() and next() are implemented alutomatically in generator function\n",
        "\n",
        "simple generators  can be easily created using generator expressions ,generator expression create anonymous functions like lambda\n",
        "\n",
        "the syntax for generator expression is similar to that of a list comprehension but only difference is squre brackets are replaced with round patentheses. also list comprehension produces the entire list while generator expression produces one item at a time which is more memory efficient than list comprehension as generatora doesnt store all the vlaue of list it only store one value at a time"
      ],
      "metadata": {
        "id": "nDfEeHTZ6G-L"
      }
    },
    {
      "cell_type": "code",
      "source": [
        "# simple generator funcition that will generate numbers from 1 to 5\n",
        "def mygen():\n",
        "  n =1\n",
        "  yield n\n",
        "\n",
        "  n +=1\n",
        "  yield n\n",
        "\n",
        "  n += 1\n",
        "  yield n\n",
        "\n",
        "  n +=1\n",
        "  yield n\n",
        "\n",
        "  n +=1\n",
        "  yield\n",
        "\n",
        "mygen1 =mygen()  # mygen() generator function and mygen1 is generator local valriable\n",
        "                    # caller remember the succssive call\n",
        "                    #mygen() behave like a list of , we iterate one by one\n",
        "                    #mygen1 is generator object or iterator object and mygen is like class\n",
        "\n",
        "print(next(mygen()))\n",
        "print(next(mygen()))\n",
        "\n",
        "\n",
        "print(\"sdf\")\n",
        "\n",
        "print(next(mygen1)) #\n",
        "print(next(mygen1))\n",
        "print(next(mygen1))\n",
        "print(next(mygen1))\n",
        "print(next(mygen1))  #function will terminate here as all 5 values have been return\n",
        "print(next(mygen1))  #as function is already termninated ,stop iteration is raised\n",
        "\n"
      ],
      "metadata": {
        "colab": {
          "base_uri": "https://localhost:8080/",
          "height": 401
        },
        "id": "84IgiJ4k6Gto",
        "outputId": "dd57ffbd-ddf0-4bba-d16d-d3358276aa73"
      },
      "execution_count": null,
      "outputs": [
        {
          "output_type": "stream",
          "name": "stdout",
          "text": [
            "1\n",
            "1\n",
            "sdf\n",
            "1\n",
            "2\n",
            "3\n",
            "4\n",
            "None\n"
          ]
        },
        {
          "output_type": "error",
          "ename": "StopIteration",
          "evalue": "ignored",
          "traceback": [
            "\u001b[0;31m---------------------------------------------------------------------------\u001b[0m",
            "\u001b[0;31mStopIteration\u001b[0m                             Traceback (most recent call last)",
            "\u001b[0;32m<ipython-input-7-f41b8f5d1fc4>\u001b[0m in \u001b[0;36m<cell line: 31>\u001b[0;34m()\u001b[0m\n\u001b[1;32m     29\u001b[0m \u001b[0mprint\u001b[0m\u001b[0;34m(\u001b[0m\u001b[0mnext\u001b[0m\u001b[0;34m(\u001b[0m\u001b[0mmygen1\u001b[0m\u001b[0;34m)\u001b[0m\u001b[0;34m)\u001b[0m\u001b[0;34m\u001b[0m\u001b[0;34m\u001b[0m\u001b[0m\n\u001b[1;32m     30\u001b[0m \u001b[0mprint\u001b[0m\u001b[0;34m(\u001b[0m\u001b[0mnext\u001b[0m\u001b[0;34m(\u001b[0m\u001b[0mmygen1\u001b[0m\u001b[0;34m)\u001b[0m\u001b[0;34m)\u001b[0m  \u001b[0;31m#function will terminate here as all 5 values have been return\u001b[0m\u001b[0;34m\u001b[0m\u001b[0;34m\u001b[0m\u001b[0m\n\u001b[0;32m---> 31\u001b[0;31m \u001b[0mprint\u001b[0m\u001b[0;34m(\u001b[0m\u001b[0mnext\u001b[0m\u001b[0;34m(\u001b[0m\u001b[0mmygen1\u001b[0m\u001b[0;34m)\u001b[0m\u001b[0;34m)\u001b[0m  \u001b[0;31m#as function is already termninated ,stop iteration is raised\u001b[0m\u001b[0;34m\u001b[0m\u001b[0;34m\u001b[0m\u001b[0m\n\u001b[0m\u001b[1;32m     32\u001b[0m \u001b[0;34m\u001b[0m\u001b[0m\n",
            "\u001b[0;31mStopIteration\u001b[0m: "
          ]
        }
      ]
    },
    {
      "cell_type": "code",
      "execution_count": null,
      "metadata": {
        "colab": {
          "base_uri": "https://localhost:8080/"
        },
        "id": "cta0yr77yIe2",
        "outputId": "db47f7e5-89b9-4da5-e289-b97c69b9bb9a"
      },
      "outputs": [
        {
          "output_type": "stream",
          "name": "stdout",
          "text": [
            "<generator object mygen at 0x79e5beb20c10>\n",
            "1\n",
            "2\n",
            "3\n",
            "4\n",
            "5\n",
            "6\n",
            "7\n",
            "8\n",
            "9\n",
            "10\n",
            "11\n",
            "12\n",
            "13\n",
            "14\n",
            "15\n",
            "16\n",
            "17\n",
            "18\n",
            "19\n",
            "sdf\n",
            "<generator object mygen at 0x79e5beb209e0>\n",
            "1\n",
            "2\n",
            "3\n",
            "4\n",
            "5\n",
            "6\n",
            "7\n",
            "8\n",
            "9\n",
            "10\n",
            "11\n",
            "12\n",
            "13\n",
            "14\n",
            "15\n",
            "16\n",
            "17\n",
            "18\n",
            "19\n"
          ]
        }
      ],
      "source": [
        "#simple generator function that will generate natural from 1 to ds20\n",
        "def mygen():\n",
        "  for i in range(1,20):\n",
        "    yield i\n",
        "\n",
        "mygen1 = mygen()  # mygen1 like pointer(c) or cursor remember the last time call and result\n",
        "                  #here generator object\n",
        "print(mygen1)\n",
        "\n",
        "for i in mygen1:\n",
        "  print(i)\n",
        "\n",
        "print(\"sdf\")\n",
        "\n",
        "\n",
        "print(mygen())\n",
        "\n",
        "for i in mygen():\n",
        "  print(i)"
      ]
    },
    {
      "cell_type": "code",
      "source": [
        "# store all values generated by generator function in a list\n",
        "num = list(mygen())\n",
        "num\n"
      ],
      "metadata": {
        "colab": {
          "base_uri": "https://localhost:8080/"
        },
        "id": "sQYgNWtSKzhE",
        "outputId": "daa5d780-7c5d-4dbb-c7ff-3ce6653a09af"
      },
      "execution_count": null,
      "outputs": [
        {
          "output_type": "execute_result",
          "data": {
            "text/plain": [
              "[1, 2, 3, 4, 5, 6, 7, 8, 9, 10, 11, 12, 13, 14, 15, 16, 17, 18, 19]"
            ]
          },
          "metadata": {},
          "execution_count": 12
        }
      ]
    },
    {
      "cell_type": "code",
      "source": [
        "# simple a generator function that will generate even numbers from 1 to 20\n",
        "def mygen():\n",
        "  for i in range(1,20):\n",
        "    if i%2 == 0:\n",
        "      yield i\n",
        "\n",
        "mygen1 = mygen() #iterator object\n",
        "\n",
        "for i in mygen1:\n",
        "  print(i)\n",
        "\n",
        "\n"
      ],
      "metadata": {
        "colab": {
          "base_uri": "https://localhost:8080/"
        },
        "id": "hUMFiiejMfQg",
        "outputId": "0065fc1c-56e4-49f1-ede9-c232a0a4e8d4"
      },
      "execution_count": null,
      "outputs": [
        {
          "output_type": "stream",
          "name": "stdout",
          "text": [
            "2\n",
            "4\n",
            "6\n",
            "8\n",
            "10\n",
            "12\n",
            "14\n",
            "16\n",
            "18\n"
          ]
        }
      ]
    },
    {
      "cell_type": "code",
      "source": [
        "# this generator function will generate ten numbers of fibonacci series\n",
        "def myfibo():\n",
        "   num1,num2 = 0,1\n",
        "   count = 0\n",
        "   while count < 10:\n",
        "        yield num1\n",
        "        num1, num2 = num2, num1+num2\n",
        "        count +=1\n",
        "\n",
        "fibo = myfibo()\n",
        "\n",
        "for i in fibo:\n",
        "  print(i)\n",
        "\n"
      ],
      "metadata": {
        "colab": {
          "base_uri": "https://localhost:8080/"
        },
        "id": "-_F5S0CNO1hw",
        "outputId": "6e91795a-f52a-4192-d36f-7317cc044b3f"
      },
      "execution_count": null,
      "outputs": [
        {
          "output_type": "stream",
          "name": "stdout",
          "text": [
            "0\n",
            "1\n",
            "1\n",
            "2\n",
            "3\n",
            "5\n",
            "8\n",
            "13\n",
            "21\n",
            "34\n"
          ]
        }
      ]
    },
    {
      "cell_type": "code",
      "source": [
        "# store the fibonacci series in a list\n",
        "list1 = list(myfibo())\n",
        "list1"
      ],
      "metadata": {
        "colab": {
          "base_uri": "https://localhost:8080/"
        },
        "id": "EOgLXoF3QCD5",
        "outputId": "cbd370da-cb00-424d-9558-b0e24b87baa4"
      },
      "execution_count": null,
      "outputs": [
        {
          "output_type": "execute_result",
          "data": {
            "text/plain": [
              "[0, 1, 1, 2, 3, 5, 8, 13, 21, 34]"
            ]
          },
          "metadata": {},
          "execution_count": 18
        }
      ]
    },
    {
      "cell_type": "markdown",
      "source": [
        "using annonymous function one liner"
      ],
      "metadata": {
        "id": "egM5NneQSjsB"
      }
    },
    {
      "cell_type": "code",
      "source": [
        "# list comprehension\n",
        "list2 = [i**2 for i in range(10)]\n",
        "list2"
      ],
      "metadata": {
        "colab": {
          "base_uri": "https://localhost:8080/"
        },
        "id": "36db5sH1QYWh",
        "outputId": "2c3e00ac-7e8d-4ca6-a640-13efe51e923b"
      },
      "execution_count": null,
      "outputs": [
        {
          "output_type": "execute_result",
          "data": {
            "text/plain": [
              "[0, 1, 4, 9, 16, 25, 36, 49, 64, 81]"
            ]
          },
          "metadata": {},
          "execution_count": 19
        }
      ]
    },
    {
      "cell_type": "code",
      "source": [
        "# generator comprehension\n",
        "gen2 = (i**2 for i in range(10))\n",
        "gen2"
      ],
      "metadata": {
        "colab": {
          "base_uri": "https://localhost:8080/"
        },
        "id": "KE8R0MLDQ-5d",
        "outputId": "e22a766a-4fda-47aa-819a-1575ec878fce"
      },
      "execution_count": null,
      "outputs": [
        {
          "output_type": "execute_result",
          "data": {
            "text/plain": [
              "<generator object <genexpr> at 0x79e5beb207b0>"
            ]
          },
          "metadata": {},
          "execution_count": 21
        }
      ]
    },
    {
      "cell_type": "code",
      "source": [
        "print(next(gen2))\n",
        "print(next(gen2))\n",
        "print(next(gen2))\n",
        "print(next(gen2))\n"
      ],
      "metadata": {
        "colab": {
          "base_uri": "https://localhost:8080/"
        },
        "id": "SrQqvR0yRV3V",
        "outputId": "16172c82-3c2e-4288-f9bd-1972686e9d22"
      },
      "execution_count": null,
      "outputs": [
        {
          "output_type": "stream",
          "name": "stdout",
          "text": [
            "1\n",
            "4\n",
            "9\n",
            "16\n"
          ]
        }
      ]
    },
    {
      "cell_type": "code",
      "source": [
        "# generator expression to generate even number\n",
        "\n",
        "gen2 = (i for i in range(40) if i%2 == 0)\n",
        "# gen2\n",
        "\n",
        "for i in gen2:\n",
        "  print(i)"
      ],
      "metadata": {
        "colab": {
          "base_uri": "https://localhost:8080/"
        },
        "id": "jqz8aUWJRoI_",
        "outputId": "b10155ef-fa25-42c1-9ab2-8f579b76a295"
      },
      "execution_count": null,
      "outputs": [
        {
          "output_type": "stream",
          "name": "stdout",
          "text": [
            "0\n",
            "2\n",
            "4\n",
            "6\n",
            "8\n",
            "10\n",
            "12\n",
            "14\n",
            "16\n",
            "18\n",
            "20\n",
            "22\n",
            "24\n",
            "26\n",
            "28\n",
            "30\n",
            "32\n",
            "34\n",
            "36\n",
            "38\n"
          ]
        }
      ]
    },
    {
      "cell_type": "code",
      "source": [
        "# list\n",
        "\n",
        "gen2 = [i for i in range(40) if i%2 == 0]\n",
        "gen2\n"
      ],
      "metadata": {
        "colab": {
          "base_uri": "https://localhost:8080/"
        },
        "id": "GHjUAuYGS8a0",
        "outputId": "121e33a1-1427-46b1-8f8b-67ea3dc16a79"
      },
      "execution_count": null,
      "outputs": [
        {
          "output_type": "execute_result",
          "data": {
            "text/plain": [
              "[0, 2, 4, 6, 8, 10, 12, 14, 16, 18, 20, 22, 24, 26, 28, 30, 32, 34, 36, 38]"
            ]
          },
          "metadata": {},
          "execution_count": 33
        }
      ]
    },
    {
      "cell_type": "code",
      "source": [],
      "metadata": {
        "id": "q1o3d9HZT3D4"
      },
      "execution_count": null,
      "outputs": []
    }
  ]
}