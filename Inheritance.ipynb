{
  "cells": [
    {
      "cell_type": "markdown",
      "metadata": {
        "id": "_UGfsR-wrslK"
      },
      "source": [
        "inheritance is a powerful feature in object oriented programming\n",
        "\n",
        "inheritance provides code reusablity in the program becouse we can use an existing class(super class\\parentclass/base class) to create a new clas(subclass/child class/derived class)instead of creating it from scratch\n",
        "\n",
        "the child class inherits data definitions and methods from the parent class which facilliates thereuse of features already available. the child class can add few more\n",
        "definitions or redefine a base class method\n",
        "\n",
        "inheritence comes info picture when a new class possessess the 'is a ' relationship with existing class e.g student is a person.hence person is the base class and student is a derived class"
      ]
    },
    {
      "cell_type": "code",
      "execution_count": null,
      "metadata": {
        "colab": {
          "base_uri": "https://localhost:8080/"
        },
        "id": "tKT-CbH3rpd_",
        "outputId": "760df90d-1b1e-4c6f-b911-5933650ca0c4"
      },
      "outputs": [
        {
          "name": "stdout",
          "output_type": "stream",
          "text": [
            "Student Details\n",
            "---------------\n",
            "Name :- Asif\n",
            "Age :- 24\n",
            "Gender :- Male\n",
            "Student ID :- 123\n",
            "Fees :- 1200\n",
            "Name :- Asif\n",
            "\n",
            "Employee Details\n",
            "---------------\n",
            "Name :- Basit\n",
            "Age :- 36\n",
            "Gender :- Male\n",
            "Employee ID :- 456\n",
            "Salary :- 80000\n"
          ]
        }
      ],
      "source": [
        "class person: #parent class\n",
        "    def __init__(self, name, age,gender):\n",
        "      self.name = name\n",
        "      self.age = age\n",
        "      self.gender = gender\n",
        "\n",
        "    def PersonInfo(self):\n",
        "        print('Name :- {}'.format(self.name))\n",
        "        print('Age :- {}'.format(self.age))\n",
        "        print('Gender :- {}'.format(self.gender))\n",
        "\n",
        "class student(person): # Child Class\n",
        "      def __init__(self,name,age,gender,student_id,fees):\n",
        "          person.__init__(self,name,age,gender)\n",
        "          self.student_id = student_id\n",
        "          self.fees = fees\n",
        "\n",
        "      def StudentInfo(self):\n",
        "          print('Student ID :- {}'.format(self.student_id))\n",
        "          print('Fees :- {}'.format(self.fees))\n",
        "          print('Name :- {}'.format(self.name))\n",
        "\n",
        "\n",
        "class teacher(person): # Child Class\n",
        "      def __init__(self,name,age,gender,emp_id,salary):\n",
        "          person.__init__(self,name,age,gender)\n",
        "          self.emp_id = emp_id\n",
        "          self.salary = salary\n",
        "\n",
        "      def TeacherInfo(self):\n",
        "          print('Employee ID :- {}'.format(self.emp_id))\n",
        "          print('Salary :- {}'.format(self.salary))\n",
        "\n",
        "stud1 = student('Asif' , 24 , 'Male' , 123 , 1200)\n",
        "print('Student Details')\n",
        "print('---------------')\n",
        "stud1.PersonInfo() # PersonInfo() method present in Parent Class will be access\n",
        "stud1.StudentInfo()\n",
        "print()\n",
        "teacher1 = teacher('Basit' , 36 , 'Male' , 456 , 80000)\n",
        "print('Employee Details')\n",
        "print('---------------')\n",
        "teacher1.PersonInfo() # PersonInfo() method present in Parent Class will be acc\n",
        "teacher1.TeacherInfo()\n"
      ]
    },
    {
      "cell_type": "code",
      "execution_count": null,
      "metadata": {
        "colab": {
          "base_uri": "https://localhost:8080/"
        },
        "id": "dbKq4AThCX5M",
        "outputId": "e775c6d6-db7a-4451-8038-0a7acc563c04"
      },
      "outputs": [
        {
          "name": "stdout",
          "output_type": "stream",
          "text": [
            "student details\n",
            "name: Asif\n",
            "age:24\n",
            "gender: Male\n",
            "student id 123\n",
            "fees 1200\n"
          ]
        }
      ],
      "source": [
        "#SUPER()  builtin function allows us to access methods of the base class\n",
        "\n",
        "class person: #parent class\n",
        "  def __init__(self,name, age, gender):\n",
        "    self.name = name\n",
        "    self.age = age\n",
        "    self.gender = gender\n",
        "\n",
        "  def person_info(self):\n",
        "    print(\"name:\",self.name)\n",
        "    print(f\"age:{self.age}\")\n",
        "    print(\"gender: {}\".format(self.gender))\n",
        "\n",
        "class student(person): #child class\n",
        "    def __init__(self, name, age, gender, student_id, fees):\n",
        "      super().__init__(name, age, gender) # inherit attributes\n",
        "      self.student_id = student_id\n",
        "      self.fees = fees\n",
        "\n",
        "    def student_info(self):\n",
        "      super().person_info() ### inherit  method\n",
        "      print('student id',self.student_id)\n",
        "      print('fees',self.fees)\n",
        "\n",
        "stud = student('Asif' , 24 , 'Male' , 123 , 1200)\n",
        "print('student details')\n",
        "stud.student_info()"
      ]
    }
  ],
  "metadata": {
    "colab": {
      "provenance": []
    },
    "kernelspec": {
      "display_name": "Python 3",
      "name": "python3"
    },
    "language_info": {
      "name": "python"
    }
  },
  "nbformat": 4,
  "nbformat_minor": 0
}
