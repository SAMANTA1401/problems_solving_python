{
 "cells": [
  {
   "cell_type": "markdown",
   "id": "552d1128",
   "metadata": {},
   "source": [
    "mean and variance"
   ]
  },
  {
   "cell_type": "code",
   "execution_count": 1,
   "id": "9fc20bff",
   "metadata": {},
   "outputs": [],
   "source": [
    "def mean(data):\n",
    "    mean = sum(data)/len(data)\n",
    "    return mean"
   ]
  },
  {
   "cell_type": "code",
   "execution_count": 2,
   "id": "7a50fbe9",
   "metadata": {},
   "outputs": [
    {
     "data": {
      "text/plain": [
       "12.0"
      ]
     },
     "execution_count": 2,
     "metadata": {},
     "output_type": "execute_result"
    }
   ],
   "source": [
    "mean([4,46,4,6,7,8,9])"
   ]
  },
  {
   "cell_type": "code",
   "execution_count": 3,
   "id": "3857a637",
   "metadata": {},
   "outputs": [],
   "source": [
    "def var(data):\n",
    "    mean = sum(data)/len(data)\n",
    "    var = sum((x-mean)**2 for x in data)/len(data)\n",
    "    return var"
   ]
  },
  {
   "cell_type": "code",
   "execution_count": 4,
   "id": "1695594c",
   "metadata": {},
   "outputs": [
    {
     "data": {
      "text/plain": [
       "195.71428571428572"
      ]
     },
     "execution_count": 4,
     "metadata": {},
     "output_type": "execute_result"
    }
   ],
   "source": [
    "var([4,46,4,6,7,8,9])"
   ]
  },
  {
   "cell_type": "markdown",
   "id": "defdaa27",
   "metadata": {},
   "source": [
    "k means"
   ]
  },
  {
   "cell_type": "code",
   "execution_count": 5,
   "id": "8414bfd5",
   "metadata": {},
   "outputs": [],
   "source": [
    "import numpy as np"
   ]
  },
  {
   "cell_type": "code",
   "execution_count": 11,
   "id": "b961c894",
   "metadata": {},
   "outputs": [],
   "source": [
    "matrix = []\n",
    "number = 1\n",
    "for row in range(10):\n",
    "    row = []\n",
    "    for col in range(10):\n",
    "        row.append(number)\n",
    "        number +=1\n",
    "    matrix.append(row)"
   ]
  },
  {
   "cell_type": "code",
   "execution_count": 12,
   "id": "30f29a4b",
   "metadata": {},
   "outputs": [
    {
     "data": {
      "text/plain": [
       "[[1, 2, 3, 4, 5, 6, 7, 8, 9, 10],\n",
       " [11, 12, 13, 14, 15, 16, 17, 18, 19, 20],\n",
       " [21, 22, 23, 24, 25, 26, 27, 28, 29, 30],\n",
       " [31, 32, 33, 34, 35, 36, 37, 38, 39, 40],\n",
       " [41, 42, 43, 44, 45, 46, 47, 48, 49, 50],\n",
       " [51, 52, 53, 54, 55, 56, 57, 58, 59, 60],\n",
       " [61, 62, 63, 64, 65, 66, 67, 68, 69, 70],\n",
       " [71, 72, 73, 74, 75, 76, 77, 78, 79, 80],\n",
       " [81, 82, 83, 84, 85, 86, 87, 88, 89, 90],\n",
       " [91, 92, 93, 94, 95, 96, 97, 98, 99, 100]]"
      ]
     },
     "execution_count": 12,
     "metadata": {},
     "output_type": "execute_result"
    }
   ],
   "source": [
    "matrix"
   ]
  },
  {
   "cell_type": "code",
   "execution_count": 14,
   "id": "7a6bd535",
   "metadata": {},
   "outputs": [],
   "source": [
    "matrix = np.array(matrix)"
   ]
  },
  {
   "cell_type": "code",
   "execution_count": 15,
   "id": "10147fd8",
   "metadata": {},
   "outputs": [
    {
     "data": {
      "text/plain": [
       "(10, 10)"
      ]
     },
     "execution_count": 15,
     "metadata": {},
     "output_type": "execute_result"
    }
   ],
   "source": [
    "matrix.shape"
   ]
  },
  {
   "cell_type": "code",
   "execution_count": null,
   "id": "711b85dc",
   "metadata": {},
   "outputs": [],
   "source": [
    "def kmeans(X, k, max_iter=100):\n",
    "    centroids = X[np.random.choice(X.shape[0], k, replace = False)]\n",
    "\n",
    "    for _ in range(max_iter):\n",
    "        clusters = [np.argmin([np.li\n",
    "\n",
    "\n",
    "        ])]\n",
    "    return centroids"
   ]
  },
  {
   "cell_type": "code",
   "execution_count": 17,
   "id": "a551744b",
   "metadata": {},
   "outputs": [
    {
     "data": {
      "text/plain": [
       "array([[ 31,  32,  33,  34,  35,  36,  37,  38,  39,  40],\n",
       "       [ 21,  22,  23,  24,  25,  26,  27,  28,  29,  30],\n",
       "       [ 91,  92,  93,  94,  95,  96,  97,  98,  99, 100]])"
      ]
     },
     "execution_count": 17,
     "metadata": {},
     "output_type": "execute_result"
    }
   ],
   "source": [
    "kmeans(matrix, 3)"
   ]
  },
  {
   "cell_type": "code",
   "execution_count": null,
   "id": "61fb9e41",
   "metadata": {},
   "outputs": [],
   "source": []
  }
 ],
 "metadata": {
  "kernelspec": {
   "display_name": "Python 3",
   "language": "python",
   "name": "python3"
  },
  "language_info": {
   "codemirror_mode": {
    "name": "ipython",
    "version": 3
   },
   "file_extension": ".py",
   "mimetype": "text/x-python",
   "name": "python",
   "nbconvert_exporter": "python",
   "pygments_lexer": "ipython3",
   "version": "3.11.0"
  }
 },
 "nbformat": 4,
 "nbformat_minor": 5
}
