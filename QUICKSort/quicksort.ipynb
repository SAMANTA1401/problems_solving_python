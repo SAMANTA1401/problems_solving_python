{
 "cells": [
  {
   "cell_type": "code",
   "execution_count": 2,
   "id": "07457f1c",
   "metadata": {},
   "outputs": [],
   "source": [
    "arr = [10, 7, 8, 9, 1, 5]"
   ]
  },
  {
   "cell_type": "code",
   "execution_count": 3,
   "id": "b742cee4",
   "metadata": {},
   "outputs": [],
   "source": [
    "pivot = arr[-1]"
   ]
  },
  {
   "cell_type": "code",
   "execution_count": 5,
   "id": "988cf990",
   "metadata": {},
   "outputs": [
    {
     "data": {
      "text/plain": [
       "5"
      ]
     },
     "execution_count": 5,
     "metadata": {},
     "output_type": "execute_result"
    }
   ],
   "source": [
    "pivot"
   ]
  },
  {
   "cell_type": "code",
   "execution_count": 6,
   "id": "7fe70171",
   "metadata": {},
   "outputs": [],
   "source": [
    "left = [x for x in arr[:-1] if x <= pivot]"
   ]
  },
  {
   "cell_type": "code",
   "execution_count": 7,
   "id": "20a2b927",
   "metadata": {},
   "outputs": [
    {
     "data": {
      "text/plain": [
       "[1]"
      ]
     },
     "execution_count": 7,
     "metadata": {},
     "output_type": "execute_result"
    }
   ],
   "source": [
    "left"
   ]
  },
  {
   "cell_type": "code",
   "execution_count": 8,
   "id": "15670dcf",
   "metadata": {},
   "outputs": [],
   "source": [
    "right = [x for x in arr[:-1] if x > pivot]"
   ]
  },
  {
   "cell_type": "code",
   "execution_count": 9,
   "id": "664f6d57",
   "metadata": {},
   "outputs": [
    {
     "data": {
      "text/plain": [
       "[10, 7, 8, 9]"
      ]
     },
     "execution_count": 9,
     "metadata": {},
     "output_type": "execute_result"
    }
   ],
   "source": [
    "right"
   ]
  },
  {
   "cell_type": "code",
   "execution_count": null,
   "id": "bea5b087",
   "metadata": {},
   "outputs": [],
   "source": [
    "def quick_sort(arr):\n",
    "    # Base case: if the array is empty or has one element, it's already sorted\n",
    "    if len(arr) <= 1:\n",
    "        return arr\n",
    "    \n",
    "    # Choosing the pivot (Here, we choose the last element as the pivot)\n",
    "    pivot = arr[-1]\n",
    "    print(f\"Pivot chosen: {pivot}\")\n",
    "    \n",
    "    # Elements less than the pivot\n",
    "    left = [x for x in arr[:-1] if x <= pivot]\n",
    "    print(f\"Left partition: {left}\")\n",
    "    \n",
    "    # Elements greater than the pivot\n",
    "    right = [x for x in arr[:-1] if x > pivot]\n",
    "    print(f\"Right partition: {right}\")\n",
    "    \n",
    "    # Recursively apply quick_sort to the left and right sub-arrays\n",
    "    return quick_sort(left) + [pivot] + quick_sort(right)"
   ]
  },
  {
   "cell_type": "code",
   "execution_count": 3,
   "id": "68d2a477",
   "metadata": {},
   "outputs": [
    {
     "name": "stdout",
     "output_type": "stream",
     "text": [
      "Pivot chosen: 5\n",
      "Left partition: [1]\n",
      "Right partition: [10, 7, 8, 9]\n",
      "Pivot chosen: 9\n",
      "Left partition: [7, 8]\n",
      "Right partition: [10]\n",
      "Pivot chosen: 8\n",
      "Left partition: [7]\n",
      "Right partition: []\n"
     ]
    }
   ],
   "source": [
    "sorted_arr = quick_sort(arr)"
   ]
  },
  {
   "cell_type": "code",
   "execution_count": null,
   "id": "a4de5708",
   "metadata": {},
   "outputs": [
    {
     "name": "stdout",
     "output_type": "stream",
     "text": [
      "Sorted array: [1, 5, 7, 8, 9, 10]\n"
     ]
    }
   ],
   "source": [
    "print(f\"Sorted array: {sorted_arr}\")"
   ]
  },
  {
   "cell_type": "code",
   "execution_count": null,
   "id": "3c2cf8fe",
   "metadata": {},
   "outputs": [],
   "source": []
  }
 ],
 "metadata": {
  "kernelspec": {
   "display_name": "Python 3",
   "language": "python",
   "name": "python3"
  },
  "language_info": {
   "codemirror_mode": {
    "name": "ipython",
    "version": 3
   },
   "file_extension": ".py",
   "mimetype": "text/x-python",
   "name": "python",
   "nbconvert_exporter": "python",
   "pygments_lexer": "ipython3",
   "version": "3.11.0"
  }
 },
 "nbformat": 4,
 "nbformat_minor": 5
}
