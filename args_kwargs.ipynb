{
  "cells": [
    {
      "cell_type": "markdown",
      "metadata": {
        "id": "apHGNEgnYFEF"
      },
      "source": [
        "## *args\n",
        "when we are not sure about that how many arguments being passed to the function then we can use the *args as function parameter\n",
        "\n",
        "*args allow us to pass  the variable number of non keyword argument to fucntion\n",
        "\n",
        "the arguments are always as a tuple\n",
        "\n",
        "we can rename it like *param\n",
        "\n",
        "# **kwargs\n",
        "kwargs allows us to pass the variable number of keywords arguments to the function\n",
        "\n",
        "the argument are passed as a dictionary\n",
        "\n",
        "it can be renamed\n",
        "\n"
      ]
    },
    {
      "cell_type": "markdown",
      "metadata": {
        "id": "mod3t9uOgwr7"
      },
      "source": [
        "def myfunc (positional arguments, ***args**, named argument,****kwargs**)"
      ]
    },
    {
      "cell_type": "code",
      "execution_count": null,
      "metadata": {
        "colab": {
          "base_uri": "https://localhost:8080/"
        },
        "id": "2FarpnQ-WJN1",
        "outputId": "1bfa8bab-8124-4e79-c94b-8bb0782fd526"
      },
      "outputs": [
        {
          "name": "stdout",
          "output_type": "stream",
          "text": [
            "60\n"
          ]
        }
      ],
      "source": [
        "def add(a,b,c):\n",
        "  return a+b+c\n",
        "\n",
        "print(add(10,20,30)) #sum of two numbers"
      ]
    },
    {
      "cell_type": "code",
      "execution_count": null,
      "metadata": {
        "colab": {
          "base_uri": "https://localhost:8080/",
          "height": 182
        },
        "id": "q00iOgLYi-eY",
        "outputId": "e30c0778-aa55-481e-ef4e-c04790865b63"
      },
      "outputs": [
        {
          "ename": "TypeError",
          "evalue": "ignored",
          "output_type": "error",
          "traceback": [
            "\u001b[0;31m---------------------------------------------------------------------------\u001b[0m",
            "\u001b[0;31mTypeError\u001b[0m                                 Traceback (most recent call last)",
            "\u001b[0;32m<ipython-input-2-7c4a46812492>\u001b[0m in \u001b[0;36m<cell line: 1>\u001b[0;34m()\u001b[0m\n\u001b[0;32m----> 1\u001b[0;31m \u001b[0mprint\u001b[0m\u001b[0;34m(\u001b[0m\u001b[0madd\u001b[0m\u001b[0;34m(\u001b[0m\u001b[0;36m234\u001b[0m\u001b[0;34m,\u001b[0m\u001b[0;36m45\u001b[0m\u001b[0;34m,\u001b[0m\u001b[0;36m35\u001b[0m\u001b[0;34m,\u001b[0m\u001b[0;36m34\u001b[0m\u001b[0;34m)\u001b[0m\u001b[0;34m)\u001b[0m\u001b[0;34m\u001b[0m\u001b[0;34m\u001b[0m\u001b[0m\n\u001b[0m",
            "\u001b[0;31mTypeError\u001b[0m: add() takes 3 positional arguments but 4 were given"
          ]
        }
      ],
      "source": [
        "print(add(234,45,35,34))"
      ]
    },
    {
      "cell_type": "code",
      "execution_count": null,
      "metadata": {
        "colab": {
          "base_uri": "https://localhost:8080/"
        },
        "id": "bXKnhHaTjhzy",
        "outputId": "e4d94547-523d-4221-b7aa-b49541d0edf3"
      },
      "outputs": [
        {
          "name": "stdout",
          "output_type": "stream",
          "text": [
            "arg1 1\n",
            "arg2 2\n",
            "arg3 3\n"
          ]
        }
      ],
      "source": [
        "def some_args(arg1, arg2, arg3):\n",
        "  print(\"arg1\",arg1)\n",
        "  print(\"arg2\",arg2)\n",
        "  print(\"arg3\",arg3)\n",
        "\n",
        "# my_list = [2,3,4] error\n",
        "my_list = [2,3]\n",
        "some_args(1, *my_list)"
      ]
    },
    {
      "cell_type": "code",
      "execution_count": null,
      "metadata": {
        "colab": {
          "base_uri": "https://localhost:8080/"
        },
        "id": "xou53crklMQZ",
        "outputId": "78c8a234-5bd4-40cc-85be-7f00d579655b"
      },
      "outputs": [
        {
          "name": "stdout",
          "output_type": "stream",
          "text": [
            "6\n"
          ]
        }
      ],
      "source": [
        "def add1(*args):\n",
        "  return sum(args)\n",
        "#*args will take dynamic argument list as tuple\n",
        "print(add(1,2,3))\n",
        "print(add(1,2,3,4))\n",
        "print(add(1,2,3,4,5))"
      ]
    },
    {
      "cell_type": "code",
      "execution_count": null,
      "metadata": {
        "colab": {
          "base_uri": "https://localhost:8080/"
        },
        "id": "9C0efs7Dm4Ip",
        "outputId": "46e89a80-8bf4-4303-f8ee-7727df4836ee"
      },
      "outputs": [
        {
          "name": "stdout",
          "output_type": "stream",
          "text": [
            "arg1 1\n",
            "arg2 (2, 3, 4)\n",
            "arg3 (2, 3, 4)\n",
            "arg3 (2, 3, 4)\n",
            "2\n",
            "3\n",
            "4\n"
          ]
        }
      ],
      "source": [
        "def some_args(arg1, *args):\n",
        "  print(\"arg1\",arg1)\n",
        "  print(\"arg2\",args)\n",
        "  print(\"arg3\",args)\n",
        "  print(\"arg3\",args)\n",
        "  for i in args:\n",
        "    print(i)\n",
        "\n",
        "my_list = [2,3,4]\n",
        "\n",
        "some_args(1, *my_list)"
      ]
    },
    {
      "cell_type": "code",
      "execution_count": null,
      "metadata": {
        "colab": {
          "base_uri": "https://localhost:8080/"
        },
        "id": "QCCEyhjUnmUv",
        "outputId": "7d2b94db-d3d0-4e8b-dd23-40c4f9c6cf88"
      },
      "outputs": [
        {
          "data": {
            "text/plain": [
              "(28, 28)"
            ]
          },
          "execution_count": 9,
          "metadata": {},
          "output_type": "execute_result"
        }
      ],
      "source": [
        "def add1(*args):\n",
        "  return sum(args)\n",
        "\n",
        "list1 = [1,2,3,4,5,6,7]\n",
        "tuple1 = (1,2,3,4,5,6,7)\n",
        "\n",
        "add1(*list1), add1(*tuple1)"
      ]
    },
    {
      "cell_type": "code",
      "execution_count": null,
      "metadata": {
        "colab": {
          "base_uri": "https://localhost:8080/"
        },
        "id": "Xg8e1eo5qqWE",
        "outputId": "afca73f6-7898-4616-c8d4-444eb678ff0c"
      },
      "outputs": [
        {
          "data": {
            "text/plain": [
              "112"
            ]
          },
          "execution_count": 10,
          "metadata": {},
          "output_type": "execute_result"
        }
      ],
      "source": [
        "list1 = [1,2,3,4,5,6,7]\n",
        "list2 = [1,2,3,4,5,6,7]\n",
        "list3 = [1,2,3,4,5,6,7]\n",
        "list4 = [1,2,3,4,5,6,7]\n",
        "\n",
        "add1(*list1, *list2,*list3,*list4) #all four lists are unpacked and add\n"
      ]
    },
    {
      "cell_type": "code",
      "execution_count": null,
      "metadata": {
        "colab": {
          "base_uri": "https://localhost:8080/"
        },
        "id": "5DJytkJirzlr",
        "outputId": "b5fe5d05-d9af-493c-ae0d-5b50e9f8bd62"
      },
      "outputs": [
        {
          "name": "stdout",
          "output_type": "stream",
          "text": [
            "('asif', 324235, 3424, 54, 'india', 'hindi')\n"
          ]
        }
      ],
      "source": [
        "def User_details(*args):\n",
        "  print(args)\n",
        "User_details('asif',324235,3424,54,'india','hindi')"
      ]
    },
    {
      "cell_type": "code",
      "execution_count": null,
      "metadata": {
        "colab": {
          "base_uri": "https://localhost:8080/"
        },
        "id": "Us-vaVL-uBrk",
        "outputId": "3421ddb5-0f48-4cf2-b030-1b1f291c29cc"
      },
      "outputs": [
        {
          "name": "stdout",
          "output_type": "stream",
          "text": [
            "{'name': 'sdf', 'id': 35, 'pincode': 346, 'age': 34, 'country': 'india'}\n"
          ]
        }
      ],
      "source": [
        "def UserDetails(**kwargs):\n",
        "  print(kwargs)\n",
        "\n",
        "UserDetails(name='sdf',id=35, pincode=346, age=34, country='india')"
      ]
    },
    {
      "cell_type": "code",
      "execution_count": null,
      "metadata": {
        "colab": {
          "base_uri": "https://localhost:8080/"
        },
        "id": "0O5A4HZmb9YX",
        "outputId": "cdaf8e8e-7c7b-44cb-e0fe-1d59f9ab2116"
      },
      "outputs": [
        {
          "name": "stdout",
          "output_type": "stream",
          "text": [
            "name sdf\n",
            "id 35\n",
            "pincode 346\n",
            "age 34\n",
            "country india\n"
          ]
        }
      ],
      "source": [
        "def UserDetails(**kwargs):\n",
        "  for key, val in kwargs.items():\n",
        "    print(key,val)\n",
        "\n",
        "UserDetails(name='sdf',id=35, pincode=346, age=34, country='india')"
      ]
    },
    {
      "cell_type": "code",
      "execution_count": null,
      "metadata": {
        "colab": {
          "base_uri": "https://localhost:8080/"
        },
        "id": "whOX04W5dxqb",
        "outputId": "c51f7dca-c11c-41a0-f4ae-7f451e4e055d"
      },
      "outputs": [
        {
          "name": "stdout",
          "output_type": "stream",
          "text": [
            "name asif\n",
            "id 345\n",
            "pincode 3464\n",
            "age 456\n",
            "country sfs\n"
          ]
        }
      ],
      "source": [
        "#using dictionary\n",
        "mydict = {'name':'asif','id':345, 'pincode':3464,'age':456,'country':'sfs'}\n",
        "UserDetails(**mydict)"
      ]
    },
    {
      "cell_type": "code",
      "execution_count": null,
      "metadata": {
        "colab": {
          "base_uri": "https://localhost:8080/"
        },
        "id": "a-9RVt1XfNjP",
        "outputId": "32115b24-b522-43dc-93e2-625a6953bfd9"
      },
      "outputs": [
        {
          "name": "stdout",
          "output_type": "stream",
          "text": [
            "licence No: fvvt\n",
            "full name: asif ali bhat\n",
            "phone number: 876978674\n",
            "name aisf\n",
            "id 435\n",
            "pincode 5464\n",
            "age 33\n",
            "country dfgad\n"
          ]
        }
      ],
      "source": [
        "\n",
        "\n",
        "def UserDetails(licenseNo, *args, phoneNo=0, **kwargs): #using all four argument\n",
        "    print('license No:',licenseNo)\n",
        "    j=''\n",
        "    for i in args:\n",
        "      j = j+i\n",
        "    print('full name:', j)\n",
        "    print('phone number:',phoneNo)\n",
        "    for key, val in kwargs.items():\n",
        "      print(key,val)\n",
        "\n",
        "name = ['asif',' ', 'ali',' ', 'bhat']\n",
        "mydict = {'name':'aisf','id':435, 'pincode':5464, 'age':33, 'country':'dfgad'}\n",
        "\n",
        "UserDetails('fvvt', *name, phoneNo=876978674, **mydict)"
      ]
    },
    {
      "cell_type": "code",
      "execution_count": null,
      "metadata": {
        "colab": {
          "base_uri": "https://localhost:8080/",
          "height": 163
        },
        "id": "Aye4dCQek7RE",
        "outputId": "128fdb3a-81c6-4cb8-85e1-f17ef6c9068e"
      },
      "outputs": [
        {
          "ename": "SyntaxError",
          "evalue": "ignored",
          "output_type": "error",
          "traceback": [
            "\u001b[0;36m  File \u001b[0;32m\"<ipython-input-6-a086a3bef41d>\"\u001b[0;36m, line \u001b[0;32m1\u001b[0m\n\u001b[0;31m    def UserDetails(licenseNo, **kwargs, *args): #this will fail *args must come bofore **args\u001b[0m\n\u001b[0m                                         ^\u001b[0m\n\u001b[0;31mSyntaxError\u001b[0m\u001b[0;31m:\u001b[0m invalid syntax\n"
          ]
        }
      ],
      "source": [
        "def UserDetails(licenseNo, **kwargs, *args): #this will fail *args must come before **args\n",
        "    print('nothing')"
      ]
    },
    {
      "cell_type": "code",
      "execution_count": null,
      "metadata": {
        "colab": {
          "base_uri": "https://localhost:8080/",
          "height": 145
        },
        "id": "eMg5AbK5pWVz",
        "outputId": "70dce3c4-3ccf-4e57-eb64-0c38d87718c8"
      },
      "outputs": [
        {
          "ename": "SyntaxError",
          "evalue": "ignored",
          "output_type": "error",
          "traceback": [
            "\u001b[0;36m  File \u001b[0;32m\"<ipython-input-7-3c5d775fd3c1>\"\u001b[0;36m, line \u001b[0;32m2\u001b[0m\n\u001b[0;31m    def UserDetails(id=1, licenseNo, *args):\u001b[0m\n\u001b[0m                          ^\u001b[0m\n\u001b[0;31mSyntaxError\u001b[0m\u001b[0;31m:\u001b[0m non-default argument follows default argument\n"
          ]
        }
      ],
      "source": [
        "#the below function will fail. Default argument/positional  argument (license) must come after positional argument\n",
        "def UserDetails(id=1, licenseNo, *args):\n",
        "  print('nothing')\n"
      ]
    },
    {
      "cell_type": "code",
      "execution_count": null,
      "metadata": {
        "id": "uyFGB27gqnnn"
      },
      "outputs": [],
      "source": []
    }
  ],
  "metadata": {
    "colab": {
      "provenance": []
    },
    "kernelspec": {
      "display_name": "Python 3",
      "name": "python3"
    },
    "language_info": {
      "name": "python"
    }
  },
  "nbformat": 4,
  "nbformat_minor": 0
}
