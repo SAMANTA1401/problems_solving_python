{
 "cells": [
  {
   "cell_type": "code",
   "execution_count": 2,
   "id": "15167732",
   "metadata": {},
   "outputs": [],
   "source": [
    " graph = {\n",
    "    'A': {'B': 1, 'C': 4},\n",
    "    'B': {'A': 1, 'C': 2, 'D': 5},\n",
    "    'C': {'A': 4, 'B': 2, 'D': 1},\n",
    "    'D': {'B': 5, 'C': 1}\n",
    " }"
   ]
  },
  {
   "cell_type": "code",
   "execution_count": 3,
   "id": "6c4dfee6",
   "metadata": {},
   "outputs": [],
   "source": [
    "distances = {node: float('infinity') for node in graph}"
   ]
  },
  {
   "cell_type": "code",
   "execution_count": 4,
   "id": "ca3fd337",
   "metadata": {},
   "outputs": [
    {
     "data": {
      "text/plain": [
       "{'A': inf, 'B': inf, 'C': inf, 'D': inf}"
      ]
     },
     "execution_count": 4,
     "metadata": {},
     "output_type": "execute_result"
    }
   ],
   "source": [
    "distances"
   ]
  },
  {
   "cell_type": "code",
   "execution_count": 6,
   "id": "b190a21c",
   "metadata": {},
   "outputs": [],
   "source": [
    "start = 'A'"
   ]
  },
  {
   "cell_type": "code",
   "execution_count": 7,
   "id": "870c68a8",
   "metadata": {},
   "outputs": [],
   "source": [
    "distances[start] = 0\n",
    "priority_queue = [(0, start)]  # (distance, node)"
   ]
  },
  {
   "cell_type": "code",
   "execution_count": 9,
   "id": "6f92dc2c",
   "metadata": {},
   "outputs": [],
   "source": [
    "import heapq"
   ]
  },
  {
   "cell_type": "code",
   "execution_count": 10,
   "id": "04577291",
   "metadata": {},
   "outputs": [],
   "source": [
    "current_distance, current_node = heapq.heappop(priority_queue)"
   ]
  },
  {
   "cell_type": "code",
   "execution_count": 11,
   "id": "65eaaf2f",
   "metadata": {},
   "outputs": [
    {
     "data": {
      "text/plain": [
       "0"
      ]
     },
     "execution_count": 11,
     "metadata": {},
     "output_type": "execute_result"
    }
   ],
   "source": [
    "current_distance"
   ]
  },
  {
   "cell_type": "code",
   "execution_count": 12,
   "id": "06cc9857",
   "metadata": {},
   "outputs": [
    {
     "data": {
      "text/plain": [
       "'A'"
      ]
     },
     "execution_count": 12,
     "metadata": {},
     "output_type": "execute_result"
    }
   ],
   "source": [
    "current_node"
   ]
  },
  {
   "cell_type": "code",
   "execution_count": null,
   "id": "3e4a8ac8",
   "metadata": {},
   "outputs": [],
   "source": [
    "while priority_queue:\n",
    "        current_distance, current_node = heapq.heappop(priority_queue)\n",
    "        # If the popped node's distance is greater than the known shortest distance, \n",
    "        if current_distance > distances[current_node]:\n",
    "            continue\n",
    "        # Explore neighbors\n",
    "        for neighbor, weight in graph[current_node].items():\n",
    "            distance = current_distance + weight\n",
    "            # If found a shorter path to the neighbor, update it\n",
    "            if distance < distances[neighbor]:\n",
    "                distances[neighbor] = distance\n",
    "                heapq.heappush(priority_queue, (distance, neighbor))\n",
    "    return distances"
   ]
  }
 ],
 "metadata": {
  "kernelspec": {
   "display_name": "Python 3",
   "language": "python",
   "name": "python3"
  },
  "language_info": {
   "codemirror_mode": {
    "name": "ipython",
    "version": 3
   },
   "file_extension": ".py",
   "mimetype": "text/x-python",
   "name": "python",
   "nbconvert_exporter": "python",
   "pygments_lexer": "ipython3",
   "version": "3.11.0"
  }
 },
 "nbformat": 4,
 "nbformat_minor": 5
}
