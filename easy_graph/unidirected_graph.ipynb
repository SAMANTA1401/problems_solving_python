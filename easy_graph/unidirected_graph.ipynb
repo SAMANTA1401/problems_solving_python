{
 "cells": [
  {
   "cell_type": "code",
   "execution_count": 1,
   "metadata": {},
   "outputs": [],
   "source": [
    "import sys\n",
    "from queue import Queue"
   ]
  },
  {
   "cell_type": "code",
   "execution_count": 26,
   "metadata": {},
   "outputs": [],
   "source": [
    "class Vertex:\n",
    "    def __init__(self, node):\n",
    "        self.id = node\n",
    "        self.adjacent = {}\n",
    "        # Set distance to infinity for all nodes\n",
    "        self.distance = sys.maxsize\n",
    "        # Mark all nodes unvisited        \n",
    "        self.visited = False\n",
    "        # Mark all nodes color with white        \n",
    "        self.color = 'white'      \n",
    "        # Predecessor\n",
    "        self.previous = None\n",
    "        \n",
    "    def addNeighbor(self, neighbor, weight=0):\n",
    "        self.adjacent[neighbor] = weight\n",
    "        \n",
    "    def getConnections(self):\n",
    "        return self.adjacent.keys() \n",
    "    \n",
    "    def getVertexID(self):\n",
    "        return self.id\n",
    "    \n",
    "    def getWeight(self, neighbor):\n",
    "        return self.adjacent[neighbor]\n",
    "    \n",
    "    def setDistance(self, dist):\n",
    "        self.distance = dist\n",
    "        \n",
    "    def getDistance(self):\n",
    "        return self.distance\n",
    "    \n",
    "    def setColor(self, color):\n",
    "        self.color = color\n",
    "        \n",
    "    def getColor(self):\n",
    "        return self.color\n",
    "    \n",
    "    def setPrevious(self, prev):\n",
    "        self.previous = prev\n",
    "        \n",
    "    def setVisited(self):\n",
    "        self.visited = True\n",
    "        \n",
    "    def __str__(self):\n",
    "        return str(self.id) + ' adjacent: ' + str([x.id for x in self.adjacent])"
   ]
  },
  {
   "cell_type": "code",
   "execution_count": null,
   "metadata": {},
   "outputs": [],
   "source": [
    "#           +---------------+\n",
    "#           |  Vertex Class  |\n",
    "#           +---------------+\n",
    "#                   |\n",
    "#                   |\n",
    "#                   v\n",
    "# +---------------------------------------+\n",
    "# |  Attributes                         |\n",
    "# +---------------------------------------+\n",
    "# |  - id (unique identifier)         |\n",
    "# |  - adjacent (dictionary of        |\n",
    "# |    neighboring vertices and weights) |\n",
    "# |  - distance (distance from source) |\n",
    "# |  - visited (boolean flag)         |\n",
    "# |  - color (string attribute)       |\n",
    "# |  - previous (reference to previous |\n",
    "# |    vertex in traversal path)      |\n",
    "# +---------------------------------------+\n",
    "#                   |\n",
    "#                   |\n",
    "#                   v\n",
    "# +---------------------------------------+\n",
    "# |  Methods                            |\n",
    "# +---------------------------------------+\n",
    "# |  - __init__ (constructor)         |\n",
    "# |  - addNeighbor (add neighboring    |\n",
    "# |    vertex and weight)              |\n",
    "# |  - getConnections (get neighboring  |\n",
    "# |    vertices)                        |\n",
    "# |  - getVertexID (get vertex ID)    |\n",
    "# |  - getWeight (get weight of edge)  |\n",
    "# |  - setDistance (set distance)      |\n",
    "# |  - getDistance (get distance)      |\n",
    "# |  - setColor (set color)            |\n",
    "# |  - getColor (get color)            |\n",
    "# |  - setPrevious (set previous vertex) |\n",
    "# |  - setVisited (set visited flag)  |\n",
    "# |  - __str__ (string representation) |\n",
    "# +---------------------------------------+"
   ]
  },
  {
   "cell_type": "code",
   "execution_count": null,
   "metadata": {},
   "outputs": [],
   "source": [
    "#           +---------------+\n",
    "#           |  Vertex A     |\n",
    "#           +---------------+\n",
    "#                   |\n",
    "#                   |\n",
    "#                   v\n",
    "# +---------------------------------------+\n",
    "# |  Attributes                         |\n",
    "# +---------------------------------------+\n",
    "# |  - id: A                           |\n",
    "# |  - adjacent: {B: 2, C: 3}       |\n",
    "# |  - distance: infinity              |\n",
    "# |  - visited: False                   |\n",
    "# |  - color: white                     |\n",
    "# |  - previous: None                   |\n",
    "# +---------------------------------------+\n",
    "\n",
    "#           +---------------+\n",
    "#           |  Vertex B     |\n",
    "#           +---------------+\n",
    "#                   |\n",
    "#                   |\n",
    "#                   v\n",
    "# +---------------------------------------+\n",
    "# |  Attributes                         |\n",
    "# +---------------------------------------+\n",
    "# |  - id: B                           |\n",
    "# |  - adjacent: {A: 2, D: 4}       |\n",
    "# |  - distance: infinity              |\n",
    "# |  - visited: False                   |\n",
    "# |  - color: white                     |\n",
    "# |  - previous: None                   |\n",
    "# +---------------------------------------+\n",
    "\n",
    "#           +---------------+\n",
    "#           |  Vertex C     |\n",
    "#           +---------------+\n",
    "#                   |\n",
    "#                   |\n",
    "#                   v\n",
    "# +---------------------------------------+\n",
    "# |  Attributes                         |\n",
    "# +---------------------------------------+\n",
    "# |  - id: C                           |\n",
    "# |  - adjacent: {A: 3, F: 5}       |\n",
    "# |  - distance: infinity              |\n",
    "# |  - visited: False                   |\n",
    "# |  - color: white                     |\n",
    "# |  - previous: None                   |\n",
    "# +---------------------------------------+"
   ]
  },
  {
   "cell_type": "code",
   "execution_count": 27,
   "metadata": {},
   "outputs": [],
   "source": [
    "class Graph:\n",
    "    def __init__(self):\n",
    "        self.vertDictionary = {}\n",
    "        self.numVertices = 0\n",
    "        \n",
    "    def __iter__(self):\n",
    "        return iter(self.vertDictionary.values())\n",
    "    \n",
    "    def addVertex(self, node):\n",
    "        self.numVertices = self.numVertices + 1\n",
    "        newVertex = Vertex(node)\n",
    "        self.vertDictionary[node] = newVertex\n",
    "        return newVertex\n",
    "    \n",
    "    def getVertex(self, n):\n",
    "        if n in self.vertDictionary:\n",
    "            return self.vertDictionary[n]\n",
    "        else:\n",
    "            return None\n",
    "        \n",
    "        \n",
    "    def addEdge(self, frm, to, cost=0):\n",
    "        if frm not in self.vertDictionary:\n",
    "            self.addVertex(frm)\n",
    "        if to not in self.vertDictionary:\n",
    "            self.addVertex(to)\n",
    "\n",
    "    "
   ]
  },
  {
   "cell_type": "code",
   "execution_count": 5,
   "metadata": {},
   "outputs": [],
   "source": [
    "edges = [[0, 1], [1, 2], [3, 4]]"
   ]
  },
  {
   "cell_type": "code",
   "execution_count": 6,
   "metadata": {},
   "outputs": [],
   "source": [
    "G = Graph()\n",
    "for entries in edges:\n",
    "    G.addEdge(entries[0], entries[1], 1)"
   ]
  },
  {
   "cell_type": "code",
   "execution_count": 11,
   "metadata": {},
   "outputs": [
    {
     "data": {
      "text/plain": [
       "<__main__.Vertex at 0x21f24ece750>"
      ]
     },
     "execution_count": 11,
     "metadata": {},
     "output_type": "execute_result"
    }
   ],
   "source": [
    "G.getVertex(0)"
   ]
  },
  {
   "cell_type": "code",
   "execution_count": 12,
   "metadata": {},
   "outputs": [
    {
     "data": {
      "text/plain": [
       "{0: <__main__.Vertex at 0x21f24ece750>,\n",
       " 1: <__main__.Vertex at 0x21f24eb6010>,\n",
       " 2: <__main__.Vertex at 0x21f24eb4450>,\n",
       " 3: <__main__.Vertex at 0x21f24ec9990>,\n",
       " 4: <__main__.Vertex at 0x21f24ec9910>}"
      ]
     },
     "execution_count": 12,
     "metadata": {},
     "output_type": "execute_result"
    }
   ],
   "source": [
    "G.vertDictionary"
   ]
  },
  {
   "cell_type": "code",
   "execution_count": 14,
   "metadata": {},
   "outputs": [
    {
     "data": {
      "text/plain": [
       "0"
      ]
     },
     "execution_count": 14,
     "metadata": {},
     "output_type": "execute_result"
    }
   ],
   "source": [
    "G.getVertex(0).getVertexID()"
   ]
  },
  {
   "cell_type": "code",
   "execution_count": 15,
   "metadata": {},
   "outputs": [
    {
     "data": {
      "text/plain": [
       "1"
      ]
     },
     "execution_count": 15,
     "metadata": {},
     "output_type": "execute_result"
    }
   ],
   "source": [
    "G.getVertex(1).getVertexID()"
   ]
  },
  {
   "cell_type": "code",
   "execution_count": 16,
   "metadata": {},
   "outputs": [],
   "source": [
    "G.getVertex(0).addNeighbor(G.getVertex(1),1)"
   ]
  },
  {
   "cell_type": "code",
   "execution_count": 18,
   "metadata": {},
   "outputs": [
    {
     "data": {
      "text/plain": [
       "dict_keys([<__main__.Vertex object at 0x0000021F24EB6010>])"
      ]
     },
     "execution_count": 18,
     "metadata": {},
     "output_type": "execute_result"
    }
   ],
   "source": [
    "G.getVertex(0).getConnections()"
   ]
  },
  {
   "cell_type": "code",
   "execution_count": 19,
   "metadata": {},
   "outputs": [
    {
     "data": {
      "text/plain": [
       "{<__main__.Vertex at 0x21f24eb6010>: 1}"
      ]
     },
     "execution_count": 19,
     "metadata": {},
     "output_type": "execute_result"
    }
   ],
   "source": [
    "G.getVertex(0).adjacent"
   ]
  },
  {
   "cell_type": "code",
   "execution_count": 21,
   "metadata": {},
   "outputs": [
    {
     "name": "stdout",
     "output_type": "stream",
     "text": [
      "0 adjacent: [1]\n"
     ]
    }
   ],
   "source": [
    "print(G.getVertex(0))"
   ]
  },
  {
   "cell_type": "code",
   "execution_count": 28,
   "metadata": {},
   "outputs": [],
   "source": [
    "class Solution(object):\n",
    "    def countComponents(self, n, edges):\n",
    "        \"\"\"\n",
    "        :type n: int\n",
    "        :type edges: List[List[int]]\n",
    "        :rtype: int\n",
    "        \"\"\"\n",
    "        if n == 1 and edges == []:\n",
    "            return 1\n",
    "        else:\n",
    "            G = Graph()\n",
    "            for entries in edges:\n",
    "                G.addEdge(entries[0], entries[1], 1)\n",
    "            count = 0\n",
    "            for vertex in G:\n",
    "                if vertex.getColor() == \"white\":\n",
    "                    count += 1\n",
    "                    self.bfs(vertex)\n",
    "                    \n",
    "            return count\n",
    "\n",
    "    def bfs(self, vertex):\n",
    "        vertex.setColor(\"gray\")\n",
    "        q = Queue()\n",
    "        q.put(vertex)\n",
    "        while q.empty() == False:\n",
    "            curr_node = q.get()\n",
    "            for nbr in curr_node.getConnections(): # nbr = neighbours\n",
    "                if nbr.getColor() == \"white\":\n",
    "                    nbr.setColor(\"gray\")\n",
    "                    q.put(nbr)\n",
    "            curr_node.setColor(\"black\")"
   ]
  },
  {
   "cell_type": "code",
   "execution_count": null,
   "metadata": {},
   "outputs": [],
   "source": [
    "# This is a Breadth-First Search (BFS) algorithm implemented in Python. Here's a breakdown of the code:\n",
    "# Purpose:\n",
    "# The purpose of this function is to traverse a graph or network starting from a given vertex, exploring all the nodes level by level.\n",
    "# Parameters:\n",
    "# self: A reference to the instance of the class.\n",
    "# vertex: The starting vertex for the BFS traversal.\n",
    "# Step-by-Step Explanation:\n",
    "# Initialization:\n",
    "# vertex.setColor(\"gray\"): Marks the starting vertex as gray, indicating that it's been visited but its neighbors haven't been explored yet.\n",
    "# q = Queue(): Creates an empty queue to store vertices to be visited.\n",
    "# q.put(vertex): Adds the starting vertex to the queue.\n",
    "# Traversal Loop:\n",
    "# while q.empty() == False: Continues the loop until the queue is empty.\n",
    "# curr_node = q.get(): Dequeues the next vertex to be visited.\n",
    "# Neighbor Exploration:\n",
    "# for nbr in curr_node.getConnections(): Iterates over the neighbors of the current vertex.\n",
    "# if nbr.getColor() == \"white\": Checks if the neighbor has not been visited before (i.e., its color is white).\n",
    "# nbr.setColor(\"gray\"): Marks the neighbor as gray, indicating that it's been visited but its neighbors haven't been explored yet.\n",
    "# q.put(nbr): Adds the neighbor to the queue for further exploration.\n",
    "# Vertex Marking:\n",
    "# curr_node.setColor(\"black\"): Marks the current vertex as black, indicating that it's been fully explored.\n",
    "# Example Use Case:\n",
    "# Suppose we have a graph with vertices A, B, C, D, and E, where:\n",
    "# A is connected to B and C.\n",
    "# B is connected to D.\n",
    "# C is connected to E.\n",
    "# If we call bfs(A), the algorithm will traverse the graph in the following order:\n",
    "# A (gray)\n",
    "# B (gray)\n",
    "# C (gray)\n",
    "# D (gray)\n",
    "# E (gray)\n",
    "# After the traversal, all vertices will be marked as black."
   ]
  },
  {
   "cell_type": "code",
   "execution_count": 29,
   "metadata": {},
   "outputs": [
    {
     "name": "stdout",
     "output_type": "stream",
     "text": [
      "5\n"
     ]
    }
   ],
   "source": [
    "n = 5\n",
    "edges1 = [[0, 1], [1, 2], [3, 4]]\n",
    "edges2 = [[0, 1], [1, 2], [2, 3], [3, 4]]\n",
    "soln = Solution()\n",
    "print(soln.countComponents(n, edges1))\n",
    "# print(soln.countComponents(n, edges2))"
   ]
  }
 ],
 "metadata": {
  "kernelspec": {
   "display_name": "Python 3",
   "language": "python",
   "name": "python3"
  },
  "language_info": {
   "codemirror_mode": {
    "name": "ipython",
    "version": 3
   },
   "file_extension": ".py",
   "mimetype": "text/x-python",
   "name": "python",
   "nbconvert_exporter": "python",
   "pygments_lexer": "ipython3",
   "version": "3.11.0"
  }
 },
 "nbformat": 4,
 "nbformat_minor": 2
}
