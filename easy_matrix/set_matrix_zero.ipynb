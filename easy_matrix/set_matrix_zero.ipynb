{
 "cells": [
  {
   "cell_type": "code",
   "execution_count": null,
   "metadata": {},
   "outputs": [],
   "source": [
    "# First, we will use two loops(nested loops) to traverse all the cells of the matrix.\n",
    "# If any cell (i,j) contains the value 0, we will mark all cells in row i and column j with -1 except those which contain 0.\n",
    "# We will perform step 2 for every cell containing 0.\n",
    "# Finally, we will mark all the cells containing -1 with 0.\n",
    "# Thus the given matrix will be modified according to the question."
   ]
  },
  {
   "cell_type": "code",
   "execution_count": null,
   "metadata": {},
   "outputs": [],
   "source": [
    "#  we will again find 0 at cell (1, 2). But this cell was initially 1, not 0. And only those cells which were initially 0 should modify the rows and columns. In this case, we will eventually mark the wrong rows and columns with 0. That is why we cannot mark the cells directly with 0. We have to choose a different number.\n",
    "# As in this case, we are assuming that the matrix does not contain any negative numbers, we are choosing -1 as our marker.\n"
   ]
  },
  {
   "cell_type": "code",
   "execution_count": 1,
   "metadata": {},
   "outputs": [],
   "source": [
    "def markRow(matrix, n, m, i):\n",
    "    # set all non-zero elements as -1 in the row i:\n",
    "    for j in range(m):\n",
    "        if matrix[i][j] != 0:\n",
    "            matrix[i][j] = -1"
   ]
  },
  {
   "cell_type": "code",
   "execution_count": 2,
   "metadata": {},
   "outputs": [],
   "source": [
    "matrix = [[1, 1, 1], \n",
    "          [1, 0, 1], \n",
    "          [1, 1, 1]]\n",
    "n = len(matrix)\n",
    "m = len(matrix[0])"
   ]
  },
  {
   "cell_type": "code",
   "execution_count": 3,
   "metadata": {},
   "outputs": [],
   "source": [
    "for i in range(n):\n",
    "        for j in range(m):\n",
    "            if matrix[i][j] == 0:\n",
    "                markRow(matrix, n, m, i)\n",
    "                "
   ]
  },
  {
   "cell_type": "code",
   "execution_count": 4,
   "metadata": {},
   "outputs": [
    {
     "data": {
      "text/plain": [
       "[[1, 1, 1], [-1, 0, -1], [1, 1, 1]]"
      ]
     },
     "execution_count": 4,
     "metadata": {},
     "output_type": "execute_result"
    }
   ],
   "source": [
    "matrix"
   ]
  },
  {
   "cell_type": "code",
   "execution_count": 5,
   "metadata": {},
   "outputs": [],
   "source": [
    "def markCol(matrix, n, m, j):\n",
    "    # set all non-zero elements as -1 in the col j:\n",
    "    for i in range(n):\n",
    "        if matrix[i][j] != 0:\n",
    "            matrix[i][j] = -1"
   ]
  },
  {
   "cell_type": "code",
   "execution_count": 6,
   "metadata": {},
   "outputs": [],
   "source": [
    "for i in range(n):\n",
    "        for j in range(m):\n",
    "            if matrix[i][j] == 0:\n",
    "                # markRow(matrix, n, m, i)\n",
    "                markCol(matrix, n, m, j)"
   ]
  },
  {
   "cell_type": "code",
   "execution_count": 7,
   "metadata": {},
   "outputs": [
    {
     "data": {
      "text/plain": [
       "[[1, -1, 1], [-1, 0, -1], [1, -1, 1]]"
      ]
     },
     "execution_count": 7,
     "metadata": {},
     "output_type": "execute_result"
    }
   ],
   "source": [
    "matrix"
   ]
  },
  {
   "cell_type": "code",
   "execution_count": 8,
   "metadata": {},
   "outputs": [],
   "source": [
    " # Finally, mark all -1 as 0:\n",
    "for i in range(n):\n",
    "    for j in range(m):\n",
    "        if matrix[i][j] == -1:\n",
    "            matrix[i][j] = 0"
   ]
  },
  {
   "cell_type": "code",
   "execution_count": 9,
   "metadata": {},
   "outputs": [
    {
     "data": {
      "text/plain": [
       "[[1, 0, 1], [0, 0, 0], [1, 0, 1]]"
      ]
     },
     "execution_count": 9,
     "metadata": {},
     "output_type": "execute_result"
    }
   ],
   "source": [
    "matrix"
   ]
  },
  {
   "cell_type": "code",
   "execution_count": 10,
   "metadata": {},
   "outputs": [],
   "source": [
    "def markRow(matrix, n, m, i):\n",
    "    # set all non-zero elements as -1 in the row i:\n",
    "    for j in range(m):\n",
    "        if matrix[i][j] != 0:\n",
    "            matrix[i][j] = -1\n",
    "\n",
    "def markCol(matrix, n, m, j):\n",
    "    # set all non-zero elements as -1 in the col j:\n",
    "    for i in range(n):\n",
    "        if matrix[i][j] != 0:\n",
    "            matrix[i][j] = -1\n",
    "\n",
    "def zeroMatrix(matrix, n, m):\n",
    "    # Set -1 for rows and cols\n",
    "    # that contains 0. Don't mark any 0 as -1:\n",
    "    for i in range(n):\n",
    "        for j in range(m):\n",
    "            if matrix[i][j] == 0:\n",
    "                markRow(matrix, n, m, i)\n",
    "                markCol(matrix, n, m, j)\n",
    "    \n",
    "    # Finally, mark all -1 as 0:\n",
    "    for i in range(n):\n",
    "        for j in range(m):\n",
    "            if matrix[i][j] == -1:\n",
    "                matrix[i][j] = 0\n",
    "    \n",
    "    return matrix\n",
    "\n",
    "\n",
    "\n",
    "\t\n"
   ]
  },
  {
   "cell_type": "code",
   "execution_count": 11,
   "metadata": {},
   "outputs": [
    {
     "name": "stdout",
     "output_type": "stream",
     "text": [
      "The Final matrix is:\n",
      "1 0 1 \n",
      "0 0 0 \n",
      "1 0 1 \n"
     ]
    }
   ],
   "source": [
    "matrix = [[1, 1, 1], [1, 0, 1], [1, 1, 1]]\n",
    "n = len(matrix)\n",
    "m = len(matrix[0])\n",
    "ans = zeroMatrix(matrix, n, m)\n",
    "\n",
    "print(\"The Final matrix is:\")\n",
    "for row in ans:\n",
    "\tfor ele in row:\n",
    "\t\tprint(ele, end=\" \")\n",
    "\tprint()"
   ]
  },
  {
   "cell_type": "markdown",
   "metadata": {},
   "source": [
    "Time Complexity: O((N*M)*(N + M)) + O(N*M), where N = no. of rows in the matrix and M = no. of columns in the matrix.\n",
    "Reason: Firstly, we are traversing the matrix to find the cells with the value 0. It takes O(N*M). Now, whenever we find any such cell we mark that row and column with -1. This process takes O(N+M). So, combining this the whole process, finding and marking, takes O((N*M)*(N + M)).\n",
    "Another O(N*M) is taken to mark all the cells with -1 as 0 finally.\n",
    "\n",
    "Space Complexity: O(1) as we are not using any extra space."
   ]
  },
  {
   "cell_type": "markdown",
   "metadata": {},
   "source": [
    "better:"
   ]
  },
  {
   "cell_type": "code",
   "execution_count": 15,
   "metadata": {},
   "outputs": [],
   "source": [
    "matrix = [[1, 1, 1], [1, 0, 1], [1, 1, 1]]\n",
    "n = len(matrix)\n",
    "m = len(matrix[0])"
   ]
  },
  {
   "cell_type": "markdown",
   "metadata": {},
   "source": [
    "row no"
   ]
  },
  {
   "cell_type": "code",
   "execution_count": 12,
   "metadata": {},
   "outputs": [],
   "source": [
    "row = [0] * n  # row array\n",
    "col = [0] * m  # col array"
   ]
  },
  {
   "cell_type": "code",
   "execution_count": 13,
   "metadata": {},
   "outputs": [
    {
     "data": {
      "text/plain": [
       "[0, 0, 0]"
      ]
     },
     "execution_count": 13,
     "metadata": {},
     "output_type": "execute_result"
    }
   ],
   "source": [
    "row"
   ]
  },
  {
   "cell_type": "code",
   "execution_count": 14,
   "metadata": {},
   "outputs": [
    {
     "data": {
      "text/plain": [
       "[0, 0, 0]"
      ]
     },
     "execution_count": 14,
     "metadata": {},
     "output_type": "execute_result"
    }
   ],
   "source": [
    "col"
   ]
  },
  {
   "cell_type": "code",
   "execution_count": 16,
   "metadata": {},
   "outputs": [
    {
     "data": {
      "text/plain": [
       "[[1, 1, 1], [1, 0, 1], [1, 1, 1]]"
      ]
     },
     "execution_count": 16,
     "metadata": {},
     "output_type": "execute_result"
    }
   ],
   "source": [
    "matrix"
   ]
  },
  {
   "cell_type": "code",
   "execution_count": 17,
   "metadata": {},
   "outputs": [],
   "source": [
    "# Traverse the matrix:\n",
    "for i in range(n):\n",
    "    for j in range(m):\n",
    "        if matrix[i][j] == 0:\n",
    "            # mark ith index of row wih 1:\n",
    "            row[i] = 1\n",
    "\n",
    "            # mark jth index of col wih 1:\n",
    "            col[j] = 1"
   ]
  },
  {
   "cell_type": "code",
   "execution_count": 18,
   "metadata": {},
   "outputs": [
    {
     "data": {
      "text/plain": [
       "[[1, 1, 1], [1, 0, 1], [1, 1, 1]]"
      ]
     },
     "execution_count": 18,
     "metadata": {},
     "output_type": "execute_result"
    }
   ],
   "source": [
    "matrix"
   ]
  },
  {
   "cell_type": "code",
   "execution_count": 20,
   "metadata": {},
   "outputs": [
    {
     "data": {
      "text/plain": [
       "[0, 1, 0]"
      ]
     },
     "execution_count": 20,
     "metadata": {},
     "output_type": "execute_result"
    }
   ],
   "source": [
    "row"
   ]
  },
  {
   "cell_type": "code",
   "execution_count": 21,
   "metadata": {},
   "outputs": [
    {
     "data": {
      "text/plain": [
       "[0, 1, 0]"
      ]
     },
     "execution_count": 21,
     "metadata": {},
     "output_type": "execute_result"
    }
   ],
   "source": [
    "col"
   ]
  },
  {
   "cell_type": "code",
   "execution_count": 22,
   "metadata": {},
   "outputs": [],
   "source": [
    "# Finally, mark all (i, j) as 0\n",
    "# if row[i] or col[j] is marked with 1.\n",
    "for i in range(n):\n",
    "    for j in range(m):\n",
    "        if row[i] or col[j]:\n",
    "            matrix[i][j] = 0"
   ]
  },
  {
   "cell_type": "code",
   "execution_count": 23,
   "metadata": {},
   "outputs": [
    {
     "data": {
      "text/plain": [
       "[[1, 0, 1], [0, 0, 0], [1, 0, 1]]"
      ]
     },
     "execution_count": 23,
     "metadata": {},
     "output_type": "execute_result"
    }
   ],
   "source": [
    "matrix"
   ]
  },
  {
   "cell_type": "code",
   "execution_count": 33,
   "metadata": {},
   "outputs": [
    {
     "data": {
      "text/plain": [
       "0"
      ]
     },
     "execution_count": 33,
     "metadata": {},
     "output_type": "execute_result"
    }
   ],
   "source": [
    "row[0] or col[0]"
   ]
  },
  {
   "cell_type": "code",
   "execution_count": 31,
   "metadata": {},
   "outputs": [
    {
     "data": {
      "text/plain": [
       "1"
      ]
     },
     "execution_count": 31,
     "metadata": {},
     "output_type": "execute_result"
    }
   ],
   "source": [
    "row[0] or col[1]"
   ]
  },
  {
   "cell_type": "code",
   "execution_count": 32,
   "metadata": {},
   "outputs": [
    {
     "data": {
      "text/plain": [
       "1"
      ]
     },
     "execution_count": 32,
     "metadata": {},
     "output_type": "execute_result"
    }
   ],
   "source": [
    "row[1] or col[1]"
   ]
  },
  {
   "cell_type": "code",
   "execution_count": null,
   "metadata": {},
   "outputs": [],
   "source": [
    "# In the previous approach, we were marking the cells with -1 while traversing the matrix. But in this approach, \n",
    "# we are not marking the entire row and column instead, we are marking the ith index of row array i.e. row[i], and jth \n",
    "# index of col array i.e. col[j] with 1. These marked indices of the two arrays, row and col will tell us for which rows and \n",
    "# columns we need to change the values to 0. For any cell (i, j), if the row[i] or col[j] is marked with 1, we will change the\n",
    "# value of cell(i, j) to 0.\n",
    "\n",
    "# Here we are marking the cells after traversal whereas in the previous case, we were marking the cells while traversal. \n",
    "# That is how the time complexity reduces in this case."
   ]
  },
  {
   "cell_type": "code",
   "execution_count": 24,
   "metadata": {},
   "outputs": [],
   "source": [
    "\n",
    "def zeroMatrix(matrix, n, m):\n",
    "    row = [0] * n  # row array\n",
    "    col = [0] * m  # col array\n",
    "\n",
    "    # Traverse the matrix:\n",
    "    for i in range(n):\n",
    "        for j in range(m):\n",
    "            if matrix[i][j] == 0:\n",
    "                # mark ith index of row wih 1:\n",
    "                row[i] = 1\n",
    "\n",
    "                # mark jth index of col wih 1:\n",
    "                col[j] = 1\n",
    "\n",
    "    # Finally, mark all (i, j) as 0\n",
    "    # if row[i] or col[j] is marked with 1.\n",
    "    for i in range(n):\n",
    "        for j in range(m):\n",
    "            if row[i] or col[j]:\n",
    "                matrix[i][j] = 0\n",
    "\n",
    "    return matrix"
   ]
  },
  {
   "cell_type": "code",
   "execution_count": 27,
   "metadata": {},
   "outputs": [],
   "source": [
    "matrix = [[1, 1, 1], [1, 0, 1], [1, 1, 1]]\n",
    "n = len(matrix)\n",
    "m = len(matrix[0])"
   ]
  },
  {
   "cell_type": "code",
   "execution_count": 28,
   "metadata": {},
   "outputs": [],
   "source": [
    "ans = zeroMatrix(matrix, n, m)"
   ]
  },
  {
   "cell_type": "code",
   "execution_count": 29,
   "metadata": {},
   "outputs": [
    {
     "data": {
      "text/plain": [
       "[[1, 0, 1], [0, 0, 0], [1, 0, 1]]"
      ]
     },
     "execution_count": 29,
     "metadata": {},
     "output_type": "execute_result"
    }
   ],
   "source": [
    "ans"
   ]
  },
  {
   "cell_type": "markdown",
   "metadata": {},
   "source": [
    "Time Complexity: O(2*(N*M)), where N = no. of rows in the matrix and M = no. of columns in the matrix.\n",
    "Reason: We are traversing the entire matrix 2 times and each traversal is taking O(N*M) time complexity.\n",
    "\n",
    "Space Complexity: O(N) + O(M), where N = no. of rows in the matrix and M = no. of columns in the matrix.\n",
    "Reason: O(N) is for using the row array and O(M) is for using the col array."
   ]
  },
  {
   "cell_type": "code",
   "execution_count": 38,
   "metadata": {},
   "outputs": [],
   "source": [
    "matrix = [[1, 1, 1], [1, 0, 1], [1, 1, 1]]\n",
    "n = len(matrix)\n",
    "m = len(matrix[0])"
   ]
  },
  {
   "cell_type": "code",
   "execution_count": 39,
   "metadata": {},
   "outputs": [],
   "source": [
    "# int row[n] = {0}; --> matrix[..][0]\n",
    "# int col[m] = {0}; --> matrix[0][..]\n",
    "\n",
    "col0 = 1\n",
    "# step 1: Traverse the matrix and\n",
    "# mark 1st row & col accordingly:"
   ]
  },
  {
   "cell_type": "code",
   "execution_count": 40,
   "metadata": {},
   "outputs": [],
   "source": [
    "for i in range(n):\n",
    "    for j in range(m):\n",
    "        if matrix[i][j] == 0:\n",
    "            # mark i-th row:\n",
    "            matrix[i][0] = 0\n",
    "            # mark j-th column:\n",
    "            if j != 0:\n",
    "                matrix[0][j] = 0\n",
    "            else:\n",
    "                col0 = 0"
   ]
  },
  {
   "attachments": {
    "image-2.png": {
     "image/png": "[encoded data removed]"
    },
    "image-3.png": {
     "image/png": "[encoded data removed]"
    },
    "image.png": {
     "image/png": "[encoded data removed]"
    }
   },
   "cell_type": "markdown",
   "metadata": {},
   "source": [
    "![image.png](attachment:image.png)![image-2.png](attachment:image-2.png)![image-3.png](attachment:image-3.png)"
   ]
  },
  {
   "cell_type": "code",
   "execution_count": 41,
   "metadata": {},
   "outputs": [
    {
     "data": {
      "text/plain": [
       "[[1, 0, 1], [0, 0, 1], [1, 1, 1]]"
      ]
     },
     "execution_count": 41,
     "metadata": {},
     "output_type": "execute_result"
    }
   ],
   "source": [
    "matrix"
   ]
  },
  {
   "cell_type": "code",
   "execution_count": 42,
   "metadata": {},
   "outputs": [],
   "source": [
    " # Step 2: Mark with 0 from (1,1) to (n-1, m-1):\n",
    "for i in range(1, n):\n",
    "    for j in range(1, m):\n",
    "        if matrix[i][j] != 0:\n",
    "            # check for col & row:\n",
    "            if matrix[i][0] == 0 or matrix[0][j] == 0:\n",
    "                matrix[i][j] = 0"
   ]
  },
  {
   "cell_type": "code",
   "execution_count": 43,
   "metadata": {},
   "outputs": [
    {
     "data": {
      "text/plain": [
       "[[1, 0, 1], [0, 0, 0], [1, 0, 1]]"
      ]
     },
     "execution_count": 43,
     "metadata": {},
     "output_type": "execute_result"
    }
   ],
   "source": [
    "matrix"
   ]
  },
  {
   "cell_type": "code",
   "execution_count": null,
   "metadata": {},
   "outputs": [],
   "source": [
    "def zeroMatrix(matrix, n, m):\n",
    "    # int row[n] = {0}; --> matrix[..][0]\n",
    "    # int col[m] = {0}; --> matrix[0][..]\n",
    "\n",
    "    col0 = 1\n",
    "    # step 1: Traverse the matrix and\n",
    "    # mark 1st row & col accordingly:\n",
    "    for i in range(n):\n",
    "        for j in range(m):\n",
    "            if matrix[i][j] == 0:\n",
    "                # mark i-th row:\n",
    "                matrix[i][0] = 0\n",
    "\n",
    "                # mark j-th column:\n",
    "                if j != 0:\n",
    "                    matrix[0][j] = 0\n",
    "                else:\n",
    "                    col0 = 0\n",
    "\n",
    "    # Step 2: Mark with 0 from (1,1) to (n-1, m-1):\n",
    "    for i in range(1, n):\n",
    "        for j in range(1, m):\n",
    "            if matrix[i][j] != 0:\n",
    "                # check for col & row:\n",
    "                if matrix[i][0] == 0 or matrix[0][j] == 0:\n",
    "                    matrix[i][j] = 0\n",
    "\n",
    "    #step 3: Finally mark the 1st col & then 1st row:\n",
    "    if matrix[0][0] == 0:\n",
    "        for j in range(m):\n",
    "            matrix[0][j] = 0\n",
    "    if col0 == 0:\n",
    "        for i in range(n):\n",
    "            matrix[i][0] = 0\n",
    "\n",
    "    return matrix\n",
    "\n",
    "\n"
   ]
  },
  {
   "cell_type": "code",
   "execution_count": 44,
   "metadata": {},
   "outputs": [],
   "source": [
    "matrix = [[1, 1, 1], [1, 0, 1], [1, 1, 1]]\n",
    "n = len(matrix)\n",
    "m = len(matrix[0])\n",
    "ans = zeroMatrix(matrix, n, m)"
   ]
  },
  {
   "cell_type": "code",
   "execution_count": 45,
   "metadata": {},
   "outputs": [
    {
     "data": {
      "text/plain": [
       "[[1, 0, 1], [0, 0, 0], [1, 0, 1]]"
      ]
     },
     "execution_count": 45,
     "metadata": {},
     "output_type": "execute_result"
    }
   ],
   "source": [
    "ans"
   ]
  },
  {
   "cell_type": "markdown",
   "metadata": {},
   "source": [
    "Time Complexity: O(2*(N*M)), where N = no. of rows in the matrix and M = no. of columns in the matrix.\n",
    "Reason: In this approach, we are also traversing the entire matrix 2 times and each traversal is taking O(N*M) time complexity.\n",
    "\n",
    "Space Complexity: O(1) as we are not using any extra space."
   ]
  },
  {
   "cell_type": "code",
   "execution_count": null,
   "metadata": {},
   "outputs": [],
   "source": []
  }
 ],
 "metadata": {
  "kernelspec": {
   "display_name": "Python 3",
   "language": "python",
   "name": "python3"
  },
  "language_info": {
   "codemirror_mode": {
    "name": "ipython",
    "version": 3
   },
   "file_extension": ".py",
   "mimetype": "text/x-python",
   "name": "python",
   "nbconvert_exporter": "python",
   "pygments_lexer": "ipython3",
   "version": "3.11.0"
  }
 },
 "nbformat": 4,
 "nbformat_minor": 2
}
