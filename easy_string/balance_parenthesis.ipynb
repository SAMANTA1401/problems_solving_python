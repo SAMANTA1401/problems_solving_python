{
 "cells": [
  {
   "cell_type": "markdown",
   "metadata": {},
   "source": [
    "Check Balanced Parentheses. Given string str containing just the characters '(', ')', '{', '}', '[' and ']', check if the input string is valid and return true if the string is balanced otherwise return false."
   ]
  },
  {
   "cell_type": "code",
   "execution_count": 1,
   "metadata": {},
   "outputs": [],
   "source": [
    "s = \"()[{}()]\""
   ]
  },
  {
   "cell_type": "code",
   "execution_count": 2,
   "metadata": {},
   "outputs": [],
   "source": [
    "st = []\n",
    "for it in s:\n",
    "    if it == '(' or it == '{' or it == '[':\n",
    "        st.append(it)"
   ]
  },
  {
   "cell_type": "code",
   "execution_count": 3,
   "metadata": {},
   "outputs": [
    {
     "data": {
      "text/plain": [
       "['(', '[', '{', '(']"
      ]
     },
     "execution_count": 3,
     "metadata": {},
     "output_type": "execute_result"
    }
   ],
   "source": [
    "st"
   ]
  },
  {
   "cell_type": "code",
   "execution_count": 5,
   "metadata": {},
   "outputs": [],
   "source": [
    "s = \"()[{}()]\""
   ]
  },
  {
   "cell_type": "code",
   "execution_count": 7,
   "metadata": {},
   "outputs": [
    {
     "name": "stdout",
     "output_type": "stream",
     "text": [
      "(\n",
      "['(']\n",
      ")\n",
      "(\n",
      "[\n",
      "['[']\n",
      "{\n",
      "['[', '{']\n",
      "}\n",
      "{\n",
      "(\n",
      "['[', '(']\n",
      ")\n",
      "(\n",
      "]\n",
      "[\n"
     ]
    }
   ],
   "source": [
    "st = []\n",
    "for it in s:\n",
    "    print(it)\n",
    "    if it == '(' or it == '{' or it == '[':\n",
    "        st.append(it)\n",
    "        print(st)\n",
    "    else:\n",
    "        ch = st[-1]\n",
    "        print(ch)\n",
    "        st.pop()\n",
    "        if (it == ')' and ch == '(') or (it == ']' and ch == '[') or (it == '}' and ch == '{'):\n",
    "            continue"
   ]
  },
  {
   "cell_type": "code",
   "execution_count": 8,
   "metadata": {},
   "outputs": [],
   "source": [
    "def isValid(s: str) -> bool:\n",
    "    st = []\n",
    "    for it in s:\n",
    "        if it == '(' or it == '{' or it == '[':\n",
    "            st.append(it)\n",
    "        else:\n",
    "            if len(st) == 0:\n",
    "                return False\n",
    "            ch = st[-1]\n",
    "            st.pop()\n",
    "            if (it == ')' and ch == '(') or (it == ']' and ch == '[') or (it == '}' and ch == '{'):\n",
    "                continue\n",
    "            else:\n",
    "                return False\n",
    "    return len(st) == 0"
   ]
  },
  {
   "cell_type": "code",
   "execution_count": null,
   "metadata": {},
   "outputs": [],
   "source": [
    "# Whenever we get the opening bracket we will push it into the stack. I.e ‘{‘, ’[’, ’(‘.\n",
    "# Whenever we get the closing bracket we will check if the stack is non-empty or not.\n",
    "# If the stack is empty we will return false, else if it is nonempty then we will check if the topmost element of the stack is the opposite pair of the closing bracket or not.\n",
    "# If it is not the opposite pair of the closing bracket then return false, else move ahead.\n",
    "# After we move out of the string the stack has to be empty if it is non-empty then return it as invalid else it is a valid string."
   ]
  },
  {
   "cell_type": "code",
   "execution_count": 10,
   "metadata": {},
   "outputs": [],
   "source": [
    "s = \"()[}()]\""
   ]
  },
  {
   "cell_type": "code",
   "execution_count": 11,
   "metadata": {},
   "outputs": [
    {
     "name": "stdout",
     "output_type": "stream",
     "text": [
      "False\n"
     ]
    }
   ],
   "source": [
    "if isValid(s):\n",
    "    print(\"True\")\n",
    "else:\n",
    "    print(\"False\")"
   ]
  },
  {
   "cell_type": "markdown",
   "metadata": {},
   "source": [
    "Time Complexity: O(N)\n",
    "\n",
    "Space Complexity: O(N)"
   ]
  },
  {
   "cell_type": "code",
   "execution_count": null,
   "metadata": {},
   "outputs": [],
   "source": []
  }
 ],
 "metadata": {
  "kernelspec": {
   "display_name": "Python 3",
   "language": "python",
   "name": "python3"
  },
  "language_info": {
   "codemirror_mode": {
    "name": "ipython",
    "version": 3
   },
   "file_extension": ".py",
   "mimetype": "text/x-python",
   "name": "python",
   "nbconvert_exporter": "python",
   "pygments_lexer": "ipython3",
   "version": "3.11.0"
  }
 },
 "nbformat": 4,
 "nbformat_minor": 2
}
