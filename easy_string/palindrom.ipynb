{
 "cells": [
  {
   "cell_type": "markdown",
   "metadata": {},
   "source": [
    "Given an integer N, return true if it is a palindrome else return false.\n",
    "\n",
    "A palindrome is a number that reads the same backward as forward. For example, 121, 1331, and 4554 are palindromes because they remain the same when their digits are reversed."
   ]
  },
  {
   "cell_type": "code",
   "execution_count": 11,
   "metadata": {},
   "outputs": [],
   "source": [
    "n = 4554"
   ]
  },
  {
   "cell_type": "code",
   "execution_count": 12,
   "metadata": {},
   "outputs": [],
   "source": [
    "revNum = 0\n",
    "dup = n"
   ]
  },
  {
   "cell_type": "code",
   "execution_count": 13,
   "metadata": {},
   "outputs": [
    {
     "name": "stdout",
     "output_type": "stream",
     "text": [
      "4\n",
      "4\n",
      "4554\n",
      "455\n",
      "//\n",
      "5\n",
      "45\n",
      "455\n",
      "45\n",
      "//\n",
      "5\n",
      "455\n",
      "45\n",
      "4\n",
      "//\n",
      "4\n",
      "4554\n",
      "4\n",
      "0\n",
      "//\n"
     ]
    }
   ],
   "source": [
    "while n > 0:\n",
    "    ld = n % 10\n",
    "    print(ld)\n",
    "    revNum = (revNum * 10) + ld\n",
    "    print(revNum)\n",
    "    print(n)\n",
    "    n = n // 10\n",
    "    print(n)\n",
    "    print(\"//\")"
   ]
  },
  {
   "cell_type": "code",
   "execution_count": null,
   "metadata": {},
   "outputs": [],
   "source": [
    "# Step 1:Initialise an integer revNum to 0. This variable will store the reverse of the number.\n",
    "\n",
    "# Step 2: Make a duplicate of the original number and store it in an integer dup for later comparison.\n",
    "\n",
    "# Step 3: Run a while loop with the condition n>0 to reverse the number and at each iteration:\n",
    "\n",
    "# Get the last digit of n by using the modulus operator % with 10 and store it in a temporary variable ld.\n",
    "# Update the revNum by multiplying it by 10 and adding the last digit ld.\n",
    "# Update n by integer division with 10 effectively removing the last digit.\n",
    "# Step 4: After the loop, check if the original number dup is equal to the reversed number revNum.\n",
    "\n",
    "# If they are equal, return true indicating the number is a palindrome.\n",
    "# If they are not equal, return false indicating that the number is not a palindrome."
   ]
  },
  {
   "cell_type": "code",
   "execution_count": 15,
   "metadata": {},
   "outputs": [],
   "source": [
    "# Function to check if a\n",
    "# given integer is a palindrome\n",
    "def palindrome(n):\n",
    "    # Initialize a variable to\n",
    "    # store the reverse of the number\n",
    "    revNum = 0\n",
    "    # Create a duplicate variable to\n",
    "    # store the original number\n",
    "    dup = n\n",
    "    # Iterate through each digit of\n",
    "    # the number until it becomes 0\n",
    "    while n > 0:\n",
    "        # Extract the last\n",
    "        # digit of the number\n",
    "        ld = n % 10\n",
    "        # Build the reverse number\n",
    "        # by appending the last digit\n",
    "        revNum = (revNum * 10) + ld\n",
    "        # Remove the last digit\n",
    "        # from the original number\n",
    "        n = n // 10\n",
    "    # Check if the original number\n",
    "    # is equal to its reverse\n",
    "    if dup == revNum:\n",
    "        # If equal, return True\n",
    "        # indicating it's a palindrome\n",
    "        return True\n",
    "    else:\n",
    "        # If not equal, return False\n",
    "        # indicating it's not a palindrome\n",
    "        return False"
   ]
  },
  {
   "cell_type": "code",
   "execution_count": 17,
   "metadata": {},
   "outputs": [],
   "source": [
    "n = 4554"
   ]
  },
  {
   "cell_type": "code",
   "execution_count": 18,
   "metadata": {},
   "outputs": [
    {
     "name": "stdout",
     "output_type": "stream",
     "text": [
      "4554 is a palindrome.\n"
     ]
    }
   ],
   "source": [
    "if palindrome(n):\n",
    "    print(n, \"is a palindrome.\")\n",
    "else:\n",
    "    print(n, \"is not a palindrome.\")"
   ]
  },
  {
   "cell_type": "markdown",
   "metadata": {},
   "source": [
    "Time Complexity: O(log10N + 1) where N is the input number. The time complexity is determined by the number of digits in the input integer N. In the worst case when N is a multiple of 10 the number of digits in N is log10 N + 1.\n",
    "\n",
    "In the while loop we divide N by 10 until it becomes 0 which takes log10N iterations.\n",
    "In each iteration of the while loop we perform constant time operations like modulus and division and pushing elements into the vector.\n",
    "Space Complexity: O(1) as only a constant amount of additional memory for the reversed number regardless of size of the input number."
   ]
  }
 ],
 "metadata": {
  "kernelspec": {
   "display_name": "Python 3",
   "language": "python",
   "name": "python3"
  },
  "language_info": {
   "codemirror_mode": {
    "name": "ipython",
    "version": 3
   },
   "file_extension": ".py",
   "mimetype": "text/x-python",
   "name": "python",
   "nbconvert_exporter": "python",
   "pygments_lexer": "ipython3",
   "version": "3.11.0"
  }
 },
 "nbformat": 4,
 "nbformat_minor": 2
}
