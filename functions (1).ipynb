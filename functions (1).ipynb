{
  "nbformat": 4,
  "nbformat_minor": 0,
  "metadata": {
    "colab": {
      "provenance": []
    },
    "kernelspec": {
      "name": "python3",
      "display_name": "Python 3"
    },
    "language_info": {
      "name": "python"
    }
  },
  "cells": [
    {
      "cell_type": "markdown",
      "source": [
        "a function is a block of organized code written to carry out a specific task\n",
        "\n",
        "functions help break our program into smaller and modular chunks for better readability\n",
        "\n",
        "informattion can be passed into a function as arguments\n",
        "\n",
        "parameter are specified after the function name inside the parenthesese\n",
        "\n"
      ],
      "metadata": {
        "id": "CeBhmYNjrP9d"
      }
    },
    {
      "cell_type": "markdown",
      "source": [
        "parameter v/s argument\n",
        "\n",
        "a parameter is the variable listed inside the paentheses in the function definition\n",
        "\n",
        "an argument is the value that is sent to the function when it is called"
      ],
      "metadata": {
        "id": "CVnxBOJ_tgah"
      }
    },
    {
      "cell_type": "markdown",
      "source": [
        "Built-in function: python predefined functions that are readily available for use like min(), max(), sum(), print()\n",
        "\n",
        "User-Defined function: function that we define ourselves to perform a specific task\n",
        "\n",
        "Anonymous functions: function that is defined without a name ,Anonymous functions are alse called lambda functios. They are not declred with the def keyword"
      ],
      "metadata": {
        "id": "5p3cRCluu5P5"
      }
    },
    {
      "cell_type": "code",
      "execution_count": null,
      "metadata": {
        "colab": {
          "base_uri": "https://localhost:8080/"
        },
        "id": "J9aXeT6UrCQ6",
        "outputId": "d21bfdec-4599-46f5-e7f8-befc7422b532"
      },
      "outputs": [
        {
          "output_type": "stream",
          "name": "stdout",
          "text": [
            "3 is odd number\n",
            "4 is even no\n",
            " this function will check whether a number is even or odd\n"
          ]
        }
      ],
      "source": [
        "def even_odd(num):#even odd test\n",
        "    \"\"\" this function will check whether a number is even or odd\"\"\"\n",
        "    if num%2 == 0:\n",
        "      print(num,'is even no')\n",
        "    else:\n",
        "      print(num,'is odd number')\n",
        "\n",
        "even_odd(3)\n",
        "even_odd(4)\n",
        "print(even_odd.__doc__) #print function documentation string"
      ]
    },
    {
      "cell_type": "code",
      "source": [
        "def fullname (firstname, middlename, lastname):  #concatenate string\n",
        "  fullname = firstname, middlename,lastname\n",
        "  print(fullname)\n",
        "\n",
        "fullname('asf','asli','bvah')"
      ],
      "metadata": {
        "id": "ghNbeUgnx0MD",
        "colab": {
          "base_uri": "https://localhost:8080/"
        },
        "outputId": "eff28131-0713-47c8-f04f-c611f985d5f5"
      },
      "execution_count": null,
      "outputs": [
        {
          "output_type": "stream",
          "name": "stdout",
          "text": [
            "('asf', 'asli', 'bvah')\n"
          ]
        }
      ]
    },
    {
      "cell_type": "code",
      "source": [
        "def fullname(firstname, middlename, lastname): #concatenate string\n",
        "  fullname = firstname,middlename,lastname\n",
        "  print(fullname)\n",
        "\n",
        "fullname(lastname='agd', middlename =\"awet\", firstname= 'asert')"
      ],
      "metadata": {
        "colab": {
          "base_uri": "https://localhost:8080/"
        },
        "id": "1ZLKH1X5iIpZ",
        "outputId": "9b235f37-62bb-4406-dce4-2f03be85a9c3"
      },
      "execution_count": null,
      "outputs": [
        {
          "output_type": "stream",
          "name": "stdout",
          "text": [
            "('asert', 'awet', 'agd')\n"
          ]
        }
      ]
    },
    {
      "cell_type": "code",
      "source": [
        "fullname('asdrf') #functtion throw an error as it requires 3 argument"
      ],
      "metadata": {
        "colab": {
          "base_uri": "https://localhost:8080/",
          "height": 200
        },
        "id": "GqGH0Jc9i4Yc",
        "outputId": "1d583144-655d-4aea-d48e-b2f7fdc11869"
      },
      "execution_count": null,
      "outputs": [
        {
          "output_type": "error",
          "ename": "TypeError",
          "evalue": "ignored",
          "traceback": [
            "\u001b[0;31m---------------------------------------------------------------------------\u001b[0m",
            "\u001b[0;31mTypeError\u001b[0m                                 Traceback (most recent call last)",
            "\u001b[0;32m<ipython-input-6-499cd8914dca>\u001b[0m in \u001b[0;36m<cell line: 1>\u001b[0;34m()\u001b[0m\n\u001b[0;32m----> 1\u001b[0;31m \u001b[0mfullname\u001b[0m\u001b[0;34m(\u001b[0m\u001b[0;34m'asdrf'\u001b[0m\u001b[0;34m)\u001b[0m\u001b[0;34m\u001b[0m\u001b[0;34m\u001b[0m\u001b[0m\n\u001b[0m",
            "\u001b[0;31mTypeError\u001b[0m: fullname() missing 2 required positional arguments: 'middlename' and 'lastname'"
          ]
        }
      ]
    },
    {
      "cell_type": "code",
      "source": [
        "def myfunc(city = 'Mumbai'):\n",
        "  print('most populous city:',city)"
      ],
      "metadata": {
        "id": "n1zzmWEClhdS"
      },
      "execution_count": null,
      "outputs": []
    },
    {
      "cell_type": "code",
      "source": [
        "myfunc()  #when a function is called without an argument it will use different value"
      ],
      "metadata": {
        "colab": {
          "base_uri": "https://localhost:8080/"
        },
        "id": "7jaYLIXpl4eW",
        "outputId": "66268fb5-3fce-4fb4-8339-7b43e6a27f11"
      },
      "execution_count": null,
      "outputs": [
        {
          "output_type": "stream",
          "name": "stdout",
          "text": [
            "most populous city: Mumbai\n"
          ]
        }
      ]
    },
    {
      "cell_type": "code",
      "source": [
        "var1 = 100 #variable with global scope\n",
        "\n",
        "def myfunc():\n",
        "  print(var1)  #value 100 will be displayed due to glabal scope of variable\n",
        "\n",
        "myfunc()\n",
        "print(var1)"
      ],
      "metadata": {
        "colab": {
          "base_uri": "https://localhost:8080/"
        },
        "id": "nd5Tb5q1l6w8",
        "outputId": "50c7dff2-d624-445f-d59a-99049bde5148"
      },
      "execution_count": null,
      "outputs": [
        {
          "output_type": "stream",
          "name": "stdout",
          "text": [
            "100\n",
            "100\n"
          ]
        }
      ]
    },
    {
      "cell_type": "code",
      "source": [
        "def myfunc1():\n",
        "  var2 = 10 #variable with local scope\n",
        "  print(var2)\n",
        "\n",
        "def myfunc2():\n",
        "  print(var2)  #this will throw error becouse var2 has a  local scope\n",
        "\n",
        "myfunc1()\n",
        "myfunc2()"
      ],
      "metadata": {
        "colab": {
          "base_uri": "https://localhost:8080/",
          "height": 366
        },
        "id": "wYAHLr2fmueA",
        "outputId": "31ad958c-1158-484b-b1ce-3d17b244a90b"
      },
      "execution_count": null,
      "outputs": [
        {
          "output_type": "stream",
          "name": "stdout",
          "text": [
            "10\n"
          ]
        },
        {
          "output_type": "error",
          "ename": "NameError",
          "evalue": "ignored",
          "traceback": [
            "\u001b[0;31m---------------------------------------------------------------------------\u001b[0m",
            "\u001b[0;31mNameError\u001b[0m                                 Traceback (most recent call last)",
            "\u001b[0;32m<ipython-input-11-5b2cbad8e70c>\u001b[0m in \u001b[0;36m<cell line: 9>\u001b[0;34m()\u001b[0m\n\u001b[1;32m      7\u001b[0m \u001b[0;34m\u001b[0m\u001b[0m\n\u001b[1;32m      8\u001b[0m \u001b[0mmyfunc1\u001b[0m\u001b[0;34m(\u001b[0m\u001b[0;34m)\u001b[0m\u001b[0;34m\u001b[0m\u001b[0;34m\u001b[0m\u001b[0m\n\u001b[0;32m----> 9\u001b[0;31m \u001b[0mmyfunc2\u001b[0m\u001b[0;34m(\u001b[0m\u001b[0;34m)\u001b[0m\u001b[0;34m\u001b[0m\u001b[0;34m\u001b[0m\u001b[0m\n\u001b[0m",
            "\u001b[0;32m<ipython-input-11-5b2cbad8e70c>\u001b[0m in \u001b[0;36mmyfunc2\u001b[0;34m()\u001b[0m\n\u001b[1;32m      4\u001b[0m \u001b[0;34m\u001b[0m\u001b[0m\n\u001b[1;32m      5\u001b[0m \u001b[0;32mdef\u001b[0m \u001b[0mmyfunc2\u001b[0m\u001b[0;34m(\u001b[0m\u001b[0;34m)\u001b[0m\u001b[0;34m:\u001b[0m\u001b[0;34m\u001b[0m\u001b[0;34m\u001b[0m\u001b[0m\n\u001b[0;32m----> 6\u001b[0;31m   \u001b[0mprint\u001b[0m\u001b[0;34m(\u001b[0m\u001b[0mvar2\u001b[0m\u001b[0;34m)\u001b[0m  \u001b[0;31m#this will throw error becouse var2 has a  local scope\u001b[0m\u001b[0;34m\u001b[0m\u001b[0;34m\u001b[0m\u001b[0m\n\u001b[0m\u001b[1;32m      7\u001b[0m \u001b[0;34m\u001b[0m\u001b[0m\n\u001b[1;32m      8\u001b[0m \u001b[0mmyfunc1\u001b[0m\u001b[0;34m(\u001b[0m\u001b[0;34m)\u001b[0m\u001b[0;34m\u001b[0m\u001b[0;34m\u001b[0m\u001b[0m\n",
            "\u001b[0;31mNameError\u001b[0m: name 'var2' is not defined"
          ]
        }
      ]
    },
    {
      "cell_type": "code",
      "source": [
        "var =100 #variable with global scope\n",
        "\n",
        "def myfunc():\n",
        "  var1 = 99 #local scope\n",
        "  print(var1)\n",
        "\n",
        "myfunc()\n",
        "print(var1)  #the original value of var1 100 wil be retained due to global scope\n"
      ],
      "metadata": {
        "colab": {
          "base_uri": "https://localhost:8080/"
        },
        "id": "OcKb3Vkxpsl_",
        "outputId": "2548862f-e783-464a-d85b-3835a3ac992c"
      },
      "execution_count": null,
      "outputs": [
        {
          "output_type": "stream",
          "name": "stdout",
          "text": [
            "99\n",
            "100\n"
          ]
        }
      ]
    },
    {
      "cell_type": "code",
      "source": [
        "list1 = [11,22,33,44,55]\n",
        "\n",
        "def myfunc(list1):\n",
        "  del list1[0]\n",
        "\n",
        "print('list1 before calling the function:',list1)\n",
        "myfunc(list1) #pass by reference(any change in the  parameter within the function)\n",
        "print(\"list1 after calling the function:\",list1)"
      ],
      "metadata": {
        "colab": {
          "base_uri": "https://localhost:8080/"
        },
        "id": "HxO4tQojqeSV",
        "outputId": "966456d6-01b7-449c-d7fc-1ac4e2d0dece"
      },
      "execution_count": null,
      "outputs": [
        {
          "output_type": "stream",
          "name": "stdout",
          "text": [
            "list1 before calling the function: [11, 22, 33, 44, 55]\n",
            "list1 after calling the function: [22, 33, 44, 55]\n"
          ]
        }
      ]
    },
    {
      "cell_type": "code",
      "source": [
        "def myfunc(list1):\n",
        "  list1.append(100)\n",
        "\n",
        "print(\"list1 before calling the function:\",list1)\n",
        "myfunc(list1)  #pass by reference (any change in the parameter within the function)\n",
        "print('list1 after calling the function',list1)\n"
      ],
      "metadata": {
        "colab": {
          "base_uri": "https://localhost:8080/"
        },
        "id": "KbfkPWS-sGXO",
        "outputId": "47881065-ed3b-4284-b5c2-c8d7c9e43973"
      },
      "execution_count": null,
      "outputs": [
        {
          "output_type": "stream",
          "name": "stdout",
          "text": [
            "list1 before calling the function: [22, 33, 44, 55]\n",
            "list1 after calling the function [22, 33, 44, 55, 100]\n"
          ]
        }
      ]
    },
    {
      "cell_type": "code",
      "source": [
        "list1 = [11,22,33,44,55]\n",
        "\n",
        "def myfunc(list1):\n",
        "  list1 = [10,100,1000,10000] #link of 'list1' with previous object is broaken\n",
        "  print(list1)\n",
        "print(list1)\n",
        "myfunc(list1)\n",
        "print(list1)"
      ],
      "metadata": {
        "colab": {
          "base_uri": "https://localhost:8080/"
        },
        "id": "8KPQnIe8tndt",
        "outputId": "e7983692-90f3-4e4f-bfd8-7831a101e311"
      },
      "execution_count": null,
      "outputs": [
        {
          "output_type": "stream",
          "name": "stdout",
          "text": [
            "[11, 22, 33, 44, 55]\n",
            "[10, 100, 1000, 10000]\n",
            "[11, 22, 33, 44, 55]\n"
          ]
        }
      ]
    },
    {
      "cell_type": "code",
      "source": [
        "def swap(a,b):\n",
        "  temp =a\n",
        "  a = b\n",
        "  b = temp\n",
        "  print(a,b)\n",
        "\n",
        "a = 10\n",
        "b = 20\n",
        "swap(a,b)  #pass by reference\n",
        "a,b"
      ],
      "metadata": {
        "colab": {
          "base_uri": "https://localhost:8080/"
        },
        "id": "NoO27x2Mu0kc",
        "outputId": "4a0e0caa-d1a4-49f2-e87d-ca64f57da051"
      },
      "execution_count": null,
      "outputs": [
        {
          "output_type": "stream",
          "name": "stdout",
          "text": [
            "20 10\n"
          ]
        },
        {
          "output_type": "execute_result",
          "data": {
            "text/plain": [
              "(10, 20)"
            ]
          },
          "metadata": {},
          "execution_count": 19
        }
      ]
    },
    {
      "cell_type": "code",
      "source": [
        "#calculate factorial of a number using recursive function\n",
        "\n",
        "def factorial(num):\n",
        "  if num<= 1:\n",
        "    return 1\n",
        "  else:\n",
        "    return num*factorial(num-1)\n",
        "\n",
        "factorial(4)\n",
        "\n"
      ],
      "metadata": {
        "colab": {
          "base_uri": "https://localhost:8080/"
        },
        "id": "ZI6x0vdSveeZ",
        "outputId": "52acb7b0-0508-438f-a245-969f83d71d2b"
      },
      "execution_count": null,
      "outputs": [
        {
          "output_type": "execute_result",
          "data": {
            "text/plain": [
              "24"
            ]
          },
          "metadata": {},
          "execution_count": 20
        }
      ]
    },
    {
      "cell_type": "code",
      "source": [
        "#sum of first n natural numbers\n",
        "def add(num):\n",
        "  if num ==0:\n",
        "    return 0\n",
        "  else:\n",
        "    return num + add(num-1)\n",
        "\n",
        "add(5)"
      ],
      "metadata": {
        "colab": {
          "base_uri": "https://localhost:8080/"
        },
        "id": "pGr1WP0vwqdl",
        "outputId": "36227d55-9220-47fa-c2d3-492a17cd2ce3"
      },
      "execution_count": null,
      "outputs": [
        {
          "output_type": "execute_result",
          "data": {
            "text/plain": [
              "15"
            ]
          },
          "metadata": {},
          "execution_count": 21
        }
      ]
    },
    {
      "cell_type": "code",
      "source": [
        "# generate fibonacci series\n",
        "\n",
        "def fibonacci(num):\n",
        "  if num <=1:\n",
        "    return num\n",
        "  elif num == 2:\n",
        "    return 1\n",
        "  else:\n",
        "    return(fibonacci(num-1)+fibonacci(num-2))\n",
        "\n",
        "nums = int(input(\"how many fibonacci numbers you want to generate\"))\n",
        "\n",
        "for i in range(nums):\n",
        "  print(fibonacci(i)) #generate fibonacci series\n"
      ],
      "metadata": {
        "colab": {
          "base_uri": "https://localhost:8080/"
        },
        "id": "0pHmWxEyxhLc",
        "outputId": "3a08da29-1f78-47a3-e68f-156ce8b5fa46"
      },
      "execution_count": null,
      "outputs": [
        {
          "output_type": "stream",
          "name": "stdout",
          "text": [
            "how many fibonacci numbers you want to generate10\n",
            "0\n",
            "1\n",
            "1\n",
            "2\n",
            "3\n",
            "5\n",
            "8\n",
            "13\n",
            "21\n",
            "34\n"
          ]
        }
      ]
    },
    {
      "cell_type": "code",
      "source": [],
      "metadata": {
        "id": "ogXXp8QiyrlO"
      },
      "execution_count": null,
      "outputs": []
    }
  ]
}