{
  "nbformat": 4,
  "nbformat_minor": 0,
  "metadata": {
    "colab": {
      "provenance": []
    },
    "kernelspec": {
      "name": "python3",
      "display_name": "Python 3"
    },
    "language_info": {
      "name": "python"
    }
  },
  "cells": [
    {
      "cell_type": "markdown",
      "source": [
        "a class is an object constructor or a blueprint for creating objects\n",
        "\n",
        "objects are nothing but an encapsulation of variables and functions into a single entity\n",
        "\n",
        "Objects get their variables and functions from classes\n",
        "\n",
        "to create a class we use the keyword class\n",
        "\n",
        "the first string inside the class is called docstring which gives the brief description about class\n",
        "\n",
        "all classes have a function called __init__() which is always executed when the class is being initiated\n",
        "\n",
        "we can use __init__() function to assign values to object properties or other operation that are neccessary ot perform when the object is being created\n",
        "\n",
        "the self parameter is a reference to the current instance of the class and is used to accces class variables\n",
        "\n",
        "self must be the first parameter of any function in the class\n",
        "\n",
        "the super() builtin function returns a tempporary object of the superclass that allows us to access methods of the base class\n",
        "\n",
        "super() allows us to avoid using the base class name explicitly and to enable multiple inheritance"
      ],
      "metadata": {
        "id": "Iz_j8laWPhig"
      }
    },
    {
      "cell_type": "code",
      "execution_count": null,
      "metadata": {
        "colab": {
          "base_uri": "https://localhost:8080/"
        },
        "id": "gWsJQovZH0hw",
        "outputId": "c9843d92-1e3a-4799-84eb-5c8de079c3c2"
      },
      "outputs": [
        {
          "output_type": "stream",
          "name": "stdout",
          "text": [
            "name asdff\n",
            "employee id  54346\n",
            "thanks for joinning abc company asdff\n"
          ]
        }
      ],
      "source": [
        "#create an employee class\n",
        "class Employee:\n",
        "  def __init__(self, name, empid): #__init__() function is used to assign values\n",
        "      self.name = name              #clas properties\n",
        "      self.empid = empid\n",
        "\n",
        "  def greet(self): # class method\n",
        "      print(\"thanks for joinning abc company\", self.name)\n",
        "\n",
        "emp1 = Employee(\"asdff\", 54346) #create an employee object ,current instance\n",
        "\n",
        "print(\"name\",emp1.name)\n",
        "print(\"employee id \", emp1.empid)\n",
        "\n",
        "emp1.greet()\n"
      ]
    },
    {
      "cell_type": "code",
      "source": [
        "# modify object properties\n",
        "emp1.name = 'abvdsg'\n",
        "emp1.name"
      ],
      "metadata": {
        "colab": {
          "base_uri": "https://localhost:8080/",
          "height": 36
        },
        "id": "Ul01arp3W1U6",
        "outputId": "245f4fef-0366-4c18-8c05-8b3968b5c775"
      },
      "execution_count": null,
      "outputs": [
        {
          "output_type": "execute_result",
          "data": {
            "text/plain": [
              "'abvdsg'"
            ],
            "application/vnd.google.colaboratory.intrinsic+json": {
              "type": "string"
            }
          },
          "metadata": {},
          "execution_count": 2
        }
      ]
    },
    {
      "cell_type": "code",
      "source": [
        "emp2 = Employee('aserv b', 54346) #create an employee object ,current instance\n",
        "\n",
        "print(emp2.name)\n",
        "emp2.greet()\n"
      ],
      "metadata": {
        "colab": {
          "base_uri": "https://localhost:8080/"
        },
        "id": "qvyF59LmXNZr",
        "outputId": "37988dfe-6314-4dbe-f671-754bad9db982"
      },
      "execution_count": null,
      "outputs": [
        {
          "output_type": "stream",
          "name": "stdout",
          "text": [
            "aserv b\n",
            "thanks for joinning abc company aserv b\n"
          ]
        }
      ]
    },
    {
      "cell_type": "code",
      "source": [
        "# delete object properties\n",
        "del emp1.empid\n",
        "emp1.empid"
      ],
      "metadata": {
        "colab": {
          "base_uri": "https://localhost:8080/",
          "height": 210
        },
        "id": "uN04XeErXjcj",
        "outputId": "f553aba9-dc56-4af6-a026-ec080e61d25c"
      },
      "execution_count": null,
      "outputs": [
        {
          "output_type": "error",
          "ename": "AttributeError",
          "evalue": "ignored",
          "traceback": [
            "\u001b[0;31m---------------------------------------------------------------------------\u001b[0m",
            "\u001b[0;31mAttributeError\u001b[0m                            Traceback (most recent call last)",
            "\u001b[0;32m<ipython-input-4-6a620bf096f5>\u001b[0m in \u001b[0;36m<cell line: 3>\u001b[0;34m()\u001b[0m\n\u001b[1;32m      1\u001b[0m \u001b[0;31m# delete object properties\u001b[0m\u001b[0;34m\u001b[0m\u001b[0;34m\u001b[0m\u001b[0m\n\u001b[1;32m      2\u001b[0m \u001b[0;32mdel\u001b[0m \u001b[0memp1\u001b[0m\u001b[0;34m.\u001b[0m\u001b[0mempid\u001b[0m\u001b[0;34m\u001b[0m\u001b[0;34m\u001b[0m\u001b[0m\n\u001b[0;32m----> 3\u001b[0;31m \u001b[0memp1\u001b[0m\u001b[0;34m.\u001b[0m\u001b[0mempid\u001b[0m\u001b[0;34m\u001b[0m\u001b[0;34m\u001b[0m\u001b[0m\n\u001b[0m",
            "\u001b[0;31mAttributeError\u001b[0m: 'Employee' object has no attribute 'empid'"
          ]
        }
      ]
    },
    {
      "cell_type": "code",
      "source": [],
      "metadata": {
        "id": "gW4MDq_yX9MH"
      },
      "execution_count": null,
      "outputs": []
    }
  ]
}