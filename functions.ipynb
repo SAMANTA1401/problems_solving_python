{
  "cells": [
    {
      "cell_type": "markdown",
      "metadata": {
        "id": "Iz_j8laWPhig"
      },
      "source": [
        "a class is an object constructor or a blueprint for creating objects\n",
        "\n",
        "objects are nothing but an encapsulation of variables and functions into a single entity\n",
        "\n",
        "Objects get their variables and functions from classes\n",
        "\n",
        "to create a class we use the keyword class\n",
        "\n",
        "the first string inside the class is called docstring which gives the brief description about class\n",
        "\n",
        "all classes have a function called __init__() which is always executed when the class is being initiated\n",
        "\n",
        "we can use __init__() function to assign values to object properties or other operation that are neccessary ot perform when the object is being created\n",
        "\n",
        "the self parameter is a reference to the current instance of the class and is used to accces class variables\n",
        "\n",
        "self must be the first parameter of any function in the class\n",
        "\n",
        "the super() builtin function returns a tempporary object of the superclass that allows us to access methods of the base class\n",
        "\n",
        "super() allows us to avoid using the base class name explicitly and to enable multiple inheritance"
      ]
    },
    {
      "cell_type": "markdown",
      "metadata": {},
      "source": [
        "Objects vs Instances of a Class\n",
        "\n",
        "In object-oriented programming (OOP), the terms \"object\" and \"instance of a class\" are often used interchangeably, but they have subtle differences.\n",
        "\n",
        "Class\n",
        "\n",
        "A class is a blueprint or a template that defines the properties and behavior of an object. It's essentially a design pattern or a template that defines the characteristics of an object.\n",
        "Object\n",
        "\n",
        "An object is a generic term that refers to any entity that has its own set of attributes (data) and methods (functions that operate on that data). Objects can be instances of a class, but they can also be other types of objects, such as:\n",
        "\n",
        "Built-in objects (e.g., strings, arrays, dictionaries)\n",
        "\n",
        "Modules\n",
        "\n",
        "Files\n",
        "\n",
        "Instance of a Class\n",
        "\n",
        "An instance of a class is a specific object that is created from a class. It has its own set of attributes (data) and methods (functions that operate on that data), which are defined by the class. When you create an instance of a class, you are creating a new object that has its own unique identity.\n",
        "\n",
        "Key differences\n",
        "\n",
        "Here are the key differences between objects and instances of a class:\n",
        "\n",
        "Generality: An object is a more general term that can refer to any type of object, whereas an instance of a class refers specifically to an object that is created from a class.\n",
        "\n",
        "Origin: An object can be created in various ways (e.g., using a class, a function, or a literal), whereas an instance of a class is always created using a class.\n",
        "\n",
        "Attributes and methods: An object can have any set of attributes and methods, whereas an instance of a class has attributes and methods that are defined by the class."
      ]
    },
    {
      "cell_type": "code",
      "execution_count": 1,
      "metadata": {},
      "outputs": [
        {
          "name": "stdout",
          "output_type": "stream",
          "text": [
            "True\n",
            "True\n",
            "True\n",
            "False\n"
          ]
        }
      ],
      "source": [
        "class Person:\n",
        "    def __init__(self, name, age):\n",
        "        self.name = name\n",
        "        self.age = age\n",
        "\n",
        "    def greet(self):\n",
        "        print(f\"Hello, my name is {self.name} and I'm {self.age} years old.\")\n",
        "\n",
        "# Create an instance of the Person class\n",
        "person = Person(\"John Doe\", 30)\n",
        "\n",
        "# person is an instance of the Person class and an object\n",
        "print(isinstance(person, Person))  # Output: True\n",
        "print(isinstance(person, object))    # Output: True\n",
        "\n",
        "# Create a built-in object (a string)\n",
        "greeting = \"Hello, world!\"\n",
        "\n",
        "# greeting is an object but not an instance of the Person class\n",
        "print(isinstance(greeting, object))   # Output: True\n",
        "print(isinstance(greeting, Person))    # Output: False"
      ]
    },
    {
      "cell_type": "code",
      "execution_count": null,
      "metadata": {
        "colab": {
          "base_uri": "https://localhost:8080/"
        },
        "id": "gWsJQovZH0hw",
        "outputId": "c9843d92-1e3a-4799-84eb-5c8de079c3c2"
      },
      "outputs": [
        {
          "name": "stdout",
          "output_type": "stream",
          "text": [
            "name asdff\n",
            "employee id  54346\n",
            "thanks for joinning abc company asdff\n"
          ]
        }
      ],
      "source": [
        "#create an employee class\n",
        "class Employee:\n",
        "  def __init__(self, name, emp_id): #__init__() function is used to assign values\n",
        "      self.name = name              #class properties\n",
        "      self.emp_id = emp_id\n",
        "\n",
        "  def greet(self): # class method\n",
        "      print(\"thanks for joining abc company\", self.name)\n",
        "\n",
        "emp1 = Employee(\"asdff\", 54346) #create an employee object ,current instance\n",
        "\n",
        "print(\"name\",emp1.name)\n",
        "print(\"employee id \", emp1.emp_id)\n",
        "\n",
        "emp1.greet()\n"
      ]
    },
    {
      "cell_type": "code",
      "execution_count": null,
      "metadata": {
        "colab": {
          "base_uri": "https://localhost:8080/",
          "height": 36
        },
        "id": "Ul01arp3W1U6",
        "outputId": "245f4fef-0366-4c18-8c05-8b3968b5c775"
      },
      "outputs": [
        {
          "data": {
            "application/vnd.google.colaboratory.intrinsic+json": {
              "type": "string"
            },
            "text/plain": [
              "'abvdsg'"
            ]
          },
          "execution_count": 2,
          "metadata": {},
          "output_type": "execute_result"
        }
      ],
      "source": [
        "# modify object properties\n",
        "emp1.name = 'abvdsg'\n",
        "emp1.name"
      ]
    },
    {
      "cell_type": "code",
      "execution_count": null,
      "metadata": {
        "colab": {
          "base_uri": "https://localhost:8080/"
        },
        "id": "qvyF59LmXNZr",
        "outputId": "37988dfe-6314-4dbe-f671-754bad9db982"
      },
      "outputs": [
        {
          "name": "stdout",
          "output_type": "stream",
          "text": [
            "aserv b\n",
            "thanks for joinning abc company aserv b\n"
          ]
        }
      ],
      "source": [
        "emp2 = Employee('aserv b', 54346) #create an employee object ,current instance\n",
        "\n",
        "print(emp2.name)\n",
        "emp2.greet()\n"
      ]
    },
    {
      "cell_type": "code",
      "execution_count": null,
      "metadata": {
        "colab": {
          "base_uri": "https://localhost:8080/",
          "height": 210
        },
        "id": "uN04XeErXjcj",
        "outputId": "f553aba9-dc56-4af6-a026-ec080e61d25c"
      },
      "outputs": [
        {
          "ename": "AttributeError",
          "evalue": "ignored",
          "output_type": "error",
          "traceback": [
            "\u001b[0;31m---------------------------------------------------------------------------\u001b[0m",
            "\u001b[0;31mAttributeError\u001b[0m                            Traceback (most recent call last)",
            "\u001b[0;32m<ipython-input-4-6a620bf096f5>\u001b[0m in \u001b[0;36m<cell line: 3>\u001b[0;34m()\u001b[0m\n\u001b[1;32m      1\u001b[0m \u001b[0;31m# delete object properties\u001b[0m\u001b[0;34m\u001b[0m\u001b[0;34m\u001b[0m\u001b[0m\n\u001b[1;32m      2\u001b[0m \u001b[0;32mdel\u001b[0m \u001b[0memp1\u001b[0m\u001b[0;34m.\u001b[0m\u001b[0mempid\u001b[0m\u001b[0;34m\u001b[0m\u001b[0;34m\u001b[0m\u001b[0m\n\u001b[0;32m----> 3\u001b[0;31m \u001b[0memp1\u001b[0m\u001b[0;34m.\u001b[0m\u001b[0mempid\u001b[0m\u001b[0;34m\u001b[0m\u001b[0;34m\u001b[0m\u001b[0m\n\u001b[0m",
            "\u001b[0;31mAttributeError\u001b[0m: 'Employee' object has no attribute 'empid'"
          ]
        }
      ],
      "source": [
        "# delete object properties\n",
        "del emp1.empid\n",
        "emp1.empid"
      ]
    },
    {
      "cell_type": "code",
      "execution_count": null,
      "metadata": {
        "id": "gW4MDq_yX9MH"
      },
      "outputs": [],
      "source": []
    }
  ],
  "metadata": {
    "colab": {
      "provenance": []
    },
    "kernelspec": {
      "display_name": "Python 3",
      "name": "python3"
    },
    "language_info": {
      "codemirror_mode": {
        "name": "ipython",
        "version": 3
      },
      "file_extension": ".py",
      "mimetype": "text/x-python",
      "name": "python",
      "nbconvert_exporter": "python",
      "pygments_lexer": "ipython3",
      "version": "3.11.0"
    }
  },
  "nbformat": 4,
  "nbformat_minor": 0
}
