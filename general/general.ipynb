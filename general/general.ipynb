{
 "cells": [
  {
   "cell_type": "code",
   "execution_count": 16,
   "id": "4857ce0d",
   "metadata": {},
   "outputs": [],
   "source": [
    "n = 5"
   ]
  },
  {
   "cell_type": "code",
   "execution_count": 18,
   "id": "2cb80791",
   "metadata": {},
   "outputs": [],
   "source": [
    "list1 = []"
   ]
  },
  {
   "cell_type": "code",
   "execution_count": 19,
   "id": "12dbe362",
   "metadata": {},
   "outputs": [
    {
     "name": "stdout",
     "output_type": "stream",
     "text": [
      "0 0\n",
      "temp [1]\n",
      "left [[1]]\n",
      "1 0\n",
      "1 1\n",
      "temp [1, 1]\n",
      "left [[1], [1, 1]]\n",
      "2 0\n",
      "2 1\n",
      "list 1 1\n",
      "2 2\n",
      "temp [1, 2, 1]\n",
      "left [[1], [1, 1], [1, 2, 1]]\n",
      "3 0\n",
      "3 1\n",
      "list 2 1\n",
      "3 2\n",
      "list 1 2\n",
      "3 3\n",
      "temp [1, 3, 3, 1]\n",
      "left [[1], [1, 1], [1, 2, 1], [1, 3, 3, 1]]\n",
      "4 0\n",
      "4 1\n",
      "list 3 1\n",
      "4 2\n",
      "list 3 3\n",
      "4 3\n",
      "list 1 3\n",
      "4 4\n",
      "temp [1, 4, 6, 4, 1]\n",
      "left [[1], [1, 1], [1, 2, 1], [1, 3, 3, 1], [1, 4, 6, 4, 1]]\n"
     ]
    }
   ],
   "source": [
    "for i in range(0,n):\n",
    "    temp=[]\n",
    "    for j in range(0,i+1):\n",
    "        if j==0 or j==i:\n",
    "            temp.append(1)\n",
    "            print(i,j)\n",
    "        else:\n",
    "            print(i,j)\n",
    "            print(\"list\",list1[i-1][j], list1[i-1][j-1])\n",
    "\n",
    "            temp.append(list1[i-1][j]+list1[i-1][j-1])  # list1[1-1][0] , list1[1-1][0-1] # [0][0] == [0][-1]\n",
    "\n",
    "    list1.append(temp)\n",
    "    print(\"temp\",temp)\n",
    "    print(\"left\",list1)"
   ]
  },
  {
   "cell_type": "code",
   "execution_count": 11,
   "id": "ec122816",
   "metadata": {},
   "outputs": [
    {
     "name": "stdout",
     "output_type": "stream",
     "text": [
      "    1 \n",
      "   1 1 \n",
      "  1 2 1 \n",
      " 1 3 3 1 \n",
      "1 4 6 4 1 \n"
     ]
    }
   ],
   "source": [
    "#print(list1)\n",
    "for i in range(n):\n",
    " for j in range(0,n-i-1):\n",
    "  print(\" \",end=\"\")\n",
    "\n",
    " for j in range(0,i+1):\n",
    "  print(list1[i][j],end=\" \")\n",
    "\n",
    " print()\n"
   ]
  },
  {
   "cell_type": "code",
   "execution_count": 5,
   "id": "c153aab8",
   "metadata": {},
   "outputs": [],
   "source": [
    "def prime(n):\n",
    "\n",
    "    if n<=1:\n",
    "        return False\n",
    "    else:\n",
    "        l1=[]\n",
    "\n",
    "        for i in range(1,n+1):\n",
    "            if n%i==0:\n",
    "                l1.append(i)\n",
    "        print(\"l1\",l1)\n",
    "\n",
    "        #print(l1)\n",
    "        if len(l1)<=2:\n",
    "            return True\n",
    "        else:\n",
    "            return False\n",
    "\n",
    "\n"
   ]
  },
  {
   "cell_type": "code",
   "execution_count": 2,
   "id": "a013a07f",
   "metadata": {},
   "outputs": [],
   "source": [
    "\n",
    "inp1=int(input(\"enter the number : \"))\n"
   ]
  },
  {
   "cell_type": "code",
   "execution_count": 3,
   "id": "5acd4a27",
   "metadata": {},
   "outputs": [],
   "source": [
    "inp2=int(input(\"enter the number : \"))"
   ]
  },
  {
   "cell_type": "code",
   "execution_count": 6,
   "id": "98f57584",
   "metadata": {},
   "outputs": [
    {
     "name": "stdout",
     "output_type": "stream",
     "text": [
      "l1 [1, 2, 17, 34]\n",
      "l1 [1, 5, 7, 35]\n",
      "l1 [1, 2, 3, 4, 6, 9, 12, 18, 36]\n",
      "l1 [1, 37]\n",
      "37 l1 [1, 2, 19, 38]\n",
      "l1 [1, 3, 13, 39]\n",
      "l1 [1, 2, 4, 5, 8, 10, 20, 40]\n",
      "l1 [1, 41]\n",
      "41 l1 [1, 2, 3, 6, 7, 14, 21, 42]\n",
      "l1 [1, 43]\n",
      "43 l1 [1, 2, 4, 11, 22, 44]\n",
      "l1 [1, 3, 5, 9, 15, 45]\n"
     ]
    }
   ],
   "source": [
    "for i in range(inp1,inp2+1):\n",
    "    if prime(i)==True:\n",
    "        print(i,end=\" \")"
   ]
  },
  {
   "cell_type": "code",
   "execution_count": 8,
   "id": "7dc38bac",
   "metadata": {},
   "outputs": [
    {
     "name": "stdout",
     "output_type": "stream",
     "text": [
      "x ['2', '3', '4', '5', '6', '7']\n"
     ]
    }
   ],
   "source": [
    "x = 765432\n",
    "x = str(x)\n",
    "x=list(x)[::-1]\n",
    "print(\"x\",x)\n",
    "z=int(\"\".join(x))\n"
   ]
  },
  {
   "cell_type": "code",
   "execution_count": 9,
   "id": "0c4a2118",
   "metadata": {},
   "outputs": [
    {
     "data": {
      "text/plain": [
       "234567"
      ]
     },
     "execution_count": 9,
     "metadata": {},
     "output_type": "execute_result"
    }
   ],
   "source": [
    "z"
   ]
  },
  {
   "cell_type": "code",
   "execution_count": 10,
   "id": "15b8b1d9",
   "metadata": {},
   "outputs": [
    {
     "data": {
      "text/plain": [
       "[20, 40, 60, 80, 100]"
      ]
     },
     "execution_count": 10,
     "metadata": {},
     "output_type": "execute_result"
    }
   ],
   "source": [
    "my_list = [10, 20, 30, 40, 50, 60, 70, 80, 90, 100]\n",
    "my_list[1::2] #using list slicing\n"
   ]
  },
  {
   "cell_type": "code",
   "execution_count": 11,
   "id": "9494b25b",
   "metadata": {},
   "outputs": [
    {
     "data": {
      "text/plain": [
       "65"
      ]
     },
     "execution_count": 11,
     "metadata": {},
     "output_type": "execute_result"
    }
   ],
   "source": [
    "x = [4, 6, 8, 24, 12, 2,65]\n",
    "max(x)"
   ]
  },
  {
   "cell_type": "code",
   "execution_count": 47,
   "id": "d453b927",
   "metadata": {},
   "outputs": [],
   "source": [
    "x = [4, 6, 8, 24, 12, 2,65]"
   ]
  },
  {
   "cell_type": "code",
   "execution_count": 48,
   "id": "5923e307",
   "metadata": {},
   "outputs": [],
   "source": [
    "y = [4, 6, 8, 24,45, 12, 2,65]"
   ]
  },
  {
   "cell_type": "code",
   "execution_count": 45,
   "id": "699692c7",
   "metadata": {},
   "outputs": [
    {
     "data": {
      "text/plain": [
       "3"
      ]
     },
     "execution_count": 45,
     "metadata": {},
     "output_type": "execute_result"
    }
   ],
   "source": [
    "len(x)//2"
   ]
  },
  {
   "cell_type": "code",
   "execution_count": 46,
   "id": "f5a308ed",
   "metadata": {},
   "outputs": [
    {
     "data": {
      "text/plain": [
       "4"
      ]
     },
     "execution_count": 46,
     "metadata": {},
     "output_type": "execute_result"
    }
   ],
   "source": [
    "len(y)//2"
   ]
  },
  {
   "cell_type": "code",
   "execution_count": 49,
   "id": "b09c1d4c",
   "metadata": {},
   "outputs": [],
   "source": [
    "def reverse(arr):\n",
    "    if len(arr)%2==0:\n",
    "        mid = len(arr)//2-1\n",
    "    else:\n",
    "        mid = len(arr)//2\n",
    "    for i in range(mid+1):\n",
    "        print(arr[i],arr[len(arr)-1-i])\n",
    "        arr[i], arr[len(arr)-1-i] = arr[len(arr)-1-i], arr[i]\n",
    "        print(arr)\n",
    "    return arr"
   ]
  },
  {
   "cell_type": "code",
   "execution_count": 50,
   "id": "86524e9c",
   "metadata": {},
   "outputs": [
    {
     "name": "stdout",
     "output_type": "stream",
     "text": [
      "4 65\n",
      "[65, 6, 8, 24, 12, 2, 4]\n",
      "6 2\n",
      "[65, 2, 8, 24, 12, 6, 4]\n",
      "8 12\n",
      "[65, 2, 12, 24, 8, 6, 4]\n",
      "24 24\n",
      "[65, 2, 12, 24, 8, 6, 4]\n"
     ]
    },
    {
     "data": {
      "text/plain": [
       "[65, 2, 12, 24, 8, 6, 4]"
      ]
     },
     "execution_count": 50,
     "metadata": {},
     "output_type": "execute_result"
    }
   ],
   "source": [
    "reverse(x)"
   ]
  },
  {
   "cell_type": "code",
   "execution_count": 51,
   "id": "0b0f6201",
   "metadata": {},
   "outputs": [
    {
     "name": "stdout",
     "output_type": "stream",
     "text": [
      "4 65\n",
      "[65, 6, 8, 24, 45, 12, 2, 4]\n",
      "6 2\n",
      "[65, 2, 8, 24, 45, 12, 6, 4]\n",
      "8 12\n",
      "[65, 2, 12, 24, 45, 8, 6, 4]\n",
      "24 45\n",
      "[65, 2, 12, 45, 24, 8, 6, 4]\n"
     ]
    },
    {
     "data": {
      "text/plain": [
       "[65, 2, 12, 45, 24, 8, 6, 4]"
      ]
     },
     "execution_count": 51,
     "metadata": {},
     "output_type": "execute_result"
    }
   ],
   "source": [
    "reverse(y)"
   ]
  },
  {
   "cell_type": "code",
   "execution_count": null,
   "id": "f8271b9e",
   "metadata": {},
   "outputs": [],
   "source": []
  }
 ],
 "metadata": {
  "kernelspec": {
   "display_name": "Python 3",
   "language": "python",
   "name": "python3"
  },
  "language_info": {
   "codemirror_mode": {
    "name": "ipython",
    "version": 3
   },
   "file_extension": ".py",
   "mimetype": "text/x-python",
   "name": "python",
   "nbconvert_exporter": "python",
   "pygments_lexer": "ipython3",
   "version": "3.11.0"
  }
 },
 "nbformat": 4,
 "nbformat_minor": 5
}
