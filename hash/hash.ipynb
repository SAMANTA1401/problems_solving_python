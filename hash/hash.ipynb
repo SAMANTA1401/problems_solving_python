{
 "cells": [
  {
   "cell_type": "code",
   "execution_count": 1,
   "id": "2fcb6f71",
   "metadata": {},
   "outputs": [
    {
     "data": {
      "text/plain": [
       "[[], [], [], [], []]"
      ]
     },
     "execution_count": 1,
     "metadata": {},
     "output_type": "execute_result"
    }
   ],
   "source": [
    "size = 5\n",
    "[[] for _ in range(size)]"
   ]
  },
  {
   "cell_type": "code",
   "execution_count": 34,
   "id": "4a2bfd5a",
   "metadata": {},
   "outputs": [],
   "source": [
    "class HashTable:\n",
    "    def __init__(self, size,):\n",
    "        self.size = size\n",
    "        self.table = [[] for _ in range(size)]\n",
    "\n",
    "    \n",
    "    def hash_function(self, key):\n",
    "        # A simple hash function\n",
    "        return hash(key) % self.size \n",
    "\n",
    "    def insert(self, key, value):\n",
    "        hash_key = self.hash_function(key)\n",
    "        key_exists = False\n",
    "        bucket = self.table[hash_key]\n",
    "        print(bucket)\n",
    "        \n",
    "        for i, kv in enumerate(bucket):\n",
    "            k, v = kv\n",
    "            if key == k:\n",
    "                key_exists = True\n",
    "                print(\"key_exists\")\n",
    "                break\n",
    "        \n",
    "        if key_exists:\n",
    "            bucket[i] = (key, value)  # Update the existing key\n",
    "        else:\n",
    "            bucket.append((key, value))  # Insert the new key-value pair\n",
    "            print(bucket)\n",
    "\n",
    "    def get(self, key):\n",
    "        hash_key = self.hash_function(key)\n",
    "        bucket = self.table[hash_key]\n",
    "        \n",
    "        for k, v in bucket:\n",
    "            if k == key:\n",
    "                return v\n",
    "        return None  # Key not found \n",
    "\n",
    "    def delete(self, key):\n",
    "        hash_key = self.hash_function(key)\n",
    "        bucket = self.table[hash_key]\n",
    "        \n",
    "        for i, kv in enumerate(bucket):\n",
    "            k, v = kv\n",
    "            if k == key:\n",
    "                del bucket[i]\n",
    "                return True\n",
    "        return False  # Key not found\n"
   ]
  },
  {
   "cell_type": "code",
   "execution_count": 35,
   "id": "2499bec0",
   "metadata": {},
   "outputs": [],
   "source": [
    "hash_table = HashTable(size)    "
   ]
  },
  {
   "cell_type": "code",
   "execution_count": 4,
   "id": "49df65d9",
   "metadata": {},
   "outputs": [
    {
     "data": {
      "text/plain": [
       "0"
      ]
     },
     "execution_count": 4,
     "metadata": {},
     "output_type": "execute_result"
    }
   ],
   "source": [
    "hash_table.hash_function(45)"
   ]
  },
  {
   "cell_type": "code",
   "execution_count": 5,
   "id": "462ba10c",
   "metadata": {},
   "outputs": [
    {
     "data": {
      "text/plain": [
       "0"
      ]
     },
     "execution_count": 5,
     "metadata": {},
     "output_type": "execute_result"
    }
   ],
   "source": [
    "hash_table.hash_function(65)"
   ]
  },
  {
   "cell_type": "code",
   "execution_count": 6,
   "id": "04b582f3",
   "metadata": {},
   "outputs": [
    {
     "data": {
      "text/plain": [
       "2"
      ]
     },
     "execution_count": 6,
     "metadata": {},
     "output_type": "execute_result"
    }
   ],
   "source": [
    "hash_table.hash_function(\"key1\")"
   ]
  },
  {
   "cell_type": "code",
   "execution_count": 36,
   "id": "5a7a2ecd",
   "metadata": {},
   "outputs": [
    {
     "name": "stdout",
     "output_type": "stream",
     "text": [
      "[]\n",
      "[('key1', 85)]\n"
     ]
    }
   ],
   "source": [
    "hash_table.insert(\"key1\",85)"
   ]
  },
  {
   "cell_type": "code",
   "execution_count": 38,
   "id": "d1aeb05d",
   "metadata": {},
   "outputs": [
    {
     "data": {
      "text/plain": [
       "85"
      ]
     },
     "execution_count": 38,
     "metadata": {},
     "output_type": "execute_result"
    }
   ],
   "source": [
    "hash_table.get(\"key1\")"
   ]
  },
  {
   "cell_type": "code",
   "execution_count": 39,
   "id": "af245add",
   "metadata": {},
   "outputs": [
    {
     "data": {
      "text/plain": [
       "True"
      ]
     },
     "execution_count": 39,
     "metadata": {},
     "output_type": "execute_result"
    }
   ],
   "source": [
    "hash_table.delete(\"key1\")"
   ]
  },
  {
   "cell_type": "code",
   "execution_count": 40,
   "id": "32295492",
   "metadata": {},
   "outputs": [],
   "source": [
    "hash_table.get(\"key1\")"
   ]
  },
  {
   "cell_type": "code",
   "execution_count": null,
   "id": "cc1b5232",
   "metadata": {},
   "outputs": [],
   "source": [
    "hash_table = HashTable(size=10)"
   ]
  },
  {
   "cell_type": "code",
   "execution_count": 42,
   "id": "de28e02c",
   "metadata": {},
   "outputs": [
    {
     "name": "stdout",
     "output_type": "stream",
     "text": [
      "[]\n",
      "[('apple', 10)]\n",
      "[('apple', 10)]\n",
      "[('apple', 10), ('banana', 20)]\n",
      "[]\n",
      "[('orange', 30)]\n"
     ]
    }
   ],
   "source": [
    "hash_table.insert(\"apple\", 10)\n",
    "hash_table.insert(\"banana\", 20)\n",
    "hash_table.insert(\"orange\", 30)"
   ]
  },
  {
   "cell_type": "code",
   "execution_count": null,
   "id": "ae3aa376",
   "metadata": {},
   "outputs": [
    {
     "name": "stdout",
     "output_type": "stream",
     "text": [
      "None\n"
     ]
    }
   ],
   "source": [
    "hash_table.delete(\"apple\")\n",
    "print(hash_table.get(\"apple\")) "
   ]
  }
 ],
 "metadata": {
  "kernelspec": {
   "display_name": "Python 3",
   "language": "python",
   "name": "python3"
  },
  "language_info": {
   "codemirror_mode": {
    "name": "ipython",
    "version": 3
   },
   "file_extension": ".py",
   "mimetype": "text/x-python",
   "name": "python",
   "nbconvert_exporter": "python",
   "pygments_lexer": "ipython3",
   "version": "3.11.0"
  }
 },
 "nbformat": 4,
 "nbformat_minor": 5
}
