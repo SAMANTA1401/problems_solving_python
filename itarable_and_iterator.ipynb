{
  "nbformat": 4,
  "nbformat_minor": 0,
  "metadata": {
    "colab": {
      "provenance": []
    },
    "kernelspec": {
      "name": "python3",
      "display_name": "Python 3"
    },
    "language_info": {
      "name": "python"
    }
  },
  "cells": [
    {
      "cell_type": "markdown",
      "source": [
        "an iterable is an object that can be iterated upon .it can return an iterator object with the purpose of traversing through all the element of an iterable\n",
        "\n",
        "an iterable object implements __iter()__ which is expected to return an iterator onject. the iterator object uses the __next()__ method. every time next() is called next element in the iterator stream is returned .when there are no more elements availlable stop iteration exception is encountered .so any object that has a __next()__ method is called an iterator.\n",
        "\n",
        "\n",
        "python lists, tuples, dictionaries and sets are all examles of iterable object\n",
        "\n",
        "in python all are the object"
      ],
      "metadata": {
        "id": "wlW03pPprXwO"
      }
    },
    {
      "cell_type": "code",
      "execution_count": null,
      "metadata": {
        "colab": {
          "base_uri": "https://localhost:8080/",
          "height": 315
        },
        "id": "VCrBB8N8UGKI",
        "outputId": "0b6b43f3-522b-4de7-d042-a4118d92e89a"
      },
      "outputs": [
        {
          "output_type": "stream",
          "name": "stdout",
          "text": [
            "asif\n",
            "vasit\n",
            "jihgf\n",
            "sffg\n"
          ]
        },
        {
          "output_type": "error",
          "ename": "StopIteration",
          "evalue": "ignored",
          "traceback": [
            "\u001b[0;31m---------------------------------------------------------------------------\u001b[0m",
            "\u001b[0;31mStopIteration\u001b[0m                             Traceback (most recent call last)",
            "\u001b[0;32m<ipython-input-4-3d3240360d3e>\u001b[0m in \u001b[0;36m<cell line: 7>\u001b[0;34m()\u001b[0m\n\u001b[1;32m      5\u001b[0m \u001b[0mprint\u001b[0m\u001b[0;34m(\u001b[0m\u001b[0mnext\u001b[0m\u001b[0;34m(\u001b[0m\u001b[0mlist_iter\u001b[0m\u001b[0;34m)\u001b[0m\u001b[0;34m)\u001b[0m\u001b[0;34m\u001b[0m\u001b[0;34m\u001b[0m\u001b[0m\n\u001b[1;32m      6\u001b[0m \u001b[0mprint\u001b[0m\u001b[0;34m(\u001b[0m\u001b[0mnext\u001b[0m\u001b[0;34m(\u001b[0m\u001b[0mlist_iter\u001b[0m\u001b[0;34m)\u001b[0m\u001b[0;34m)\u001b[0m\u001b[0;34m\u001b[0m\u001b[0;34m\u001b[0m\u001b[0m\n\u001b[0;32m----> 7\u001b[0;31m \u001b[0mprint\u001b[0m\u001b[0;34m(\u001b[0m\u001b[0mnext\u001b[0m\u001b[0;34m(\u001b[0m\u001b[0mlist_iter\u001b[0m\u001b[0;34m)\u001b[0m\u001b[0;34m)\u001b[0m\u001b[0;34m\u001b[0m\u001b[0;34m\u001b[0m\u001b[0m\n\u001b[0m\u001b[1;32m      8\u001b[0m \u001b[0mprint\u001b[0m\u001b[0;34m(\u001b[0m\u001b[0mnext\u001b[0m\u001b[0;34m(\u001b[0m\u001b[0mlist_iter\u001b[0m\u001b[0;34m)\u001b[0m\u001b[0;34m)\u001b[0m\u001b[0;34m\u001b[0m\u001b[0;34m\u001b[0m\u001b[0m\n\u001b[1;32m      9\u001b[0m \u001b[0;34m\u001b[0m\u001b[0m\n",
            "\u001b[0;31mStopIteration\u001b[0m: "
          ]
        }
      ],
      "source": [
        "mylist = ['asif','vasit', 'jihgf', 'sffg']\n",
        "list_iter  = iter(mylist)  #create an iterator object using iter()\n",
        "print(next(list_iter))  #return first element in the iterator strem\n",
        "print(next(list_iter))  #return next element\n",
        "print(next(list_iter))\n",
        "print(next(list_iter))\n",
        "print(next(list_iter))\n",
        "print(next(list_iter))\n",
        "\n"
      ]
    },
    {
      "cell_type": "code",
      "source": [
        "mylist = ['asif','vasit', 'jihgf', 'sffg']\n",
        "list_iter  = iter(mylist)  #create an iterator object using iter()\n",
        "print(list_iter.__next__())\n",
        "print(list_iter.__next__())\n",
        "print(list_iter.__next__())\n",
        "print(list_iter.__next__())\n",
        "print(list_iter.__next__())\n",
        "print(list_iter.__next__())\n",
        "\n",
        "\n",
        "\n"
      ],
      "metadata": {
        "colab": {
          "base_uri": "https://localhost:8080/",
          "height": 315
        },
        "id": "PbyvVRlQFGs2",
        "outputId": "bbe0df53-848e-43b0-e272-4982a5701217"
      },
      "execution_count": null,
      "outputs": [
        {
          "output_type": "stream",
          "name": "stdout",
          "text": [
            "asif\n",
            "vasit\n",
            "jihgf\n",
            "sffg\n"
          ]
        },
        {
          "output_type": "error",
          "ename": "StopIteration",
          "evalue": "ignored",
          "traceback": [
            "\u001b[0;31m---------------------------------------------------------------------------\u001b[0m",
            "\u001b[0;31mStopIteration\u001b[0m                             Traceback (most recent call last)",
            "\u001b[0;32m<ipython-input-5-08e598edeb8e>\u001b[0m in \u001b[0;36m<cell line: 7>\u001b[0;34m()\u001b[0m\n\u001b[1;32m      5\u001b[0m \u001b[0mprint\u001b[0m\u001b[0;34m(\u001b[0m\u001b[0mlist_iter\u001b[0m\u001b[0;34m.\u001b[0m\u001b[0m__next__\u001b[0m\u001b[0;34m(\u001b[0m\u001b[0;34m)\u001b[0m\u001b[0;34m)\u001b[0m\u001b[0;34m\u001b[0m\u001b[0;34m\u001b[0m\u001b[0m\n\u001b[1;32m      6\u001b[0m \u001b[0mprint\u001b[0m\u001b[0;34m(\u001b[0m\u001b[0mlist_iter\u001b[0m\u001b[0;34m.\u001b[0m\u001b[0m__next__\u001b[0m\u001b[0;34m(\u001b[0m\u001b[0;34m)\u001b[0m\u001b[0;34m)\u001b[0m\u001b[0;34m\u001b[0m\u001b[0;34m\u001b[0m\u001b[0m\n\u001b[0;32m----> 7\u001b[0;31m \u001b[0mprint\u001b[0m\u001b[0;34m(\u001b[0m\u001b[0mlist_iter\u001b[0m\u001b[0;34m.\u001b[0m\u001b[0m__next__\u001b[0m\u001b[0;34m(\u001b[0m\u001b[0;34m)\u001b[0m\u001b[0;34m)\u001b[0m\u001b[0;34m\u001b[0m\u001b[0;34m\u001b[0m\u001b[0m\n\u001b[0m\u001b[1;32m      8\u001b[0m \u001b[0mprint\u001b[0m\u001b[0;34m(\u001b[0m\u001b[0mlist_iter\u001b[0m\u001b[0;34m.\u001b[0m\u001b[0m__next__\u001b[0m\u001b[0;34m(\u001b[0m\u001b[0;34m)\u001b[0m\u001b[0;34m)\u001b[0m\u001b[0;34m\u001b[0m\u001b[0;34m\u001b[0m\u001b[0m\n\u001b[1;32m      9\u001b[0m \u001b[0;34m\u001b[0m\u001b[0m\n",
            "\u001b[0;31mStopIteration\u001b[0m: "
          ]
        }
      ]
    },
    {
      "cell_type": "code",
      "source": [
        "mylist = ['asif','vasit', 'jihgf', 'sffg']\n",
        "list_iter  = iter(mylist)  #create an iterator object using iter()\n",
        "\n",
        "for i in list_iter:\n",
        "  print(i)"
      ],
      "metadata": {
        "colab": {
          "base_uri": "https://localhost:8080/"
        },
        "id": "WkGyZHCtFWZ3",
        "outputId": "e188470d-eb62-4075-ce62-270cd5c77755"
      },
      "execution_count": null,
      "outputs": [
        {
          "output_type": "stream",
          "name": "stdout",
          "text": [
            "asif\n",
            "vasit\n",
            "jihgf\n",
            "sffg\n"
          ]
        }
      ]
    },
    {
      "cell_type": "code",
      "source": [
        "#for list comprehension : looping through on iterable list using for loop\n",
        "mylist = ['asif','vasit', 'jihgf', 'sffg']\n",
        "\n",
        "for i in mylist:\n",
        "  print(i)\n"
      ],
      "metadata": {
        "colab": {
          "base_uri": "https://localhost:8080/"
        },
        "id": "lVhJJ3FRGG8B",
        "outputId": "9710224c-cf06-4201-ac34-6a3745b40f8e"
      },
      "execution_count": null,
      "outputs": [
        {
          "output_type": "stream",
          "name": "stdout",
          "text": [
            "asif\n",
            "vasit\n",
            "jihgf\n",
            "sffg\n"
          ]
        }
      ]
    },
    {
      "cell_type": "code",
      "source": [
        "#for list comprehension : looping through on iterable tuple using for loop\n",
        "mylist = ('asif','vasit', 'jihgf', 'sffg')\n",
        "\n",
        "for i in mylist:\n",
        "  print(i)"
      ],
      "metadata": {
        "colab": {
          "base_uri": "https://localhost:8080/"
        },
        "id": "iwPu02ScGW8_",
        "outputId": "0c4c6d66-20bb-457c-db68-9b6b5ff0d868"
      },
      "execution_count": null,
      "outputs": [
        {
          "output_type": "stream",
          "name": "stdout",
          "text": [
            "asif\n",
            "vasit\n",
            "jihgf\n",
            "sffg\n"
          ]
        }
      ]
    },
    {
      "cell_type": "code",
      "source": [
        "# looping through on iterable string using for loop\n",
        "\n",
        "mystr = \"hello python\"\n",
        "for i in mystr:\n",
        "  print(i)"
      ],
      "metadata": {
        "colab": {
          "base_uri": "https://localhost:8080/"
        },
        "id": "qm1jnjOOG0wR",
        "outputId": "c84db780-4f3d-4836-f455-00578a5edf5b"
      },
      "execution_count": null,
      "outputs": [
        {
          "output_type": "stream",
          "name": "stdout",
          "text": [
            "h\n",
            "e\n",
            "l\n",
            "l\n",
            "o\n",
            " \n",
            "p\n",
            "y\n",
            "t\n",
            "h\n",
            "o\n",
            "n\n"
          ]
        }
      ]
    },
    {
      "cell_type": "markdown",
      "source": [
        "class"
      ],
      "metadata": {
        "id": "LSMJSEBqHtVV"
      }
    },
    {
      "cell_type": "code",
      "source": [
        "# this iterable produces all natural numbers from 1 to 10\n",
        "class myiter:\n",
        "  def __init__(self): #init-iate = initiate\n",
        "    self.num = 0\n",
        "\n",
        "  def __iter__(self):\n",
        "    self.num = 1\n",
        "    return self\n",
        "\n",
        "  def __next__(self):\n",
        "    if self.num <= 10:\n",
        "      val = self.num\n",
        "      self.num += 1\n",
        "      return val\n",
        "    else:\n",
        "      raise StopIteration\n",
        "\n",
        "mynum = myiter()\n",
        "iter1 = iter(mynum)\n",
        "\n",
        "for i in iter1:\n",
        "  print(i)\n"
      ],
      "metadata": {
        "colab": {
          "base_uri": "https://localhost:8080/"
        },
        "id": "98XL69taHP7x",
        "outputId": "58ea9204-3eff-47ba-8bb5-30b54a07120d"
      },
      "execution_count": null,
      "outputs": [
        {
          "output_type": "stream",
          "name": "stdout",
          "text": [
            "1\n",
            "2\n",
            "3\n",
            "4\n",
            "5\n",
            "6\n",
            "7\n",
            "8\n",
            "9\n",
            "10\n"
          ]
        }
      ]
    },
    {
      "cell_type": "code",
      "source": [
        "# this iterator will produce odd  number\n",
        "class myiter:\n",
        "    def __init__(self):\n",
        "        self.num = 0\n",
        "\n",
        "    def __iter__(self):\n",
        "      self.num = 1\n",
        "      return self\n",
        "\n",
        "    def __next__(self):\n",
        "      if self.num <= 20:\n",
        "        val = self.num\n",
        "        self.num +=2\n",
        "        return val\n",
        "      else:\n",
        "        raise StopIteration\n",
        "\n",
        "myodd = myiter()\n",
        "iter1 = iter(myodd)\n",
        "\n",
        "for i in iter1:\n",
        "  print(i)"
      ],
      "metadata": {
        "colab": {
          "base_uri": "https://localhost:8080/"
        },
        "id": "ek0u4qKrJrAZ",
        "outputId": "9dbce3b0-5cf5-48fd-b386-b3cdd2390bb6"
      },
      "execution_count": null,
      "outputs": [
        {
          "output_type": "stream",
          "name": "stdout",
          "text": [
            "1\n",
            "3\n",
            "5\n",
            "7\n",
            "9\n",
            "11\n",
            "13\n",
            "15\n",
            "17\n",
            "19\n"
          ]
        }
      ]
    },
    {
      "cell_type": "code",
      "source": [
        "# this iterator will produce fibonacci numbers\n",
        "\n",
        "class myfibonacci:\n",
        "  def __init__(self):\n",
        "    self.prev =0\n",
        "    self.cur = 0\n",
        "\n",
        "  def __iter__(self):\n",
        "    self.prev = 0\n",
        "    self.cur = 1\n",
        "    return self\n",
        "\n",
        "  def __next__(self):\n",
        "    if self.cur <50:\n",
        "      val = self.cur\n",
        "      self.cur += self.prev\n",
        "      self.prev = val\n",
        "      return val\n",
        "\n",
        "    else:\n",
        "      raise StopIteration\n",
        "\n",
        "myfibo = myfibonacci()\n",
        "iter1 = iter(myfibo)\n",
        "\n",
        "for i in iter1:\n",
        "  print(i)"
      ],
      "metadata": {
        "colab": {
          "base_uri": "https://localhost:8080/"
        },
        "id": "QygslYt9MBf-",
        "outputId": "13941a55-8b6a-4f44-e1f0-9a275a10e522"
      },
      "execution_count": null,
      "outputs": [
        {
          "output_type": "stream",
          "name": "stdout",
          "text": [
            "1\n",
            "1\n",
            "2\n",
            "3\n",
            "5\n",
            "8\n",
            "13\n",
            "21\n",
            "34\n"
          ]
        }
      ]
    },
    {
      "cell_type": "code",
      "source": [],
      "metadata": {
        "id": "Oq2ZcHZvSdLy"
      },
      "execution_count": null,
      "outputs": []
    }
  ]
}