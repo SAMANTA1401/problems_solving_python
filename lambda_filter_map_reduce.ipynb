{
  "nbformat": 4,
  "nbformat_minor": 0,
  "metadata": {
    "colab": {
      "provenance": []
    },
    "kernelspec": {
      "name": "python3",
      "display_name": "Python 3"
    },
    "language_info": {
      "name": "python"
    }
  },
  "cells": [
    {
      "cell_type": "markdown",
      "source": [
        "**lambda:**\n",
        "a lambda function is an anonymous function (function without a name)\n",
        "\n",
        "lambda functions cam have any number of argument but only one expression .the expression is evaluated and returned\n",
        "\n",
        "we use lambda functions when we required a nameless function for a short period of time\n",
        "\n",
        "syntax: lambda argument(s): expression'\n",
        "\n",
        "**filter:**\n",
        "it is used to filter the iterables /sequence as per the conditions\n",
        "\n",
        "filter function filters the original iterable and passes the items that returns true for the function provided to filter\n",
        "\n",
        "it is normaly used with lambda function to filter list, tuple ,or sets\n",
        "\n",
        "filter() method takes two parameters:\n",
        "function-function tests if elements of an iterable returns true of false\n",
        "\n",
        "iterable sequence whidch needs to  be filtered ,could be sets ,lists, tupless, ,or any,iterators\n",
        "\n",
        "syntax: filter(function, iterable)\n",
        "\n",
        "**map:**\n",
        "\n",
        "the map() function applies a given function toe esch iter of an iterable(list ,tuple etc) and returns a list of the results\n",
        "\n",
        "map() function takes two parameters:\n",
        "\n",
        "function: the function to execute for each item  of given iterable\n",
        "\n",
        "iterable:  it is a iterable which is to be mapped\n",
        "\n",
        "returns : returns a list of the results after applying the given function to each item of a given iterable(list, tuple etc)\n",
        "\n",
        "SYNTAX: map(function, iterable)\n",
        "\n",
        "**reduce:**\n",
        "\n",
        "the reduce() function is defined in the functools python module .the reduce() function recieves two arguments , a function and an iterables, however. it doesn't return another iterables,instead it returns a single vallue\n",
        "\n",
        "syntax: reduce(lambda a,b: a+b, list1"
      ],
      "metadata": {
        "id": "KxqXb_opZsTZ"
      }
    },
    {
      "cell_type": "markdown",
      "source": [
        "## lambda"
      ],
      "metadata": {
        "id": "q6k2wG6wriS9"
      }
    },
    {
      "cell_type": "code",
      "execution_count": null,
      "metadata": {
        "colab": {
          "base_uri": "https://localhost:8080/"
        },
        "id": "Uj0dhxwnZbzL",
        "outputId": "b332f9b6-c18d-4e78-e219-12ffc88f3616"
      },
      "outputs": [
        {
          "output_type": "stream",
          "name": "stdout",
          "text": [
            "0\n",
            "2\n"
          ]
        }
      ],
      "source": [
        "x = (i for i in range(10) if i%2==0)\n",
        "print(next(x))\n",
        "print(next(x))\n"
      ]
    },
    {
      "cell_type": "code",
      "source": [
        "x = [i for i in range(10) if i%2==0]\n",
        "print(x)"
      ],
      "metadata": {
        "colab": {
          "base_uri": "https://localhost:8080/"
        },
        "id": "ENAgm9wsjSHl",
        "outputId": "07154e65-ddf6-4636-899d-0e428e591dc3"
      },
      "execution_count": null,
      "outputs": [
        {
          "output_type": "stream",
          "name": "stdout",
          "text": [
            "[0, 2, 4, 6, 8]\n"
          ]
        }
      ]
    },
    {
      "cell_type": "code",
      "source": [],
      "metadata": {
        "id": "bGvJ8Cc2mvb5"
      },
      "execution_count": null,
      "outputs": []
    },
    {
      "cell_type": "code",
      "source": [
        "addition = lambda a: a+120\n",
        "print(addition(3))"
      ],
      "metadata": {
        "colab": {
          "base_uri": "https://localhost:8080/"
        },
        "id": "JC_pfYZZjf4n",
        "outputId": "2e06e551-200d-4f4f-94c7-95104cf9222b"
      },
      "execution_count": null,
      "outputs": [
        {
          "output_type": "stream",
          "name": "stdout",
          "text": [
            "123\n"
          ]
        }
      ]
    },
    {
      "cell_type": "code",
      "source": [
        "def addition(a):\n",
        "  print(a+120)\n",
        "\n",
        "addition(3)"
      ],
      "metadata": {
        "colab": {
          "base_uri": "https://localhost:8080/"
        },
        "id": "8FxIvdqonLsl",
        "outputId": "99677caa-6d7a-40fb-94ac-1b3c9dc36f54"
      },
      "execution_count": null,
      "outputs": [
        {
          "output_type": "stream",
          "name": "stdout",
          "text": [
            "123\n"
          ]
        }
      ]
    },
    {
      "cell_type": "code",
      "source": [
        "product = lambda a,b : a*b\n",
        "print(product(3,5))"
      ],
      "metadata": {
        "colab": {
          "base_uri": "https://localhost:8080/"
        },
        "id": "L0N0fKPIntBz",
        "outputId": "bae363b6-0f77-41be-94c4-5c2d7720172b"
      },
      "execution_count": null,
      "outputs": [
        {
          "output_type": "stream",
          "name": "stdout",
          "text": [
            "15\n"
          ]
        }
      ]
    },
    {
      "cell_type": "code",
      "source": [
        "addition = lambda a,b,c :a+b+c\n",
        "print(addition(5,6,7))"
      ],
      "metadata": {
        "colab": {
          "base_uri": "https://localhost:8080/"
        },
        "id": "D-iokronn4nR",
        "outputId": "b43ebad7-0496-417f-aeb5-a29c31ba66a4"
      },
      "execution_count": null,
      "outputs": [
        {
          "output_type": "stream",
          "name": "stdout",
          "text": [
            "18\n"
          ]
        }
      ]
    },
    {
      "cell_type": "code",
      "source": [
        "# this lambda function take any no of argukments\n",
        "res = (lambda *args: sum(args))\n",
        "print(res(35,46,6))\n",
        "print(res(4,6,6,7,35))"
      ],
      "metadata": {
        "colab": {
          "base_uri": "https://localhost:8080/"
        },
        "id": "hv46a5IooE_w",
        "outputId": "03d847de-056b-4b5c-c46e-9910571b7df7"
      },
      "execution_count": null,
      "outputs": [
        {
          "output_type": "stream",
          "name": "stdout",
          "text": [
            "87\n",
            "58\n"
          ]
        }
      ]
    },
    {
      "cell_type": "code",
      "source": [
        "#this lambda function take any number of parameter/variable with value\n",
        "res = (lambda **kwargs: sum(kwargs.values()))\n",
        "res(a = 34, b=345, c=5), res(a =234,b=23)"
      ],
      "metadata": {
        "colab": {
          "base_uri": "https://localhost:8080/"
        },
        "id": "_e4LFqd3oiA-",
        "outputId": "849cb038-8f6c-492a-ab6a-90fc8b21ad78"
      },
      "execution_count": null,
      "outputs": [
        {
          "output_type": "execute_result",
          "data": {
            "text/plain": [
              "(384, 257)"
            ]
          },
          "metadata": {},
          "execution_count": 11
        }
      ]
    },
    {
      "cell_type": "code",
      "source": [
        "\n",
        "#  user defined function to find product of numbers\n",
        "def product(nums):\n",
        "  total = 1\n",
        "  for i in nums:\n",
        "    total *=i\n",
        "  return total\n",
        "\n",
        "# this lamda functionn can take  any  number of arguments and return their product\n",
        "\n",
        "res1 = (lambda **kwargs: product(kwargs.values()))\n",
        "res1(a=45,b=56,c=67)"
      ],
      "metadata": {
        "colab": {
          "base_uri": "https://localhost:8080/"
        },
        "id": "Xp1_xwKKpmo2",
        "outputId": "e40d1700-8807-4268-8c34-82c2a55ecc99"
      },
      "execution_count": null,
      "outputs": [
        {
          "output_type": "execute_result",
          "data": {
            "text/plain": [
              "168840"
            ]
          },
          "metadata": {},
          "execution_count": 12
        }
      ]
    },
    {
      "cell_type": "code",
      "source": [
        "def myfunc(n):\n",
        "   return lambda a :a+n\n",
        "\n",
        "add10 = myfunc(10)\n",
        "add20 = myfunc(20)\n",
        "add30 = myfunc(30)\n",
        "\n",
        "print(add10(5))\n",
        "print(add20(5))\n",
        "print(add30(5))"
      ],
      "metadata": {
        "colab": {
          "base_uri": "https://localhost:8080/"
        },
        "id": "mRbjeSakw3AG",
        "outputId": "b6b196ad-8906-4eec-c56e-c7fbf7618119"
      },
      "execution_count": null,
      "outputs": [
        {
          "output_type": "stream",
          "name": "stdout",
          "text": [
            "15\n",
            "25\n",
            "35\n"
          ]
        }
      ]
    },
    {
      "cell_type": "markdown",
      "source": [
        "## filter"
      ],
      "metadata": {
        "id": "7HMLtUhdrm_m"
      }
    },
    {
      "cell_type": "code",
      "source": [
        "list1 = [1,2,3,4,5,6,7,8,9]\n",
        "\n",
        "def odd(n):\n",
        "  if n%2 == 1: return True\n",
        "  else: return False\n",
        "\n",
        "\n",
        "# odd_num = (filter(odd,list1))  #this filter function filter list  iterator object\n",
        "odd_num = list(filter(odd, list1))\n",
        "odd_num"
      ],
      "metadata": {
        "colab": {
          "base_uri": "https://localhost:8080/"
        },
        "id": "ix_9ztl7rVQ6",
        "outputId": "b53782d0-35b1-412d-9338-d45c545c633e"
      },
      "execution_count": null,
      "outputs": [
        {
          "output_type": "execute_result",
          "data": {
            "text/plain": [
              "[1, 3, 5, 7, 9]"
            ]
          },
          "metadata": {},
          "execution_count": 5
        }
      ]
    },
    {
      "cell_type": "code",
      "source": [
        "# using lambda\n",
        "list1 = [1,2,3,4,5,6]\n",
        "odd_num = list(filter(lambda x: x%2==1, list1))\n",
        "odd_num"
      ],
      "metadata": {
        "colab": {
          "base_uri": "https://localhost:8080/"
        },
        "id": "95wB0UL9sINk",
        "outputId": "5de66736-a07d-4f13-dba1-e69c9be9b330"
      },
      "execution_count": null,
      "outputs": [
        {
          "output_type": "execute_result",
          "data": {
            "text/plain": [
              "[1, 3, 5]"
            ]
          },
          "metadata": {},
          "execution_count": 8
        }
      ]
    },
    {
      "cell_type": "markdown",
      "source": [
        "## map"
      ],
      "metadata": {
        "id": "uoSu4nfvtxl2"
      }
    },
    {
      "cell_type": "code",
      "source": [
        "def twice(n):\n",
        "  return n*2\n",
        "\n",
        "doubles = list(map(twice,odd_num))\n",
        "doubles"
      ],
      "metadata": {
        "colab": {
          "base_uri": "https://localhost:8080/"
        },
        "id": "eZVRzgU1sEYT",
        "outputId": "2f21ef55-eb26-4bfb-919a-c5dc35763239"
      },
      "execution_count": null,
      "outputs": [
        {
          "output_type": "execute_result",
          "data": {
            "text/plain": [
              "[2, 6, 10]"
            ]
          },
          "metadata": {},
          "execution_count": 9
        }
      ]
    },
    {
      "cell_type": "code",
      "source": [
        "# using lambda\n",
        "doubles = list(map(lambda x: x*2,odd_num))\n",
        "doubles"
      ],
      "metadata": {
        "colab": {
          "base_uri": "https://localhost:8080/"
        },
        "id": "ahmyZR-7t8AM",
        "outputId": "85161d3c-778e-445d-f904-120ca4b5dfb8"
      },
      "execution_count": null,
      "outputs": [
        {
          "output_type": "execute_result",
          "data": {
            "text/plain": [
              "[2, 6, 10]"
            ]
          },
          "metadata": {},
          "execution_count": 10
        }
      ]
    },
    {
      "cell_type": "markdown",
      "source": [
        "## reduce"
      ],
      "metadata": {
        "id": "mPmUV-ppuOHg"
      }
    },
    {
      "cell_type": "code",
      "source": [
        "from functools import reduce"
      ],
      "metadata": {
        "id": "zf-dSW1ouJte"
      },
      "execution_count": null,
      "outputs": []
    },
    {
      "cell_type": "code",
      "source": [
        "def add(a,b):\n",
        "  return a+b\n",
        "sum_all = reduce(add, doubles)  #this reduces function will performs sum of all items\n",
        "sum_all"
      ],
      "metadata": {
        "colab": {
          "base_uri": "https://localhost:8080/"
        },
        "id": "u0H_N9YluUt2",
        "outputId": "67b5e1af-48bb-447c-de43-f6d83cd84cd1"
      },
      "execution_count": null,
      "outputs": [
        {
          "output_type": "execute_result",
          "data": {
            "text/plain": [
              "18"
            ]
          },
          "metadata": {},
          "execution_count": 12
        }
      ]
    },
    {
      "cell_type": "code",
      "source": [
        "# using lambda\n",
        "sum_all = reduce(lambda a,b: a+b, doubles)\n",
        "sum_all"
      ],
      "metadata": {
        "colab": {
          "base_uri": "https://localhost:8080/"
        },
        "id": "Sa1riewOwlcS",
        "outputId": "1a1d76ab-e85d-4ba2-edc9-df739518de93"
      },
      "execution_count": null,
      "outputs": [
        {
          "output_type": "execute_result",
          "data": {
            "text/plain": [
              "18"
            ]
          },
          "metadata": {},
          "execution_count": 13
        }
      ]
    },
    {
      "cell_type": "code",
      "source": [
        "# putting all together recduce, filte, map ,lambda\n",
        "sum_all = reduce(lambda a,b: a+b, list(map(lambda n: n*2, list(filter(lambda n: n%2==1,list1 )))))\n",
        "sum_all"
      ],
      "metadata": {
        "colab": {
          "base_uri": "https://localhost:8080/"
        },
        "id": "-PQG1tzcw5iQ",
        "outputId": "a347e632-cf1f-4491-96bf-b347d32e2e54"
      },
      "execution_count": null,
      "outputs": [
        {
          "output_type": "execute_result",
          "data": {
            "text/plain": [
              "18"
            ]
          },
          "metadata": {},
          "execution_count": 14
        }
      ]
    },
    {
      "cell_type": "code",
      "source": [
        "even = list(filter(lambda n: n%2 == 0,list1))\n",
        "even"
      ],
      "metadata": {
        "colab": {
          "base_uri": "https://localhost:8080/"
        },
        "id": "iJZLyjAmypvH",
        "outputId": "d4123b3b-079c-42f1-e3d3-d27d64f7fc2f"
      },
      "execution_count": null,
      "outputs": [
        {
          "output_type": "execute_result",
          "data": {
            "text/plain": [
              "[2, 4, 6]"
            ]
          },
          "metadata": {},
          "execution_count": 15
        }
      ]
    },
    {
      "cell_type": "code",
      "source": [
        "list2 = ['one','TWO','three','FOUR']\n",
        "\n",
        "upper = list(filter(lambda x: x.isupper(),list2)) #filter upper case\n",
        "upper"
      ],
      "metadata": {
        "colab": {
          "base_uri": "https://localhost:8080/"
        },
        "id": "4K8bMiguzMlK",
        "outputId": "70abd4ee-2848-43c5-95b5-2a30878cdbad"
      },
      "execution_count": null,
      "outputs": [
        {
          "output_type": "execute_result",
          "data": {
            "text/plain": [
              "['TWO', 'FOUR']"
            ]
          },
          "metadata": {},
          "execution_count": 16
        }
      ]
    },
    {
      "cell_type": "code",
      "source": [
        "lower = list(filter(lambda x: x.islower(),list2)) #filter lower case\n",
        "lower"
      ],
      "metadata": {
        "colab": {
          "base_uri": "https://localhost:8080/"
        },
        "id": "B6YjP9lrzl5V",
        "outputId": "97f47834-5d20-4c96-cbed-fc6052848b41"
      },
      "execution_count": null,
      "outputs": [
        {
          "output_type": "execute_result",
          "data": {
            "text/plain": [
              "['one', 'three']"
            ]
          },
          "metadata": {},
          "execution_count": 17
        }
      ]
    },
    {
      "cell_type": "code",
      "source": [
        "# isnumeric()  numeric\n",
        "# isalpha()     alphabet\n",
        "# isalnum()     alphanumeric\n",
        "\n"
      ],
      "metadata": {
        "id": "X_zAGcDDz1O6"
      },
      "execution_count": null,
      "outputs": []
    },
    {
      "cell_type": "code",
      "source": [
        "list1 = [1,2,3,4]\n",
        "list2 = [5,6,7,8]\n",
        "\n",
        "def double(x):\n",
        "  return x+x\n",
        "\n",
        "def add(x,y):\n",
        "  return x+y\n",
        "\n",
        "def square(x):\n",
        "  return x*x\n",
        "\n",
        "print(list(map(double, list1))) #double each number using map\n",
        "print (list(map(add, list1, list2))) #add two items using map\n",
        "print(list(map(square, list1))) #square each number"
      ],
      "metadata": {
        "colab": {
          "base_uri": "https://localhost:8080/"
        },
        "id": "z5dgfCVk1g49",
        "outputId": "d57bc034-2b98-4985-8a9d-130120cadde3"
      },
      "execution_count": null,
      "outputs": [
        {
          "output_type": "stream",
          "name": "stdout",
          "text": [
            "[2, 4, 6, 8]\n",
            "[6, 8, 10, 12]\n",
            "[1, 4, 9, 16]\n"
          ]
        }
      ]
    },
    {
      "cell_type": "code",
      "source": [
        "print(list(map(lambda x:x+x, list1)))\n",
        "print(list(map(lambda x,y: x+y,list1, list2)))"
      ],
      "metadata": {
        "colab": {
          "base_uri": "https://localhost:8080/"
        },
        "id": "jq2IUiXY4TS2",
        "outputId": "20669e0f-e42e-490e-bdb4-1859406caa6c"
      },
      "execution_count": null,
      "outputs": [
        {
          "output_type": "stream",
          "name": "stdout",
          "text": [
            "[2, 4, 6, 8]\n",
            "[6, 8, 10, 12]\n"
          ]
        }
      ]
    },
    {
      "cell_type": "code",
      "source": [
        "list2 = [1,2,3,4]\n",
        "import operator\n",
        "product = reduce (operator.mul,list2) #product of all number in a list\n",
        "product"
      ],
      "metadata": {
        "colab": {
          "base_uri": "https://localhost:8080/"
        },
        "id": "jyXugmdp74PA",
        "outputId": "14a60e02-347e-4f4d-9ce6-4e5b28e7c7da"
      },
      "execution_count": null,
      "outputs": [
        {
          "output_type": "execute_result",
          "data": {
            "text/plain": [
              "24"
            ]
          },
          "metadata": {},
          "execution_count": 23
        }
      ]
    },
    {
      "cell_type": "code",
      "source": [
        "add = reduce(operator.add,list2) #add all the numbers in the lisst\n",
        "add"
      ],
      "metadata": {
        "colab": {
          "base_uri": "https://localhost:8080/"
        },
        "id": "XTkq30MB9_9i",
        "outputId": "a2f104ee-bf25-41e6-aa7b-4d26ecb079ff"
      },
      "execution_count": null,
      "outputs": [
        {
          "output_type": "execute_result",
          "data": {
            "text/plain": [
              "10"
            ]
          },
          "metadata": {},
          "execution_count": 25
        }
      ]
    },
    {
      "cell_type": "code",
      "source": [
        "concat = reduce(operator.add, ['python', ' ', 'rocks']) #concat string\n",
        "concat"
      ],
      "metadata": {
        "colab": {
          "base_uri": "https://localhost:8080/",
          "height": 36
        },
        "id": "rukwlH1d_Qsf",
        "outputId": "170698a1-d512-4ddd-b063-eb982ce28e59"
      },
      "execution_count": null,
      "outputs": [
        {
          "output_type": "execute_result",
          "data": {
            "text/plain": [
              "'python rocks'"
            ],
            "application/vnd.google.colaboratory.intrinsic+json": {
              "type": "string"
            }
          },
          "metadata": {},
          "execution_count": 26
        }
      ]
    },
    {
      "cell_type": "code",
      "source": [
        "prod_str = reduce(operator.mul, ['hello ', 3])\n",
        "prod_str"
      ],
      "metadata": {
        "colab": {
          "base_uri": "https://localhost:8080/",
          "height": 36
        },
        "id": "lgQMPvCU_sGo",
        "outputId": "2c84ed55-d273-439f-e709-86da0f5327f2"
      },
      "execution_count": null,
      "outputs": [
        {
          "output_type": "execute_result",
          "data": {
            "text/plain": [
              "'hello hello hello '"
            ],
            "application/vnd.google.colaboratory.intrinsic+json": {
              "type": "string"
            }
          },
          "metadata": {},
          "execution_count": 28
        }
      ]
    },
    {
      "cell_type": "code",
      "source": [
        "min_num = reduce(lambda a,b: a if a<b else b, list2) #mininmum number in the list\n",
        "min_num"
      ],
      "metadata": {
        "colab": {
          "base_uri": "https://localhost:8080/"
        },
        "id": "QhtEfPS3ADXP",
        "outputId": "041e15f7-fbdd-4208-91e3-870a8fca22b6"
      },
      "execution_count": null,
      "outputs": [
        {
          "output_type": "execute_result",
          "data": {
            "text/plain": [
              "1"
            ]
          },
          "metadata": {},
          "execution_count": 29
        }
      ]
    },
    {
      "cell_type": "code",
      "source": [
        "max_num = reduce(lambda a,b: a if a>b else b, list2 ) #maximum number in the list\n",
        "max_num"
      ],
      "metadata": {
        "colab": {
          "base_uri": "https://localhost:8080/"
        },
        "id": "RATear_PPn70",
        "outputId": "70904f72-5e31-4b8f-9e3c-3d4aff2a6cf4"
      },
      "execution_count": null,
      "outputs": [
        {
          "output_type": "execute_result",
          "data": {
            "text/plain": [
              "4"
            ]
          },
          "metadata": {},
          "execution_count": 30
        }
      ]
    },
    {
      "cell_type": "code",
      "source": [
        "def min_func(a,b):\n",
        "  return a if a <b else b\n",
        "\n",
        "def max_func(a,b):\n",
        "  return a if a>b else b\n",
        "\n",
        "min_num = reduce(min_func,list2)\n",
        "min_num"
      ],
      "metadata": {
        "colab": {
          "base_uri": "https://localhost:8080/"
        },
        "id": "Z2250-BAS4xY",
        "outputId": "989a073a-b643-44fa-bb43-54a31fde0f63"
      },
      "execution_count": null,
      "outputs": [
        {
          "output_type": "execute_result",
          "data": {
            "text/plain": [
              "1"
            ]
          },
          "metadata": {},
          "execution_count": 31
        }
      ]
    },
    {
      "cell_type": "code",
      "source": [
        "max_num = reduce(max_func,list2)\n",
        "max_num"
      ],
      "metadata": {
        "colab": {
          "base_uri": "https://localhost:8080/"
        },
        "id": "8UXz2CeATiHa",
        "outputId": "1ad89a4a-6a41-4d3d-95e2-a0b06610561a"
      },
      "execution_count": null,
      "outputs": [
        {
          "output_type": "execute_result",
          "data": {
            "text/plain": [
              "4"
            ]
          },
          "metadata": {},
          "execution_count": 32
        }
      ]
    },
    {
      "cell_type": "code",
      "source": [
        "print(reduce(lambda a, b: bool(a and b),[0,0,1,0,1]))"
      ],
      "metadata": {
        "colab": {
          "base_uri": "https://localhost:8080/"
        },
        "id": "p5mfeqiITocm",
        "outputId": "0a837200-0f94-41b3-a529-05231a15757c"
      },
      "execution_count": null,
      "outputs": [
        {
          "output_type": "stream",
          "name": "stdout",
          "text": [
            "False\n"
          ]
        }
      ]
    },
    {
      "cell_type": "code",
      "source": [
        "print(reduce(lambda a, b: bool(a and b),[0,0,0,0,0]))"
      ],
      "metadata": {
        "colab": {
          "base_uri": "https://localhost:8080/"
        },
        "id": "P9n5odQMUjvP",
        "outputId": "10de2fc8-985e-42ec-e10c-8bb859de5394"
      },
      "execution_count": null,
      "outputs": [
        {
          "output_type": "stream",
          "name": "stdout",
          "text": [
            "False\n"
          ]
        }
      ]
    },
    {
      "cell_type": "code",
      "source": [
        "print(reduce(lambda a, b: bool(a and b),[1,1,1,1,1]))"
      ],
      "metadata": {
        "colab": {
          "base_uri": "https://localhost:8080/"
        },
        "id": "UceuuWkpUwtH",
        "outputId": "ef0d7a41-0f9e-4a6b-9400-7a74fa9518c3"
      },
      "execution_count": null,
      "outputs": [
        {
          "output_type": "stream",
          "name": "stdout",
          "text": [
            "True\n"
          ]
        }
      ]
    },
    {
      "cell_type": "code",
      "source": [
        "print(reduce(lambda a, b: bool(a or b),[1,1,1,1,1]))\n",
        "print(reduce(lambda a, b: bool(a or b),[0,0,0,0,0]))\n",
        "print(reduce(lambda a, b: bool(a or b),[0,0,1,0,1]))"
      ],
      "metadata": {
        "colab": {
          "base_uri": "https://localhost:8080/"
        },
        "id": "tOvu38HOU1Tz",
        "outputId": "a02872f2-e429-49a6-924a-8fa3c91ab274"
      },
      "execution_count": null,
      "outputs": [
        {
          "output_type": "stream",
          "name": "stdout",
          "text": [
            "True\n",
            "False\n",
            "True\n"
          ]
        }
      ]
    },
    {
      "cell_type": "code",
      "source": [],
      "metadata": {
        "id": "c-TfKBQ4VUCJ"
      },
      "execution_count": null,
      "outputs": []
    }
  ]
}