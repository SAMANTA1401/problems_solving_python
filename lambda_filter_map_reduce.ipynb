{
  "cells": [
    {
      "cell_type": "markdown",
      "metadata": {
        "id": "KxqXb_opZsTZ"
      },
      "source": [
        "**lambda:**\n",
        "a lambda function is an anonymous function (function without a name)\n",
        "\n",
        "lambda functions  have any number of argument but only one expression .the expression is evaluated and returned\n",
        "\n",
        "we use lambda functions when we required a nameless function for a short period of time\n",
        "\n",
        "syntax: lambda argument(s): expression'\n",
        "\n",
        "**filter:**\n",
        "it is used to filter the iterables /sequence as per the conditions\n",
        "\n",
        "filter function filters the original iterable and passes the items that returns true for the function provided to filter\n",
        "\n",
        "\n",
        "it is normally used with lambda function to filter list, tuple ,or sets\n",
        "\n",
        "filter() method takes two parameters:\n",
        "function-function tests if elements of an iterable returns true of false\n",
        "\n",
        "iterable sequence which needs to  be filtered ,could be sets ,lists, tuples, ,or any,iterators\n",
        "\n",
        "syntax: filter(function, iterable)\n",
        "\n",
        "**map:**\n",
        "\n",
        "the map() function applies a given function toe each iter of an iterable(list ,tuple etc) and returns a list of the results\n",
        "\n",
        "map() function takes two parameters:\n",
        "\n",
        "function: the function to execute for each item  of given iterable\n",
        "\n",
        "iterable:  it is a iterable which is to be mapped\n",
        "\n",
        "returns : returns a list of the results after applying the given function to each item of a given iterable(list, tuple etc)\n",
        "\n",
        "SYNTAX: map(function, iterable)\n",
        "\n",
        "**reduce:**\n",
        "\n",
        "the reduce() function is defined in the functools python module .the reduce() function receives two arguments , a function and an iterables, however. it doesn't return another iterables,instead it returns a single value\n",
        "\n",
        "syntax: reduce(lambda a,b: a+b, list1)"
      ]
    },
    {
      "cell_type": "markdown",
      "metadata": {
        "id": "q6k2wG6wriS9"
      },
      "source": [
        "## lambda"
      ]
    },
    {
      "cell_type": "markdown",
      "metadata": {},
      "source": [
        "lambda inputs : outputs"
      ]
    },
    {
      "cell_type": "code",
      "execution_count": null,
      "metadata": {
        "colab": {
          "base_uri": "https://localhost:8080/"
        },
        "id": "Uj0dhxwnZbzL",
        "outputId": "b332f9b6-c18d-4e78-e219-12ffc88f3616"
      },
      "outputs": [
        {
          "name": "stdout",
          "output_type": "stream",
          "text": [
            "0\n",
            "2\n"
          ]
        }
      ],
      "source": [
        "x = (i for i in range(10) if i%2==0)\n",
        "print(next(x))\n",
        "print(next(x))\n"
      ]
    },
    {
      "cell_type": "code",
      "execution_count": null,
      "metadata": {
        "colab": {
          "base_uri": "https://localhost:8080/"
        },
        "id": "ENAgm9wsjSHl",
        "outputId": "07154e65-ddf6-4636-899d-0e428e591dc3"
      },
      "outputs": [
        {
          "name": "stdout",
          "output_type": "stream",
          "text": [
            "[0, 2, 4, 6, 8]\n"
          ]
        }
      ],
      "source": [
        "x = [i for i in range(10) if i%2==0]\n",
        "print(x)"
      ]
    },
    {
      "cell_type": "code",
      "execution_count": null,
      "metadata": {
        "colab": {
          "base_uri": "https://localhost:8080/"
        },
        "id": "JC_pfYZZjf4n",
        "outputId": "2e06e551-200d-4f4f-94c7-95104cf9222b"
      },
      "outputs": [
        {
          "name": "stdout",
          "output_type": "stream",
          "text": [
            "123\n"
          ]
        }
      ],
      "source": [
        "addition = lambda a: a+120\n",
        "print(addition(3))"
      ]
    },
    {
      "cell_type": "code",
      "execution_count": null,
      "metadata": {
        "colab": {
          "base_uri": "https://localhost:8080/"
        },
        "id": "8FxIvdqonLsl",
        "outputId": "99677caa-6d7a-40fb-94ac-1b3c9dc36f54"
      },
      "outputs": [
        {
          "name": "stdout",
          "output_type": "stream",
          "text": [
            "123\n"
          ]
        }
      ],
      "source": [
        "def addition(a):\n",
        "  print(a+120)\n",
        "\n",
        "addition(3)"
      ]
    },
    {
      "cell_type": "code",
      "execution_count": null,
      "metadata": {
        "colab": {
          "base_uri": "https://localhost:8080/"
        },
        "id": "L0N0fKPIntBz",
        "outputId": "bae363b6-0f77-41be-94c4-5c2d7720172b"
      },
      "outputs": [
        {
          "name": "stdout",
          "output_type": "stream",
          "text": [
            "15\n"
          ]
        }
      ],
      "source": [
        "product = lambda a,b : a*b\n",
        "print(product(3,5))"
      ]
    },
    {
      "cell_type": "code",
      "execution_count": null,
      "metadata": {
        "colab": {
          "base_uri": "https://localhost:8080/"
        },
        "id": "D-iokronn4nR",
        "outputId": "b43ebad7-0496-417f-aeb5-a29c31ba66a4"
      },
      "outputs": [
        {
          "name": "stdout",
          "output_type": "stream",
          "text": [
            "18\n"
          ]
        }
      ],
      "source": [
        "addition = lambda a,b,c :a+b+c\n",
        "print(addition(5,6,7))"
      ]
    },
    {
      "cell_type": "code",
      "execution_count": null,
      "metadata": {
        "colab": {
          "base_uri": "https://localhost:8080/"
        },
        "id": "hv46a5IooE_w",
        "outputId": "03d847de-056b-4b5c-c46e-9910571b7df7"
      },
      "outputs": [
        {
          "name": "stdout",
          "output_type": "stream",
          "text": [
            "87\n",
            "58\n"
          ]
        }
      ],
      "source": [
        "# this lambda function take any no of arguments\n",
        "res = (lambda *args: sum(args))\n",
        "print(res(35,46,6))\n",
        "print(res(4,6,6,7,35))"
      ]
    },
    {
      "cell_type": "code",
      "execution_count": null,
      "metadata": {
        "colab": {
          "base_uri": "https://localhost:8080/"
        },
        "id": "_e4LFqd3oiA-",
        "outputId": "849cb038-8f6c-492a-ab6a-90fc8b21ad78"
      },
      "outputs": [
        {
          "data": {
            "text/plain": [
              "(384, 257)"
            ]
          },
          "execution_count": 2,
          "metadata": {},
          "output_type": "execute_result"
        }
      ],
      "source": [
        "#this lambda function take any number of parameter/variable with value\n",
        "res = (lambda **kwargs: sum(kwargs.values()))\n",
        "res(a = 34, b=345, c=5), res(a =234,b=23)"
      ]
    },
    {
      "cell_type": "code",
      "execution_count": null,
      "metadata": {
        "colab": {
          "base_uri": "https://localhost:8080/"
        },
        "id": "Xp1_xwKKpmo2",
        "outputId": "e40d1700-8807-4268-8c34-82c2a55ecc99"
      },
      "outputs": [
        {
          "data": {
            "text/plain": [
              "168840"
            ]
          },
          "execution_count": 12,
          "metadata": {},
          "output_type": "execute_result"
        }
      ],
      "source": [
        "\n",
        "#  user defined function to find product of numbers\n",
        "def product(nums):\n",
        "  total = 1\n",
        "  for i in nums:\n",
        "    total *=i\n",
        "  return total\n",
        "\n",
        "# this lambda function can take  any  number of arguments and return their product\n",
        "\n",
        "res1 = (lambda **kwargs: product(kwargs.values()))\n",
        "res1(a=45,b=56,c=67)"
      ]
    },
    {
      "cell_type": "code",
      "execution_count": null,
      "metadata": {
        "colab": {
          "base_uri": "https://localhost:8080/"
        },
        "id": "mRbjeSakw3AG",
        "outputId": "b6b196ad-8906-4eec-c56e-c7fbf7618119"
      },
      "outputs": [
        {
          "name": "stdout",
          "output_type": "stream",
          "text": [
            "15\n",
            "25\n",
            "35\n"
          ]
        }
      ],
      "source": [
        "def myfunc(n):\n",
        "   return lambda a :a+n\n",
        "\n",
        "add10 = myfunc(10)\n",
        "add20 = myfunc(20)\n",
        "add30 = myfunc(30)\n",
        "\n",
        "print(add10(5))\n",
        "print(add20(5))\n",
        "print(add30(5))"
      ]
    },
    {
      "cell_type": "markdown",
      "metadata": {
        "id": "7HMLtUhdrm_m"
      },
      "source": [
        "## filter"
      ]
    },
    {
      "cell_type": "markdown",
      "metadata": {},
      "source": [
        "filter(function, inputs)"
      ]
    },
    {
      "cell_type": "code",
      "execution_count": null,
      "metadata": {
        "colab": {
          "base_uri": "https://localhost:8080/"
        },
        "id": "ix_9ztl7rVQ6",
        "outputId": "b53782d0-35b1-412d-9338-d45c545c633e"
      },
      "outputs": [
        {
          "data": {
            "text/plain": [
              "[1, 3, 5, 7, 9]"
            ]
          },
          "execution_count": 5,
          "metadata": {},
          "output_type": "execute_result"
        }
      ],
      "source": [
        "list1 = [1,2,3,4,5,6,7,8,9]\n",
        "\n",
        "def odd(n):\n",
        "  if n%2 == 1: return True\n",
        "  else: return False\n",
        "\n",
        "\n",
        "# odd_num = (filter(odd,list1))  #this filter function filter list  iterator object\n",
        "odd_num = list(filter(odd, list1))\n",
        "odd_num"
      ]
    },
    {
      "cell_type": "code",
      "execution_count": 3,
      "metadata": {
        "colab": {
          "base_uri": "https://localhost:8080/"
        },
        "id": "95wB0UL9sINk",
        "outputId": "5de66736-a07d-4f13-dba1-e69c9be9b330"
      },
      "outputs": [
        {
          "data": {
            "text/plain": [
              "[1, 3, 5]"
            ]
          },
          "execution_count": 3,
          "metadata": {},
          "output_type": "execute_result"
        }
      ],
      "source": [
        "# using lambda\n",
        "list1 = [1,2,3,4,5,6]\n",
        "odd_num = list(filter(lambda x: x%2==1, list1))\n",
        "odd_num"
      ]
    },
    {
      "cell_type": "markdown",
      "metadata": {
        "id": "uoSu4nfvtxl2"
      },
      "source": [
        "## map"
      ]
    },
    {
      "cell_type": "markdown",
      "metadata": {},
      "source": [
        "map(function, inputs)"
      ]
    },
    {
      "cell_type": "code",
      "execution_count": null,
      "metadata": {
        "colab": {
          "base_uri": "https://localhost:8080/"
        },
        "id": "eZVRzgU1sEYT",
        "outputId": "2f21ef55-eb26-4bfb-919a-c5dc35763239"
      },
      "outputs": [
        {
          "data": {
            "text/plain": [
              "[2, 6, 10]"
            ]
          },
          "execution_count": 9,
          "metadata": {},
          "output_type": "execute_result"
        }
      ],
      "source": [
        "def twice(n):\n",
        "  return n*2\n",
        "\n",
        "doubles = list(map(twice,odd_num))\n",
        "doubles"
      ]
    },
    {
      "cell_type": "code",
      "execution_count": 12,
      "metadata": {
        "colab": {
          "base_uri": "https://localhost:8080/"
        },
        "id": "ahmyZR-7t8AM",
        "outputId": "85161d3c-778e-445d-f904-120ca4b5dfb8"
      },
      "outputs": [
        {
          "data": {
            "text/plain": [
              "[<map at 0x18848e44460>]"
            ]
          },
          "execution_count": 12,
          "metadata": {},
          "output_type": "execute_result"
        }
      ],
      "source": [
        "# using lambda\n",
        "doubles = [map(lambda x: x*2,odd_num)]\n",
        "doubles"
      ]
    },
    {
      "cell_type": "code",
      "execution_count": 7,
      "metadata": {},
      "outputs": [
        {
          "data": {
            "text/plain": [
              "<map at 0x18848cb95d0>"
            ]
          },
          "execution_count": 7,
          "metadata": {},
          "output_type": "execute_result"
        }
      ],
      "source": [
        "doubles[0]"
      ]
    },
    {
      "cell_type": "code",
      "execution_count": 13,
      "metadata": {},
      "outputs": [
        {
          "data": {
            "text/plain": [
              "2"
            ]
          },
          "execution_count": 13,
          "metadata": {},
          "output_type": "execute_result"
        }
      ],
      "source": [
        "next(iter(doubles[0]))"
      ]
    },
    {
      "cell_type": "markdown",
      "metadata": {
        "id": "mPmUV-ppuOHg"
      },
      "source": [
        "## reduce"
      ]
    },
    {
      "cell_type": "code",
      "execution_count": null,
      "metadata": {
        "id": "zf-dSW1ouJte"
      },
      "outputs": [],
      "source": [
        "from functools import reduce"
      ]
    },
    {
      "cell_type": "code",
      "execution_count": null,
      "metadata": {
        "colab": {
          "base_uri": "https://localhost:8080/"
        },
        "id": "u0H_N9YluUt2",
        "outputId": "67b5e1af-48bb-447c-de43-f6d83cd84cd1"
      },
      "outputs": [
        {
          "data": {
            "text/plain": [
              "18"
            ]
          },
          "execution_count": 12,
          "metadata": {},
          "output_type": "execute_result"
        }
      ],
      "source": [
        "def add(a,b):\n",
        "  return a+b\n",
        "sum_all = reduce(add, doubles)  #this reduces function will performs sum of all items\n",
        "sum_all"
      ]
    },
    {
      "cell_type": "code",
      "execution_count": null,
      "metadata": {
        "colab": {
          "base_uri": "https://localhost:8080/"
        },
        "id": "Sa1riewOwlcS",
        "outputId": "1a1d76ab-e85d-4ba2-edc9-df739518de93"
      },
      "outputs": [
        {
          "data": {
            "text/plain": [
              "18"
            ]
          },
          "execution_count": 13,
          "metadata": {},
          "output_type": "execute_result"
        }
      ],
      "source": [
        "# using lambda\n",
        "sum_all = reduce(lambda a,b: a+b, doubles)\n",
        "sum_all"
      ]
    },
    {
      "cell_type": "code",
      "execution_count": null,
      "metadata": {
        "colab": {
          "base_uri": "https://localhost:8080/"
        },
        "id": "-PQG1tzcw5iQ",
        "outputId": "a347e632-cf1f-4491-96bf-b347d32e2e54"
      },
      "outputs": [
        {
          "data": {
            "text/plain": [
              "18"
            ]
          },
          "execution_count": 14,
          "metadata": {},
          "output_type": "execute_result"
        }
      ],
      "source": [
        "# putting all together reduce, filter, map ,lambda\n",
        "sum_all = reduce(lambda a,b: a+b, list(map(lambda n: n*2, list(filter(lambda n: n%2==1,list1 )))))\n",
        "sum_all"
      ]
    },
    {
      "cell_type": "code",
      "execution_count": null,
      "metadata": {
        "colab": {
          "base_uri": "https://localhost:8080/"
        },
        "id": "iJZLyjAmypvH",
        "outputId": "d4123b3b-079c-42f1-e3d3-d27d64f7fc2f"
      },
      "outputs": [
        {
          "data": {
            "text/plain": [
              "[2, 4, 6]"
            ]
          },
          "execution_count": 15,
          "metadata": {},
          "output_type": "execute_result"
        }
      ],
      "source": [
        "even = list(filter(lambda n: n%2 == 0,list1))\n",
        "even"
      ]
    },
    {
      "cell_type": "code",
      "execution_count": null,
      "metadata": {
        "colab": {
          "base_uri": "https://localhost:8080/"
        },
        "id": "4K8bMiguzMlK",
        "outputId": "70abd4ee-2848-43c5-95b5-2a30878cdbad"
      },
      "outputs": [
        {
          "data": {
            "text/plain": [
              "['TWO', 'FOUR']"
            ]
          },
          "execution_count": 16,
          "metadata": {},
          "output_type": "execute_result"
        }
      ],
      "source": [
        "list2 = ['one','TWO','three','FOUR']\n",
        "\n",
        "upper = list(filter(lambda x: x.isupper(),list2)) #filter upper case\n",
        "upper"
      ]
    },
    {
      "cell_type": "code",
      "execution_count": null,
      "metadata": {
        "colab": {
          "base_uri": "https://localhost:8080/"
        },
        "id": "B6YjP9lrzl5V",
        "outputId": "97f47834-5d20-4c96-cbed-fc6052848b41"
      },
      "outputs": [
        {
          "data": {
            "text/plain": [
              "['one', 'three']"
            ]
          },
          "execution_count": 17,
          "metadata": {},
          "output_type": "execute_result"
        }
      ],
      "source": [
        "lower = list(filter(lambda x: x.islower(),list2)) #filter lower case\n",
        "lower"
      ]
    },
    {
      "cell_type": "code",
      "execution_count": null,
      "metadata": {
        "id": "X_zAGcDDz1O6"
      },
      "outputs": [],
      "source": [
        "# isnumeric()  numeric\n",
        "# isalpha()     alphabet\n",
        "# isalnum()     alphanumeric\n",
        "\n"
      ]
    },
    {
      "cell_type": "code",
      "execution_count": null,
      "metadata": {
        "colab": {
          "base_uri": "https://localhost:8080/"
        },
        "id": "z5dgfCVk1g49",
        "outputId": "d57bc034-2b98-4985-8a9d-130120cadde3"
      },
      "outputs": [
        {
          "name": "stdout",
          "output_type": "stream",
          "text": [
            "[2, 4, 6, 8]\n",
            "[6, 8, 10, 12]\n",
            "[1, 4, 9, 16]\n"
          ]
        }
      ],
      "source": [
        "list1 = [1,2,3,4]\n",
        "list2 = [5,6,7,8]\n",
        "\n",
        "def double(x):\n",
        "  return x+x\n",
        "\n",
        "def add(x,y):\n",
        "  return x+y\n",
        "\n",
        "def square(x):\n",
        "  return x*x\n",
        "\n",
        "print(list(map(double, list1))) #double each number using map\n",
        "print (list(map(add, list1, list2))) #add two items using map\n",
        "print(list(map(square, list1))) #square each number"
      ]
    },
    {
      "cell_type": "code",
      "execution_count": null,
      "metadata": {
        "colab": {
          "base_uri": "https://localhost:8080/"
        },
        "id": "jq2IUiXY4TS2",
        "outputId": "20669e0f-e42e-490e-bdb4-1859406caa6c"
      },
      "outputs": [
        {
          "name": "stdout",
          "output_type": "stream",
          "text": [
            "[2, 4, 6, 8]\n",
            "[6, 8, 10, 12]\n"
          ]
        }
      ],
      "source": [
        "print(list(map(lambda x:x+x, list1)))\n",
        "print(list(map(lambda x,y: x+y,list1, list2)))"
      ]
    },
    {
      "cell_type": "code",
      "execution_count": null,
      "metadata": {
        "colab": {
          "base_uri": "https://localhost:8080/"
        },
        "id": "jyXugmdp74PA",
        "outputId": "14a60e02-347e-4f4d-9ce6-4e5b28e7c7da"
      },
      "outputs": [
        {
          "data": {
            "text/plain": [
              "24"
            ]
          },
          "execution_count": 23,
          "metadata": {},
          "output_type": "execute_result"
        }
      ],
      "source": [
        "list2 = [1,2,3,4]\n",
        "import operator\n",
        "product = reduce (operator.mul,list2) #product of all number in a list\n",
        "product"
      ]
    },
    {
      "cell_type": "code",
      "execution_count": null,
      "metadata": {
        "colab": {
          "base_uri": "https://localhost:8080/"
        },
        "id": "XTkq30MB9_9i",
        "outputId": "a2f104ee-bf25-41e6-aa7b-4d26ecb079ff"
      },
      "outputs": [
        {
          "data": {
            "text/plain": [
              "10"
            ]
          },
          "execution_count": 25,
          "metadata": {},
          "output_type": "execute_result"
        }
      ],
      "source": [
        "add = reduce(operator.add,list2) #add all the numbers in the list\n",
        "add"
      ]
    },
    {
      "cell_type": "code",
      "execution_count": null,
      "metadata": {
        "colab": {
          "base_uri": "https://localhost:8080/",
          "height": 36
        },
        "id": "rukwlH1d_Qsf",
        "outputId": "170698a1-d512-4ddd-b063-eb982ce28e59"
      },
      "outputs": [
        {
          "data": {
            "application/vnd.google.colaboratory.intrinsic+json": {
              "type": "string"
            },
            "text/plain": [
              "'python rocks'"
            ]
          },
          "execution_count": 26,
          "metadata": {},
          "output_type": "execute_result"
        }
      ],
      "source": [
        "concat = reduce(operator.add, ['python', ' ', 'rocks']) #concat string\n",
        "concat"
      ]
    },
    {
      "cell_type": "code",
      "execution_count": null,
      "metadata": {
        "colab": {
          "base_uri": "https://localhost:8080/",
          "height": 36
        },
        "id": "lgQMPvCU_sGo",
        "outputId": "2c84ed55-d273-439f-e709-86da0f5327f2"
      },
      "outputs": [
        {
          "data": {
            "application/vnd.google.colaboratory.intrinsic+json": {
              "type": "string"
            },
            "text/plain": [
              "'hello hello hello '"
            ]
          },
          "execution_count": 28,
          "metadata": {},
          "output_type": "execute_result"
        }
      ],
      "source": [
        "prod_str = reduce(operator.mul, ['hello ', 3])\n",
        "prod_str"
      ]
    },
    {
      "cell_type": "code",
      "execution_count": null,
      "metadata": {
        "colab": {
          "base_uri": "https://localhost:8080/"
        },
        "id": "QhtEfPS3ADXP",
        "outputId": "041e15f7-fbdd-4208-91e3-870a8fca22b6"
      },
      "outputs": [
        {
          "data": {
            "text/plain": [
              "1"
            ]
          },
          "execution_count": 29,
          "metadata": {},
          "output_type": "execute_result"
        }
      ],
      "source": [
        "min_num = reduce(lambda a,b: a if a<b else b, list2) #minimum number in the list\n",
        "min_num"
      ]
    },
    {
      "cell_type": "code",
      "execution_count": null,
      "metadata": {
        "colab": {
          "base_uri": "https://localhost:8080/"
        },
        "id": "RATear_PPn70",
        "outputId": "70904f72-5e31-4b8f-9e3c-3d4aff2a6cf4"
      },
      "outputs": [
        {
          "data": {
            "text/plain": [
              "4"
            ]
          },
          "execution_count": 30,
          "metadata": {},
          "output_type": "execute_result"
        }
      ],
      "source": [
        "max_num = reduce(lambda a,b: a if a>b else b, list2 ) #maximum number in the list\n",
        "max_num"
      ]
    },
    {
      "cell_type": "code",
      "execution_count": null,
      "metadata": {
        "colab": {
          "base_uri": "https://localhost:8080/"
        },
        "id": "Z2250-BAS4xY",
        "outputId": "989a073a-b643-44fa-bb43-54a31fde0f63"
      },
      "outputs": [
        {
          "data": {
            "text/plain": [
              "1"
            ]
          },
          "execution_count": 31,
          "metadata": {},
          "output_type": "execute_result"
        }
      ],
      "source": [
        "def min_func(a,b):\n",
        "  return a if a <b else b\n",
        "\n",
        "def max_func(a,b):\n",
        "  return a if a>b else b\n",
        "\n",
        "min_num = reduce(min_func,list2)\n",
        "min_num"
      ]
    },
    {
      "cell_type": "code",
      "execution_count": null,
      "metadata": {
        "colab": {
          "base_uri": "https://localhost:8080/"
        },
        "id": "8UXz2CeATiHa",
        "outputId": "1ad89a4a-6a41-4d3d-95e2-a0b06610561a"
      },
      "outputs": [
        {
          "data": {
            "text/plain": [
              "4"
            ]
          },
          "execution_count": 32,
          "metadata": {},
          "output_type": "execute_result"
        }
      ],
      "source": [
        "max_num = reduce(max_func,list2)\n",
        "max_num"
      ]
    },
    {
      "cell_type": "code",
      "execution_count": null,
      "metadata": {
        "colab": {
          "base_uri": "https://localhost:8080/"
        },
        "id": "p5mfeqiITocm",
        "outputId": "0a837200-0f94-41b3-a529-05231a15757c"
      },
      "outputs": [
        {
          "name": "stdout",
          "output_type": "stream",
          "text": [
            "False\n"
          ]
        }
      ],
      "source": [
        "print(reduce(lambda a, b: bool(a and b),[0,0,1,0,1]))"
      ]
    },
    {
      "cell_type": "code",
      "execution_count": null,
      "metadata": {
        "colab": {
          "base_uri": "https://localhost:8080/"
        },
        "id": "P9n5odQMUjvP",
        "outputId": "10de2fc8-985e-42ec-e10c-8bb859de5394"
      },
      "outputs": [
        {
          "name": "stdout",
          "output_type": "stream",
          "text": [
            "False\n"
          ]
        }
      ],
      "source": [
        "print(reduce(lambda a, b: bool(a and b),[0,0,0,0,0]))"
      ]
    },
    {
      "cell_type": "code",
      "execution_count": null,
      "metadata": {
        "colab": {
          "base_uri": "https://localhost:8080/"
        },
        "id": "UceuuWkpUwtH",
        "outputId": "ef0d7a41-0f9e-4a6b-9400-7a74fa9518c3"
      },
      "outputs": [
        {
          "name": "stdout",
          "output_type": "stream",
          "text": [
            "True\n"
          ]
        }
      ],
      "source": [
        "print(reduce(lambda a, b: bool(a and b),[1,1,1,1,1]))"
      ]
    },
    {
      "cell_type": "code",
      "execution_count": null,
      "metadata": {
        "colab": {
          "base_uri": "https://localhost:8080/"
        },
        "id": "tOvu38HOU1Tz",
        "outputId": "a02872f2-e429-49a6-924a-8fa3c91ab274"
      },
      "outputs": [
        {
          "name": "stdout",
          "output_type": "stream",
          "text": [
            "True\n",
            "False\n",
            "True\n"
          ]
        }
      ],
      "source": [
        "print(reduce(lambda a, b: bool(a or b),[1,1,1,1,1]))\n",
        "print(reduce(lambda a, b: bool(a or b),[0,0,0,0,0]))\n",
        "print(reduce(lambda a, b: bool(a or b),[0,0,1,0,1]))"
      ]
    }
  ],
  "metadata": {
    "colab": {
      "provenance": []
    },
    "kernelspec": {
      "display_name": "Python 3",
      "name": "python3"
    },
    "language_info": {
      "codemirror_mode": {
        "name": "ipython",
        "version": 3
      },
      "file_extension": ".py",
      "mimetype": "text/x-python",
      "name": "python",
      "nbconvert_exporter": "python",
      "pygments_lexer": "ipython3",
      "version": "3.11.0"
    }
  },
  "nbformat": 4,
  "nbformat_minor": 0
}
