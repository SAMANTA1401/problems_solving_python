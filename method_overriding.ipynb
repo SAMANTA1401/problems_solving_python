{
  "cells": [
    {
      "cell_type": "markdown",
      "metadata": {
        "id": "8wIkQEInYWcJ"
      },
      "source": [
        "overriding is a very importing part of object oriented programming because it makes inheritance exploit its full power\n",
        "\n",
        "overriding is the ability of a class(Sub class/child class/derived class) to change the implementation of method provided by one of its parent class\n",
        "\n",
        "when a method in a subclass has the same name , same parameter and same return type\n",
        "as a  method in its super-class, then the method in the subclass is said  to override the method in the superclass\n",
        "\n",
        "the version of a method that is executed will be determined by the object that is used to invoke it\n",
        "\n",
        "if an object of a parent class is used to invoke the method ,then the version in the parent class WILL be executed, but if an object of the subclass is used to invoke the method then the version in the child class will be executed\n",
        "\n"
      ]
    },
    {
      "cell_type": "code",
      "execution_count": null,
      "metadata": {
        "colab": {
          "base_uri": "https://localhost:8080/"
        },
        "id": "lG6EBQ1hYOY8",
        "outputId": "02c38ec3-689a-41e3-90db-07a1962ee118"
      },
      "outputs": [
        {
          "name": "stdout",
          "output_type": "stream",
          "text": [
            "hello student\n",
            "asdf\n",
            "34634\n",
            "hello person\n",
            "sfgg\n"
          ]
        }
      ],
      "source": [
        "#class is like a data structure which store data dynamically initiate memory\n",
        "\n",
        "class person: #parent class\n",
        "    def __init__(self, name, age, gender):  #initiate\n",
        "        self.name1 = name\n",
        "        self.age1 = age\n",
        "        self.gender1 = gender\n",
        "\n",
        "    def greet(self):  #which is going to be overridden\n",
        "      print(\"hello person\")\n",
        "\n",
        "class student(person): #child class\n",
        "    def __init__(self, name, age, gender, student_id, fees):\n",
        "      person.__init__(self, name, age, gender)\n",
        "      self.student_id1 = student_id\n",
        "      self.fees1 = fees\n",
        "\n",
        "    def greet(self): #method overriding\n",
        "      print(\"hello student\")\n",
        "\n",
        "stud = student('asdf',34, 'male',345,34634)\n",
        "stud.greet() # greet() method defined in subclass will be triggered as \"stud\" is\n",
        "\n",
        "print(stud.name1)\n",
        "print(stud.fees1)\n",
        "\n",
        "person1 = person('sfgg', 45, 'male')\n",
        "person1.greet()  #greet() method defined in superclass wil be triggered\n",
        "\n",
        "print(person1.name1)\n",
        "\n"
      ]
    },
    {
      "cell_type": "code",
      "execution_count": null,
      "metadata": {
        "id": "IoppHXqojHvC"
      },
      "outputs": [],
      "source": []
    }
  ],
  "metadata": {
    "colab": {
      "provenance": []
    },
    "kernelspec": {
      "display_name": "Python 3",
      "name": "python3"
    },
    "language_info": {
      "name": "python"
    }
  },
  "nbformat": 4,
  "nbformat_minor": 0
}
