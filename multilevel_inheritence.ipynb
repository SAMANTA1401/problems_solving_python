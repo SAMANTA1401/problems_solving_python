{
  "nbformat": 4,
  "nbformat_minor": 0,
  "metadata": {
    "colab": {
      "provenance": []
    },
    "kernelspec": {
      "name": "python3",
      "display_name": "Python 3"
    },
    "language_info": {
      "name": "python"
    }
  },
  "cells": [
    {
      "cell_type": "markdown",
      "source": [
        "in this type of inheritance , a class can inherit from a child class or derived class\n",
        "\n",
        "multilevel inheirtence can be of any depth in python"
      ],
      "metadata": {
        "id": "01-w2oLJiRFi"
      }
    },
    {
      "cell_type": "code",
      "execution_count": null,
      "metadata": {
        "colab": {
          "base_uri": "https://localhost:8080/"
        },
        "id": "o0UjMW2eeaRX",
        "outputId": "9c2fa538-bd27-4df5-d267-162607089edb"
      },
      "outputs": [
        {
          "output_type": "stream",
          "name": "stdout",
          "text": [
            "contractual employee details\n",
            "********\n",
            "dsfg\n",
            "Name: dsfg\n",
            "age:45\n",
            "gender:male\n",
            "employee id: 3456\n",
            "salary: 5453136\n",
            "contract expiry 22-05-2024\n"
          ]
        }
      ],
      "source": [
        "class Person:  #parent class\n",
        "  def __init__(self, name, age, gender):\n",
        "    self.name = name\n",
        "    self.age = age\n",
        "    self.gender = gender\n",
        "\n",
        "  def personInfo(self):\n",
        "    print('Name:',self.name)\n",
        "    print('age:{}'.format(self.age))\n",
        "    print(f'gender:{self.gender}')\n",
        "\n",
        "\n",
        "class Employee(Person): #child class\n",
        "  def __init__(self,name,age,gender,empid, salary):\n",
        "    Person.__init__(self,name, age, gender)\n",
        "    self.empid = empid\n",
        "    self.salary = salary\n",
        "\n",
        "\n",
        "  def employeeinfo(self):\n",
        "    print('employee id:',self.empid)\n",
        "    print('salary:',self.salary)\n",
        "\n",
        "\n",
        "class Fulltime(Employee): #grand child class\n",
        "  def __init__(self, name, age, gender, empid, salary, workexperience):\n",
        "    Employee.__init__(self, name, age, gender, empid, salary)\n",
        "    self.workexperience = workexperience\n",
        "\n",
        "  def fulltimeinfo(self):\n",
        "    print('work experience',self.workexperience)\n",
        "\n",
        "class Contractual(Employee):\n",
        "  def __init__(self, name, age, gender, empid, salary, contractexpiry):\n",
        "    Employee.__init__(self,name, age,gender, empid, salary)\n",
        "    self.contractexpiry = contractexpiry\n",
        "\n",
        "  def contractinfo(self):\n",
        "    print('contract expiry',self.contractexpiry)\n",
        "\n",
        "print('contractual employee details')\n",
        "print('********')\n",
        "\n",
        "\n",
        "contract1 = Contractual(\"dsfg\",45,'male',3456, 5453136, '22-05-2024')\n",
        "\n",
        "print(contract1.name)\n",
        "contract1.personInfo()\n",
        "contract1.employeeinfo()\n",
        "# contract1.fulltimeinfo() #wrong\n",
        "contract1.contractinfo()\n",
        "\n",
        "# print('\\n \\n')"
      ]
    },
    {
      "cell_type": "code",
      "source": [],
      "metadata": {
        "id": "xqizNQRrqp6t"
      },
      "execution_count": null,
      "outputs": []
    }
  ]
}