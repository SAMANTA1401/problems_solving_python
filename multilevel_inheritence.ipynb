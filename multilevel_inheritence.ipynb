{
  "cells": [
    {
      "cell_type": "markdown",
      "metadata": {
        "id": "01-w2oLJiRFi"
      },
      "source": [
        "in this type of inheritance , a class can inherit from a child class or derived class\n",
        "\n",
        "multilevel inheirtence can be of any depth in python"
      ]
    },
    {
      "cell_type": "code",
      "execution_count": 1,
      "metadata": {
        "colab": {
          "base_uri": "https://localhost:8080/"
        },
        "id": "o0UjMW2eeaRX",
        "outputId": "9c2fa538-bd27-4df5-d267-162607089edb"
      },
      "outputs": [
        {
          "name": "stdout",
          "output_type": "stream",
          "text": [
            "contractual employee details\n",
            "********\n",
            "dsfg\n",
            "Name: dsfg\n",
            "age:45\n",
            "gender:male\n",
            "employee id: 3456\n",
            "salary: 5453136\n",
            "contract expiry 22-05-2024\n"
          ]
        }
      ],
      "source": [
        "class Person:  #parent class\n",
        "  def __init__(self, name, age, gender):\n",
        "    self.name = name\n",
        "    self.age = age\n",
        "    self.gender = gender\n",
        "\n",
        "  def personInfo(self):\n",
        "    print('Name:',self.name)\n",
        "    print('age:{}'.format(self.age))\n",
        "    print(f'gender:{self.gender}')\n",
        "\n",
        "\n",
        "class Employee(Person): #child class\n",
        "  def __init__(self,name,age,gender,emp_id, salary):\n",
        "    Person.__init__(self,name, age, gender)\n",
        "    self.emp_id = emp_id\n",
        "    self.salary = salary\n",
        "\n",
        "\n",
        "  def employee_info(self):\n",
        "    print('employee id:',self.emp_id)\n",
        "    print('salary:',self.salary)\n",
        "\n",
        "\n",
        "class Fulltime(Employee): #grand child class\n",
        "  def __init__(self, name, age, gender, emp_id, salary, work_experience):\n",
        "    Employee.__init__(self, name, age, gender, emp_id, salary)\n",
        "    self.work_experience = work_experience\n",
        "\n",
        "  def fulltime_info(self):\n",
        "    print('work experience',self.work_experience)\n",
        "\n",
        "class Contractual(Employee):\n",
        "  def __init__(self, name, age, gender, emp_id, salary, contract_expiry):\n",
        "    Employee.__init__(self,name, age,gender, emp_id, salary)\n",
        "    self.contract_expiry = contract_expiry\n",
        "\n",
        "  def contract_info(self):\n",
        "    print('contract expiry',self.contract_expiry)\n",
        "\n",
        "print('contractual employee details')\n",
        "print('********')\n",
        "\n",
        "\n",
        "contract1 = Contractual(\"dsfg\",45,'male',3456, 5453136, '22-05-2024')\n",
        "\n",
        "print(contract1.name)\n",
        "contract1.personInfo()\n",
        "contract1.employee_info()\n",
        "# contract1.fulltime_info() #wrong\n",
        "contract1.contract_info()\n",
        "\n",
        "# print('\\n \\n')"
      ]
    },
    {
      "cell_type": "code",
      "execution_count": null,
      "metadata": {
        "id": "xqizNQRrqp6t"
      },
      "outputs": [],
      "source": []
    }
  ],
  "metadata": {
    "colab": {
      "provenance": []
    },
    "kernelspec": {
      "display_name": "Python 3",
      "name": "python3"
    },
    "language_info": {
      "codemirror_mode": {
        "name": "ipython",
        "version": 3
      },
      "file_extension": ".py",
      "mimetype": "text/x-python",
      "name": "python",
      "nbconvert_exporter": "python",
      "pygments_lexer": "ipython3",
      "version": "3.11.0"
    }
  },
  "nbformat": 4,
  "nbformat_minor": 0
}
