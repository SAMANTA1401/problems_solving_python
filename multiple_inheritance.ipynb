{
  "cells": [
    {
      "cell_type": "markdown",
      "metadata": {
        "id": "ckzKywR9mUn0"
      },
      "source": [
        "multiple inheritance is a feature in which a class (derived class ) can inherit attributes and methods from more than one parent class\n",
        "\n",
        "the derived class inherits all the features of the base case"
      ]
    },
    {
      "cell_type": "code",
      "execution_count": 1,
      "metadata": {
        "colab": {
          "base_uri": "https://localhost:8080/"
        },
        "id": "ye8m0MtpmO4P",
        "outputId": "dfcce9c3-1786-4f02-940e-c0290a682701"
      },
      "outputs": [
        {
          "name": "stdout",
          "output_type": "stream",
          "text": [
            "my name: asfdsa\n",
            "father: gf ert b\n",
            "mother:  vefgw\n"
          ]
        }
      ],
      "source": [
        "#super class\n",
        "class Father:\n",
        "  def __init__(self):\n",
        "    self.father_name = str() #\" \"\n",
        "\n",
        "#super class\n",
        "class Mother:\n",
        "  def __init__(self):\n",
        "    self.mother_name = str()\n",
        "\n",
        "#sub class\n",
        "class Son(Father, Mother):\n",
        "  # name = str()       # it is also valid\n",
        "  def __init__(self):\n",
        "    self.name = str()\n",
        "\n",
        "\n",
        "  def show(self):\n",
        "    print('my name:', self.name)\n",
        "    print('father:',self.father_name)\n",
        "    print('mother:', self.mother_name)\n",
        "\n",
        "s1 = Son()\n",
        "\n",
        "s1.name = \"asfdsa\"\n",
        "s1.father_name = \"gf ert b\"\n",
        "s1.mother_name = ' vefgw'\n",
        "\n",
        "s1.show()"
      ]
    },
    {
      "cell_type": "markdown",
      "metadata": {},
      "source": [
        "Non-Cooperative Parents"
      ]
    },
    {
      "cell_type": "code",
      "execution_count": 28,
      "metadata": {
        "colab": {
          "base_uri": "https://localhost:8080/"
        },
        "id": "wYTir_YjqJfM",
        "outputId": "d4dcfe02-e1b2-48de-e003-7fa44044a006"
      },
      "outputs": [
        {
          "name": "stdout",
          "output_type": "stream",
          "text": [
            "2023-08-09 10:16\n"
          ]
        }
      ],
      "source": [
        "class Date:\n",
        "  def __init__(self,date):\n",
        "    self.date = date\n",
        "\n",
        "class Time:\n",
        "  def __init__(self, time):\n",
        "    self.time = time\n",
        "\n",
        "class Timestamp(Date, Time): # Follows PEP 8 (class name Timestamp capitalized).\n",
        "  def __init__(self, date, time):\n",
        "    Date.__init__(self,date)\n",
        "    Time.__init__(self,time)\n",
        "  \n",
        "\n",
        "    DateTime  = self.date + ' ' +self.time\n",
        "    print(DateTime)\n",
        "\n",
        "\n",
        "    \n",
        "class Timestamp1(Date):\n",
        "  def __init__(self, date):\n",
        "    # Date.__init__(self,date)\n",
        "    super().__init__(date)\n",
        "    \n",
        "    \n",
        "    DateTime  = self.date \n",
        "    print(DateTime)\n",
        "    \n",
        "    \n",
        "datetime1 = Timestamp('2023-08-09','10:16')\n"
      ]
    },
    {
      "cell_type": "code",
      "execution_count": 31,
      "metadata": {},
      "outputs": [
        {
          "name": "stdout",
          "output_type": "stream",
          "text": [
            "2025-02-24 12:00\n"
          ]
        }
      ],
      "source": [
        "class Date:\n",
        "    def __init__(self, date):\n",
        "        self.date = date\n",
        "\n",
        "class Time:\n",
        "    def __init__(self, time):\n",
        "        self.time = time\n",
        "\n",
        "class Timestamp(Date, Time):\n",
        "    def __init__(self, date, time):\n",
        "        super().__init__(date)       # Calls Date.__init__\n",
        "        Time.__init__(self, time)    # Explicitly call Time’s __init__\n",
        "        DateTime = self.date + ' ' + self.time\n",
        "        print(DateTime)\n",
        "\n",
        "# Test\n",
        "ts = Timestamp(\"2025-02-24\", \"12:00\")"
      ]
    },
    {
      "cell_type": "markdown",
      "metadata": {},
      "source": [
        "Uses super() for modern, flexible inheritance.\n",
        "\n",
        "Includes show for reusability.\n",
        "\n",
        "Properly initializes the parent class."
      ]
    },
    {
      "cell_type": "code",
      "execution_count": 29,
      "metadata": {
        "id": "YuBl6Y5VcTM0"
      },
      "outputs": [
        {
          "name": "stdout",
          "output_type": "stream",
          "text": [
            "2023-08-09\n"
          ]
        }
      ],
      "source": [
        "datetime2 = Timestamp1('2023-08-09')"
      ]
    },
    {
      "cell_type": "code",
      "execution_count": null,
      "metadata": {},
      "outputs": [
        {
          "data": {
            "text/plain": [
              "(__main__.Timestamp1, __main__.Date, object)"
            ]
          },
          "execution_count": 30,
          "metadata": {},
          "output_type": "execute_result"
        }
      ],
      "source": [
        "Timestamp1.__mro__ # Method Resolution Order"
      ]
    },
    {
      "cell_type": "code",
      "execution_count": null,
      "metadata": {},
      "outputs": [],
      "source": [
        "class Timestamp3(Date):\n",
        "  def __init__(self):\n",
        "      pass\n",
        "  \n",
        "  def show(self):\n",
        "      DateTime  = self.date \n",
        "      print(DateTime)"
      ]
    },
    {
      "cell_type": "code",
      "execution_count": null,
      "metadata": {},
      "outputs": [],
      "source": [
        "timestamp3 = Timestamp3()"
      ]
    },
    {
      "cell_type": "code",
      "execution_count": 25,
      "metadata": {},
      "outputs": [],
      "source": [
        "timestamp3.date = '2023-08-09'"
      ]
    },
    {
      "cell_type": "code",
      "execution_count": 26,
      "metadata": {},
      "outputs": [
        {
          "name": "stdout",
          "output_type": "stream",
          "text": [
            "2023-08-09\n"
          ]
        }
      ],
      "source": [
        "timestamp3.show()"
      ]
    },
    {
      "cell_type": "markdown",
      "metadata": {},
      "source": [
        "Fully Cooperative (Ideal Solution)"
      ]
    },
    {
      "cell_type": "code",
      "execution_count": 32,
      "metadata": {},
      "outputs": [
        {
          "name": "stdout",
          "output_type": "stream",
          "text": [
            "2025-02-24 12:00\n",
            "2025-02-24\n",
            "12:00\n"
          ]
        }
      ],
      "source": [
        "class Date:\n",
        "    def __init__(self, date, time=None, **kwargs):\n",
        "        self.date = date\n",
        "        super().__init__(time, **kwargs)\n",
        "\n",
        "class Time:\n",
        "    def __init__(self, time, **kwargs):\n",
        "        self.time = time\n",
        "        super().__init__(**kwargs)\n",
        "\n",
        "class Timestamp(Date, Time):\n",
        "    def __init__(self, date, time):\n",
        "        super().__init__(date, time)\n",
        "        DateTime = self.date + ' ' + self.time\n",
        "        print(DateTime)\n",
        "\n",
        "# Test\n",
        "ts = Timestamp(\"2025-02-24\", \"12:00\")  # Output: 2025-02-24 12:00\n",
        "print(ts.date)  # 2025-02-24\n",
        "print(ts.time)  # 12:00"
      ]
    },
    {
      "cell_type": "code",
      "execution_count": 33,
      "metadata": {},
      "outputs": [
        {
          "name": "stdout",
          "output_type": "stream",
          "text": [
            "2025-02-24 12:00\n"
          ]
        }
      ],
      "source": [
        "class Date:\n",
        "    def __init__(self, date, time=None):\n",
        "        self.date = date\n",
        "        if time is not None:  # Allow chaining to next class\n",
        "            super().__init__(time)\n",
        "\n",
        "class Time:\n",
        "    def __init__(self, time):\n",
        "        self.time = time\n",
        "\n",
        "class Timestamp(Date, Time):\n",
        "    def __init__(self, date, time):\n",
        "        super().__init__(date, time)  # Calls Date.__init__\n",
        "        DateTime = self.date + ' ' + self.time\n",
        "        print(DateTime)\n",
        "\n",
        "# Test\n",
        "ts = Timestamp(\"2025-02-24\", \"12:00\")"
      ]
    }
  ],
  "metadata": {
    "colab": {
      "provenance": []
    },
    "kernelspec": {
      "display_name": "Python 3",
      "name": "python3"
    },
    "language_info": {
      "codemirror_mode": {
        "name": "ipython",
        "version": 3
      },
      "file_extension": ".py",
      "mimetype": "text/x-python",
      "name": "python",
      "nbconvert_exporter": "python",
      "pygments_lexer": "ipython3",
      "version": "3.11.0"
    }
  },
  "nbformat": 4,
  "nbformat_minor": 0
}
