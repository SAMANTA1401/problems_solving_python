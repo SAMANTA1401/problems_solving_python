{
  "nbformat": 4,
  "nbformat_minor": 0,
  "metadata": {
    "colab": {
      "provenance": []
    },
    "kernelspec": {
      "name": "python3",
      "display_name": "Python 3"
    },
    "language_info": {
      "name": "python"
    }
  },
  "cells": [
    {
      "cell_type": "markdown",
      "source": [
        "multiple inheritance is a feature in which a class (derived class ) can inherit attributes and methods from more than one parent class\n",
        "\n",
        "the derived class inherits all the features of the base case"
      ],
      "metadata": {
        "id": "ckzKywR9mUn0"
      }
    },
    {
      "cell_type": "code",
      "execution_count": null,
      "metadata": {
        "colab": {
          "base_uri": "https://localhost:8080/"
        },
        "id": "ye8m0MtpmO4P",
        "outputId": "dfcce9c3-1786-4f02-940e-c0290a682701"
      },
      "outputs": [
        {
          "output_type": "stream",
          "name": "stdout",
          "text": [
            "my name: asfdsa\n",
            "father: gf ert b\n",
            "mother:  vefgw\n"
          ]
        }
      ],
      "source": [
        "#super class\n",
        "class Father:\n",
        "  def __init__(self):\n",
        "    self.fathername = str()\n",
        "\n",
        "#super class\n",
        "class Mother:\n",
        "  def __inint__(self):\n",
        "    self.mothername = str()\n",
        "\n",
        "#sub class\n",
        "class Son(Father, Mother):\n",
        "  # name = str()       # it is also valid\n",
        "  def __init__(self):\n",
        "    self.name = str()\n",
        "\n",
        "\n",
        "  def show(self):\n",
        "    print('my name:', self.name)\n",
        "    print('father:',self.fathername)\n",
        "    print('mother:', self.mothername)\n",
        "\n",
        "s1 = Son()\n",
        "\n",
        "s1.name = \"asfdsa\"\n",
        "s1.fathername = \"gf ert b\"\n",
        "s1.mothername = ' vefgw'\n",
        "\n",
        "s1.show()"
      ]
    },
    {
      "cell_type": "code",
      "source": [
        "class Date:\n",
        "  def __init__(self,date):\n",
        "    self.date = date\n",
        "\n",
        "class Time:\n",
        "  def __init__(self, time):\n",
        "    self.time = time\n",
        "\n",
        "class timestamp(Date, Time):\n",
        "  def __init__(self, date, time):\n",
        "    Date.__init__(self,date)\n",
        "    Time.__init__(self,time)\n",
        "\n",
        "\n",
        "    DateTime  = self.date + ' ' +self.time\n",
        "    print(DateTime)\n",
        "\n",
        "datatime1 = timestamp('2023-08-09','10:16')"
      ],
      "metadata": {
        "id": "wYTir_YjqJfM",
        "colab": {
          "base_uri": "https://localhost:8080/"
        },
        "outputId": "d4dcfe02-e1b2-48de-e003-7fa44044a006"
      },
      "execution_count": null,
      "outputs": [
        {
          "output_type": "stream",
          "name": "stdout",
          "text": [
            "2023-08-09 10:16\n"
          ]
        }
      ]
    },
    {
      "cell_type": "code",
      "source": [],
      "metadata": {
        "id": "YuBl6Y5VcTM0"
      },
      "execution_count": null,
      "outputs": []
    }
  ]
}