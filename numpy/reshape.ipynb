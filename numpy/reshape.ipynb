{
 "cells": [
  {
   "cell_type": "markdown",
   "id": "0ed65592",
   "metadata": {},
   "source": [
    "Input: mat = [[1,2],[3,4]], r = 2, c = 4\n",
    "\n",
    "\n",
    "Output: [[1,2],[3,4]]"
   ]
  },
  {
   "cell_type": "markdown",
   "id": "1ccd7454",
   "metadata": {},
   "source": [
    "Input:mat = [[1, 2], [3, 4]], r = 1, c = 4\n",
    "\n",
    "\n",
    "Output:[[1, 2, 3, 4]]"
   ]
  },
  {
   "cell_type": "markdown",
   "id": "feb56043",
   "metadata": {},
   "source": [
    "2d to 1d"
   ]
  },
  {
   "cell_type": "code",
   "execution_count": 8,
   "id": "5cc50f0a",
   "metadata": {},
   "outputs": [],
   "source": [
    "import numpy as np"
   ]
  },
  {
   "cell_type": "code",
   "execution_count": 2,
   "id": "1b82dd47",
   "metadata": {},
   "outputs": [],
   "source": [
    "arr2d =  [\n",
    "          [1, 2],\n",
    "          [3, 4]\n",
    "          ]\n"
   ]
  },
  {
   "cell_type": "code",
   "execution_count": 13,
   "id": "518b3cdb",
   "metadata": {},
   "outputs": [
    {
     "data": {
      "text/plain": [
       "array([1, 2, 3, 4])"
      ]
     },
     "execution_count": 13,
     "metadata": {},
     "output_type": "execute_result"
    }
   ],
   "source": [
    "np.array(arr2d).reshape(1, 4)[0]  # Reshape to 1 row and 4 columns"
   ]
  },
  {
   "cell_type": "code",
   "execution_count": 5,
   "id": "bcb28a2d",
   "metadata": {},
   "outputs": [],
   "source": [
    "arr1d = [f for row in arr2d for f in row]"
   ]
  },
  {
   "cell_type": "code",
   "execution_count": 6,
   "id": "3958cdd0",
   "metadata": {},
   "outputs": [
    {
     "data": {
      "text/plain": [
       "[1, 2, 3, 4]"
      ]
     },
     "execution_count": 6,
     "metadata": {},
     "output_type": "execute_result"
    }
   ],
   "source": [
    "arr1d"
   ]
  },
  {
   "cell_type": "code",
   "execution_count": 14,
   "id": "a1e74ba2",
   "metadata": {},
   "outputs": [],
   "source": [
    "r = 1\n",
    "c = 4"
   ]
  }
 ],
 "metadata": {
  "kernelspec": {
   "display_name": "Python 3",
   "language": "python",
   "name": "python3"
  },
  "language_info": {
   "codemirror_mode": {
    "name": "ipython",
    "version": 3
   },
   "file_extension": ".py",
   "mimetype": "text/x-python",
   "name": "python",
   "nbconvert_exporter": "python",
   "pygments_lexer": "ipython3",
   "version": "3.11.0"
  }
 },
 "nbformat": 4,
 "nbformat_minor": 5
}
