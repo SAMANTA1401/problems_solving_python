{
  "cells": [
    {
      "cell_type": "markdown",
      "metadata": {
        "id": "T0-jIozf0mex"
      },
      "source": [
        "operators are special symbols in python which are used to perform operations on variables /values"
      ]
    },
    {
      "cell_type": "code",
      "execution_count": null,
      "metadata": {
        "colab": {
          "base_uri": "https://localhost:8080/",
          "height": 36
        },
        "id": "N6m_3T-3zSGG",
        "outputId": "fc8aeddb-33e3-49dc-b732-f127a4b3aab8"
      },
      "outputs": [
        {
          "data": {
            "application/vnd.google.colaboratory.intrinsic+json": {
              "type": "string"
            },
            "text/plain": [
              "'asdfasdr'"
            ]
          },
          "execution_count": 2,
          "metadata": {},
          "output_type": "execute_result"
        }
      ],
      "source": [
        "#arithmetic operator\n",
        "# +,-,*,/,%, **, //\n",
        "x = 'asdf'\n",
        "y = 'asdr'\n",
        "\n",
        "c = x+y\n",
        "c"
      ]
    },
    {
      "cell_type": "code",
      "execution_count": null,
      "metadata": {
        "colab": {
          "base_uri": "https://localhost:8080/"
        },
        "id": "oYRnU0WV1lcl",
        "outputId": "23ccf2cc-febe-4801-b059-681285e6eddf"
      },
      "outputs": [
        {
          "data": {
            "text/plain": [
              "1"
            ]
          },
          "execution_count": 4,
          "metadata": {},
          "output_type": "execute_result"
        }
      ],
      "source": [
        "a =5\n",
        "b=4\n",
        "\n",
        "c = a//b  #division floor\n",
        "c"
      ]
    },
    {
      "cell_type": "code",
      "execution_count": null,
      "metadata": {
        "colab": {
          "base_uri": "https://localhost:8080/"
        },
        "id": "CG752fep1wAU",
        "outputId": "e518131e-0704-40ec-dda5-9fc24d230de7"
      },
      "outputs": [
        {
          "name": "stdout",
          "output_type": "stream",
          "text": [
            "False\n",
            "True\n",
            "True\n"
          ]
        }
      ],
      "source": [
        "# comparison operator\n",
        "# <,>, == ,!=,>=,\n",
        "\n",
        "x =20\n",
        "y = 30\n",
        "\n",
        "a ='sdf'\n",
        "b='sder'\n",
        "c = \"sdf\"\n",
        "\n",
        "print(a==b)\n",
        "print(a==c)\n",
        "print(a !=b)"
      ]
    },
    {
      "cell_type": "code",
      "execution_count": null,
      "metadata": {
        "colab": {
          "base_uri": "https://localhost:8080/"
        },
        "id": "k5XWGUBB2h5q",
        "outputId": "778faabc-16fa-4816-e253-597afdc6739e"
      },
      "outputs": [
        {
          "name": "stdout",
          "output_type": "stream",
          "text": [
            "False\n",
            "True\n",
            "False\n"
          ]
        }
      ],
      "source": [
        "# logical operator\n",
        "\n",
        "x =True\n",
        "y = False\n",
        "print(x & y)\n",
        "print(x or y)\n",
        "print(not x)"
      ]
    },
    {
      "cell_type": "code",
      "execution_count": null,
      "metadata": {
        "colab": {
          "base_uri": "https://localhost:8080/"
        },
        "id": "oEPLThc23eHv",
        "outputId": "2e8f2c28-ae6d-41e0-9132-d68746385870"
      },
      "outputs": [
        {
          "name": "stdout",
          "output_type": "stream",
          "text": [
            "2\n"
          ]
        }
      ],
      "source": [
        "# bitwise operators\n",
        "# bitwise operators act on bits and performs bit by bit operations\n",
        "\n",
        "x = 18 #binary form 10010\n",
        "y= 6 #binary forms  00110\n",
        "\n",
        "print(x & y)"
      ]
    },
    {
      "cell_type": "code",
      "execution_count": null,
      "metadata": {
        "colab": {
          "base_uri": "https://localhost:8080/"
        },
        "id": "KIy1dzSX5uRt",
        "outputId": "49f3020e-4c89-407f-829e-d92bf60b8610"
      },
      "outputs": [
        {
          "name": "stdout",
          "output_type": "stream",
          "text": [
            "22\n"
          ]
        }
      ],
      "source": [
        "print(x | y)"
      ]
    },
    {
      "cell_type": "code",
      "execution_count": null,
      "metadata": {
        "id": "c4a6KglS6KAM"
      },
      "outputs": [],
      "source": []
    }
  ],
  "metadata": {
    "colab": {
      "provenance": []
    },
    "kernelspec": {
      "display_name": "Python 3",
      "name": "python3"
    },
    "language_info": {
      "name": "python"
    }
  },
  "nbformat": 4,
  "nbformat_minor": 0
}
