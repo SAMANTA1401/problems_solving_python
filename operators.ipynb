{
  "nbformat": 4,
  "nbformat_minor": 0,
  "metadata": {
    "colab": {
      "provenance": []
    },
    "kernelspec": {
      "name": "python3",
      "display_name": "Python 3"
    },
    "language_info": {
      "name": "python"
    }
  },
  "cells": [
    {
      "cell_type": "markdown",
      "source": [
        "operators are special symbols in python which are used to perform operations on variables /values"
      ],
      "metadata": {
        "id": "T0-jIozf0mex"
      }
    },
    {
      "cell_type": "code",
      "execution_count": null,
      "metadata": {
        "colab": {
          "base_uri": "https://localhost:8080/",
          "height": 36
        },
        "id": "N6m_3T-3zSGG",
        "outputId": "fc8aeddb-33e3-49dc-b732-f127a4b3aab8"
      },
      "outputs": [
        {
          "output_type": "execute_result",
          "data": {
            "text/plain": [
              "'asdfasdr'"
            ],
            "application/vnd.google.colaboratory.intrinsic+json": {
              "type": "string"
            }
          },
          "metadata": {},
          "execution_count": 2
        }
      ],
      "source": [
        "#arithmatic operator\n",
        "# +,-,*,/,%, **, //\n",
        "x = 'asdf'\n",
        "y = 'asdr'\n",
        "\n",
        "c = x+y\n",
        "c"
      ]
    },
    {
      "cell_type": "code",
      "source": [
        "a =5\n",
        "b=4\n",
        "\n",
        "c = a//b  #division floor\n",
        "c"
      ],
      "metadata": {
        "colab": {
          "base_uri": "https://localhost:8080/"
        },
        "id": "oYRnU0WV1lcl",
        "outputId": "23ccf2cc-febe-4801-b059-681285e6eddf"
      },
      "execution_count": null,
      "outputs": [
        {
          "output_type": "execute_result",
          "data": {
            "text/plain": [
              "1"
            ]
          },
          "metadata": {},
          "execution_count": 4
        }
      ]
    },
    {
      "cell_type": "code",
      "source": [
        "# comparison operator\n",
        "# <,>, == ,!=,>=,\n",
        "\n",
        "x =20\n",
        "y = 30\n",
        "\n",
        "a ='sdf'\n",
        "b='sder'\n",
        "c = \"sdf\"\n",
        "\n",
        "print(a==b)\n",
        "print(a==c)\n",
        "print(a !=b)"
      ],
      "metadata": {
        "colab": {
          "base_uri": "https://localhost:8080/"
        },
        "id": "CG752fep1wAU",
        "outputId": "e518131e-0704-40ec-dda5-9fc24d230de7"
      },
      "execution_count": null,
      "outputs": [
        {
          "output_type": "stream",
          "name": "stdout",
          "text": [
            "False\n",
            "True\n",
            "True\n"
          ]
        }
      ]
    },
    {
      "cell_type": "code",
      "source": [
        "# logical operator\n",
        "\n",
        "x =True\n",
        "y = False\n",
        "print(x & y)\n",
        "print(x or y)\n",
        "print(not x)"
      ],
      "metadata": {
        "colab": {
          "base_uri": "https://localhost:8080/"
        },
        "id": "k5XWGUBB2h5q",
        "outputId": "778faabc-16fa-4816-e253-597afdc6739e"
      },
      "execution_count": null,
      "outputs": [
        {
          "output_type": "stream",
          "name": "stdout",
          "text": [
            "False\n",
            "True\n",
            "False\n"
          ]
        }
      ]
    },
    {
      "cell_type": "code",
      "source": [
        "# bitwise operatiors\n",
        "# bitwise operators act on bits and performs bit by bit operations\n",
        "\n",
        "x = 18 #binary form 10010\n",
        "y= 6 #binary forms  o0110\n",
        "\n",
        "print(x & y)"
      ],
      "metadata": {
        "colab": {
          "base_uri": "https://localhost:8080/"
        },
        "id": "oEPLThc23eHv",
        "outputId": "2e8f2c28-ae6d-41e0-9132-d68746385870"
      },
      "execution_count": null,
      "outputs": [
        {
          "output_type": "stream",
          "name": "stdout",
          "text": [
            "2\n"
          ]
        }
      ]
    },
    {
      "cell_type": "code",
      "source": [
        "print(x | y)"
      ],
      "metadata": {
        "colab": {
          "base_uri": "https://localhost:8080/"
        },
        "id": "KIy1dzSX5uRt",
        "outputId": "49f3020e-4c89-407f-829e-d92bf60b8610"
      },
      "execution_count": null,
      "outputs": [
        {
          "output_type": "stream",
          "name": "stdout",
          "text": [
            "22\n"
          ]
        }
      ]
    },
    {
      "cell_type": "code",
      "source": [],
      "metadata": {
        "id": "c4a6KglS6KAM"
      },
      "execution_count": null,
      "outputs": []
    }
  ]
}