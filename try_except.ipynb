{
  "cells": [
    {
      "cell_type": "markdown",
      "metadata": {
        "id": "Cza9rAimySr5"
      },
      "source": [
        "ERROR HANDLING IN PYTHON:"
      ]
    },
    {
      "cell_type": "code",
      "execution_count": null,
      "metadata": {
        "colab": {
          "base_uri": "https://localhost:8080/"
        },
        "id": "15314UQzvQfX",
        "outputId": "2557917b-b356-468d-8d7a-b754d4b96a1b"
      },
      "outputs": [
        {
          "name": "stdout",
          "output_type": "stream",
          "text": [
            "Enter first nunber :shubhankar\n"
          ]
        }
      ],
      "source": [
        "try:\n",
        "  x = input('Enter first number :')\n",
        "except:\n",
        "  print('ZeroDivisionError exception occurred')\n"
      ]
    },
    {
      "cell_type": "code",
      "execution_count": null,
      "metadata": {
        "colab": {
          "base_uri": "https://localhost:8080/"
        },
        "id": "ZkgeSJo2wEBL",
        "outputId": "9625422e-6dd3-4b44-a222-31eb8c92a0ab"
      },
      "outputs": [
        {
          "name": "stdout",
          "output_type": "stream",
          "text": [
            "AttributeError Exception Raised\n"
          ]
        }
      ],
      "source": [
        "# attribute error: this exception is raised when attribute reference or assignment error\n",
        "try:\n",
        "  a =10\n",
        "  b = a.upper()\n",
        "  print(b)\n",
        "except AttributeError:\n",
        "  print(\"AttributeError Exception Raised\")"
      ]
    },
    {
      "cell_type": "code",
      "execution_count": null,
      "metadata": {
        "colab": {
          "base_uri": "https://localhost:8080/"
        },
        "id": "Dys7_7waxEq1",
        "outputId": "5e41d632-fa70-42f6-e8b4-e3fe9a7223c9"
      },
      "outputs": [
        {
          "name": "stdout",
          "output_type": "stream",
          "text": [
            "TypeError Exception Raised\n"
          ]
        }
      ],
      "source": [
        "# type error this exception is raised when two different datatypes are combined\n",
        "try:\n",
        "  a = 590\n",
        "  b =\"Asif\"\n",
        "  c = a/b\n",
        "except TypeError:\n",
        "  print(\"TypeError Exception Raised\")"
      ]
    },
    {
      "cell_type": "code",
      "execution_count": null,
      "metadata": {
        "colab": {
          "base_uri": "https://localhost:8080/"
        },
        "id": "riO43PceyJPF",
        "outputId": "ca10878b-b63d-49bd-d7ed-66c6ecbd743f"
      },
      "outputs": [
        {
          "name": "stdout",
          "output_type": "stream",
          "text": [
            "IndexError 'Exception Raised\n"
          ]
        }
      ],
      "source": [
        "# index error : this exception is raised when an index of a  sequence does not exist\n",
        "try:\n",
        "  mylist = [2,35,56,76]\n",
        "  print(mylist[10])\n",
        "except IndexError:\n",
        "  print(\"IndexError 'Exception Raised\")"
      ]
    },
    {
      "cell_type": "code",
      "execution_count": null,
      "metadata": {
        "colab": {
          "base_uri": "https://localhost:8080/"
        },
        "id": "Fz3nGF0dy8uP",
        "outputId": "1029bf65-8ef8-48ba-d0e0-2a0d8877b1c0"
      },
      "outputs": [
        {
          "name": "stdout",
          "output_type": "stream",
          "text": [
            "KeyError Exception Raised\n"
          ]
        }
      ],
      "source": [
        "# KeyError-this exception is raised when key does not exist in a dictionary\n",
        "try:\n",
        "  mydict = {1:'Asif',2:'Basit', 3:'Michael'}\n",
        "  print(mydict[4])\n",
        "except KeyError:\n",
        "  print(\"KeyError Exception Raised\")"
      ]
    },
    {
      "cell_type": "code",
      "execution_count": null,
      "metadata": {
        "colab": {
          "base_uri": "https://localhost:8080/"
        },
        "id": "w8HrYS3f0F6R",
        "outputId": "8cafad84-df53-4976-b304-08c8c493311a"
      },
      "outputs": [
        {
          "name": "stdout",
          "output_type": "stream",
          "text": [
            "ModuleNotFoundError Exception Error\n"
          ]
        }
      ],
      "source": [
        "# module not found error\n",
        "try:\n",
        "  import myModule\n",
        "except ModuleNotFoundError:\n",
        "  print(\"ModuleNotFoundError Exception Error\")"
      ]
    },
    {
      "cell_type": "code",
      "execution_count": null,
      "metadata": {
        "colab": {
          "base_uri": "https://localhost:8080/"
        },
        "id": "1PMAgqmk0vuQ",
        "outputId": "cf5108d3-16c5-478b-a7aa-9e7f5c503ccc"
      },
      "outputs": [
        {
          "name": "stdout",
          "output_type": "stream",
          "text": [
            "Assertion Exception Raised\n"
          ]
        }
      ],
      "source": [
        "# AssertionError this exception is raised when an assert statement fails\n",
        "try:\n",
        "  a = 50\n",
        "  b='asif'\n",
        "  assert a ==b # ensure that a==b\n",
        "except AssertionError:\n",
        "  print(\"Assertion Exception Raised\")\n"
      ]
    },
    {
      "cell_type": "code",
      "execution_count": null,
      "metadata": {
        "colab": {
          "base_uri": "https://localhost:8080/"
        },
        "id": "jHxVg75A1PfA",
        "outputId": "9c5d3e36-2b70-4161-e2ad-184ad44bd172"
      },
      "outputs": [
        {
          "name": "stdout",
          "output_type": "stream",
          "text": [
            "NameError exception occured\n"
          ]
        }
      ],
      "source": [
        "# Name error: this exception is raised when a variable does not exist\n",
        "try:\n",
        "  print(x1)\n",
        "except NameError:\n",
        "  print('NameError exception occurred')"
      ]
    },
    {
      "cell_type": "code",
      "execution_count": null,
      "metadata": {
        "colab": {
          "base_uri": "https://localhost:8080/"
        },
        "id": "aiY6Rq4p4Hb0",
        "outputId": "ec6d0127-4eb5-486f-e52f-80ad8b1a5550"
      },
      "outputs": [
        {
          "name": "stdout",
          "output_type": "stream",
          "text": [
            "Enter first name :-4\n",
            "Enter second number:-0\n",
            "ZeroDivisionError exception occured\n"
          ]
        }
      ],
      "source": [
        "# ZeroDivisionError this exception is raised when the second operator in a division is zero\n",
        "try:\n",
        "  x = int(input('Enter first name :-'))\n",
        "  y = int(input('Enter second number:-'))\n",
        "  print(x/y)\n",
        "except ZeroDivisionError:\n",
        "  print('ZeroDivisionError exception occurred')"
      ]
    },
    {
      "cell_type": "code",
      "execution_count": null,
      "metadata": {
        "colab": {
          "base_uri": "https://localhost:8080/"
        },
        "id": "VEGmO9k25Mnu",
        "outputId": "edcd34ef-7c4f-4e42-afff-b5fb4a013387"
      },
      "outputs": [
        {
          "name": "stdout",
          "output_type": "stream",
          "text": [
            "(<class 'OverflowError'>, OverflowError('math range error'), <traceback object at 0x7f8519c729c0>)\n"
          ]
        }
      ],
      "source": [
        "# overflowError: this exception is raised when the result of a numeric calculator\n",
        "try:\n",
        "  import sys\n",
        "  import math\n",
        "  print(math.exp(1000))\n",
        "except OverflowError:\n",
        "  print (sys.exc_info())\n",
        "else:\n",
        "  print(\"Success , no error!\")"
      ]
    },
    {
      "cell_type": "markdown",
      "metadata": {
        "id": "jHTcdTSgBGrl"
      },
      "source": [
        "Exception created"
      ]
    },
    {
      "cell_type": "code",
      "execution_count": null,
      "metadata": {
        "colab": {
          "base_uri": "https://localhost:8080/"
        },
        "id": "4u1SX9Fe7E37",
        "outputId": "57117a9a-d6c7-4abb-a31c-e2fecafecf81"
      },
      "outputs": [
        {
          "name": "stdout",
          "output_type": "stream",
          "text": [
            "Enter first number:-798\n",
            "<class 'ValueError'>\n"
          ]
        }
      ],
      "source": [
        "try:\n",
        "  x = int(input('Enter first number:-'))\n",
        "  if x> 50:\n",
        "    raise ValueError(x) #if value of x is greater than 50 valueerror exception raised\n",
        "except:\n",
        "  print(sys.exc_info()[0])"
      ]
    },
    {
      "cell_type": "code",
      "execution_count": null,
      "metadata": {
        "colab": {
          "base_uri": "https://localhost:8080/"
        },
        "id": "WtY1PejLBOUA",
        "outputId": "a96f40da-98be-44b8-a535-c533829afb2e"
      },
      "outputs": [
        {
          "name": "stdout",
          "output_type": "stream",
          "text": [
            "enter first number:-45\n",
            "Enter seccond number:0\n",
            "ZeroDivisionError exception occured\n"
          ]
        }
      ],
      "source": [
        "# Holding specific exception\n",
        "try:\n",
        "  import os\n",
        "  x = int(input('enter first number:-'))\n",
        "  y  =int(input('Enter second number:'))\n",
        "  print(x/y)\n",
        "  os.remove('test3.txt')\n",
        "except NameError:\n",
        "  print('NameError exception occurred')\n",
        "except FileNotFoundError:\n",
        "  print('FileNoteFoundError exception occurred')\n",
        "except ZeroDivisionError:\n",
        "  print('ZeroDivisionError exception occurred')\n"
      ]
    },
    {
      "cell_type": "code",
      "execution_count": null,
      "metadata": {
        "colab": {
          "base_uri": "https://localhost:8080/"
        },
        "id": "y7YiF_DGkVsS",
        "outputId": "c00c0f6a-9743-49eb-9521-ab6aab7b0cad"
      },
      "outputs": [
        {
          "name": "stdout",
          "output_type": "stream",
          "text": [
            "Bellow exception occured\n",
            "[Errno 2] No such file or directory: 'test3.txt'\n",
            "\n",
            "Run this block of code always\n"
          ]
        }
      ],
      "source": [
        "\n",
        "try:\n",
        "  import sys\n",
        "  os.remove(\"test3.txt\") #file not found error will be encountered\n",
        "except:\n",
        "  print(\"Bellow exception occurred\")\n",
        "  print(sys.exc_info()[1])\n",
        "else:\n",
        "  print(\"\\nNo exception occurred\")\n",
        "finally:\n",
        "  print('\\nRun this block of code always')"
      ]
    },
    {
      "cell_type": "code",
      "execution_count": null,
      "metadata": {
        "colab": {
          "base_uri": "https://localhost:8080/"
        },
        "id": "OXgHMvJGmEaz",
        "outputId": "9d46bab3-0bc5-48b0-f999-09b028b73a84"
      },
      "outputs": [
        {
          "name": "stdout",
          "output_type": "stream",
          "text": [
            "45\n"
          ]
        }
      ],
      "source": [
        "try:\n",
        "  print(x)\n",
        "except:\n",
        "  print('variable x is not defined')"
      ]
    },
    {
      "cell_type": "code",
      "execution_count": null,
      "metadata": {
        "colab": {
          "base_uri": "https://localhost:8080/"
        },
        "id": "mX3yupt-n__G",
        "outputId": "e3b902e6-8041-4219-abd3-0d473380fe13"
      },
      "outputs": [
        {
          "name": "stdout",
          "output_type": "stream",
          "text": [
            "division by zero Exception occured\n",
            "Run this block of code alwaya\n"
          ]
        }
      ],
      "source": [
        "try:\n",
        "  import sys\n",
        "  print(100/0) #ZeroDivisionError will be encountered here\n",
        "except:\n",
        "  print(sys.exc_info()[1] , 'Exception occurred' )#this statement will  be executed\n",
        "else:\n",
        "  print('No exception occurred') # this will be skipped as code block is\n",
        "finally:\n",
        "  print(\"Run this block of code always\") #this will be always executed\n"
      ]
    }
  ],
  "metadata": {
    "colab": {
      "provenance": []
    },
    "kernelspec": {
      "display_name": "Python 3",
      "name": "python3"
    },
    "language_info": {
      "name": "python"
    }
  },
  "nbformat": 4,
  "nbformat_minor": 0
}
