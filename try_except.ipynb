{
  "nbformat": 4,
  "nbformat_minor": 0,
  "metadata": {
    "colab": {
      "provenance": []
    },
    "kernelspec": {
      "name": "python3",
      "display_name": "Python 3"
    },
    "language_info": {
      "name": "python"
    }
  },
  "cells": [
    {
      "cell_type": "markdown",
      "source": [
        "ERROR HANDLING IN PYTHON:"
      ],
      "metadata": {
        "id": "Cza9rAimySr5"
      }
    },
    {
      "cell_type": "code",
      "execution_count": null,
      "metadata": {
        "colab": {
          "base_uri": "https://localhost:8080/"
        },
        "id": "15314UQzvQfX",
        "outputId": "2557917b-b356-468d-8d7a-b754d4b96a1b"
      },
      "outputs": [
        {
          "name": "stdout",
          "output_type": "stream",
          "text": [
            "Enter first nunber :shubhankar\n"
          ]
        }
      ],
      "source": [
        "try:\n",
        "  x = input('Enter first nunber :')\n",
        "except:\n",
        "  print('ZeroDivisionError exception occured')\n"
      ]
    },
    {
      "cell_type": "code",
      "source": [
        "# attribute error: this exception is raised when attribute referece or asignnment error\n",
        "try:\n",
        "  a =10\n",
        "  b = a.upper()\n",
        "  print(b)\n",
        "except AttributeError:\n",
        "  print(\"AttributeError Exception Raised\")"
      ],
      "metadata": {
        "colab": {
          "base_uri": "https://localhost:8080/"
        },
        "id": "ZkgeSJo2wEBL",
        "outputId": "9625422e-6dd3-4b44-a222-31eb8c92a0ab"
      },
      "execution_count": null,
      "outputs": [
        {
          "output_type": "stream",
          "name": "stdout",
          "text": [
            "AttributeError Exception Raised\n"
          ]
        }
      ]
    },
    {
      "cell_type": "code",
      "source": [
        "# type error this exceoption is raised when two different datatypes are con=mbined\n",
        "try:\n",
        "  a = 590\n",
        "  b =\"Asif\"\n",
        "  c = a/b\n",
        "except TypeError:\n",
        "  print(\"TypeError Exception Raised\")"
      ],
      "metadata": {
        "colab": {
          "base_uri": "https://localhost:8080/"
        },
        "id": "Dys7_7waxEq1",
        "outputId": "5e41d632-fa70-42f6-e8b4-e3fe9a7223c9"
      },
      "execution_count": null,
      "outputs": [
        {
          "output_type": "stream",
          "name": "stdout",
          "text": [
            "TypeError Exception Raised\n"
          ]
        }
      ]
    },
    {
      "cell_type": "code",
      "source": [
        "# index error : this exception is raised when an index of a  sequence does not exist\n",
        "try:\n",
        "  mylist = [2,35,56,76]\n",
        "  print(mylist[10])\n",
        "except IndexError:\n",
        "  print(\"IndexError 'Exception Raised\")"
      ],
      "metadata": {
        "colab": {
          "base_uri": "https://localhost:8080/"
        },
        "id": "riO43PceyJPF",
        "outputId": "ca10878b-b63d-49bd-d7ed-66c6ecbd743f"
      },
      "execution_count": null,
      "outputs": [
        {
          "output_type": "stream",
          "name": "stdout",
          "text": [
            "IndexError 'Exception Raised\n"
          ]
        }
      ]
    },
    {
      "cell_type": "code",
      "source": [
        "# KeyError-this exception is raised when key does not exist in a dictionary\n",
        "try:\n",
        "  mydict = {1:'Asif',2:'Basit', 3:'Michael'}\n",
        "  print(mydict[4])\n",
        "except KeyError:\n",
        "  print(\"KeyError Exception Raised\")"
      ],
      "metadata": {
        "colab": {
          "base_uri": "https://localhost:8080/"
        },
        "id": "Fz3nGF0dy8uP",
        "outputId": "1029bf65-8ef8-48ba-d0e0-2a0d8877b1c0"
      },
      "execution_count": null,
      "outputs": [
        {
          "output_type": "stream",
          "name": "stdout",
          "text": [
            "KeyError Exception Raised\n"
          ]
        }
      ]
    },
    {
      "cell_type": "code",
      "source": [
        "# module not found error\n",
        "try:\n",
        "  import myModule\n",
        "except ModuleNotFoundError:\n",
        "  print(\"ModuleNotFoundError Exception Error\")"
      ],
      "metadata": {
        "colab": {
          "base_uri": "https://localhost:8080/"
        },
        "id": "w8HrYS3f0F6R",
        "outputId": "8cafad84-df53-4976-b304-08c8c493311a"
      },
      "execution_count": null,
      "outputs": [
        {
          "output_type": "stream",
          "name": "stdout",
          "text": [
            "ModuleNotFoundError Exception Error\n"
          ]
        }
      ]
    },
    {
      "cell_type": "code",
      "source": [
        "# AssertionError this exception is raised when an assert statement fails\n",
        "try:\n",
        "  a = 50\n",
        "  b='asif'\n",
        "  assert a ==b\n",
        "except AssertionError:\n",
        "  print(\"Assertion Exception Raised\")\n"
      ],
      "metadata": {
        "colab": {
          "base_uri": "https://localhost:8080/"
        },
        "id": "1PMAgqmk0vuQ",
        "outputId": "cf5108d3-16c5-478b-a7aa-9e7f5c503ccc"
      },
      "execution_count": null,
      "outputs": [
        {
          "output_type": "stream",
          "name": "stdout",
          "text": [
            "Assertion Exception Raised\n"
          ]
        }
      ]
    },
    {
      "cell_type": "code",
      "source": [
        "# Name error: this exception is raised when a variable does not exist\n",
        "try:\n",
        "  print(x1)\n",
        "except NameError:\n",
        "  print('NameError exception occured')"
      ],
      "metadata": {
        "colab": {
          "base_uri": "https://localhost:8080/"
        },
        "id": "jHxVg75A1PfA",
        "outputId": "9c5d3e36-2b70-4161-e2ad-184ad44bd172"
      },
      "execution_count": null,
      "outputs": [
        {
          "output_type": "stream",
          "name": "stdout",
          "text": [
            "NameError exception occured\n"
          ]
        }
      ]
    },
    {
      "cell_type": "code",
      "source": [
        "# ZeroDivisionError this excepttion is raised when the second operator in a division is zero\n",
        "try:\n",
        "  x = int(input('Enter first name :-'))\n",
        "  y = int(input('Enter second number:-'))\n",
        "  print(x/y)\n",
        "except ZeroDivisionError:\n",
        "  print('ZeroDivisionError exception occured')"
      ],
      "metadata": {
        "colab": {
          "base_uri": "https://localhost:8080/"
        },
        "id": "aiY6Rq4p4Hb0",
        "outputId": "ec6d0127-4eb5-486f-e52f-80ad8b1a5550"
      },
      "execution_count": null,
      "outputs": [
        {
          "output_type": "stream",
          "name": "stdout",
          "text": [
            "Enter first name :-4\n",
            "Enter second number:-0\n",
            "ZeroDivisionError exception occured\n"
          ]
        }
      ]
    },
    {
      "cell_type": "code",
      "source": [
        "# overflowError: this exception is rasised when the result of a numeric calculator\n",
        "try:\n",
        "  import sys\n",
        "  import math\n",
        "  print(math.exp(1000))\n",
        "except OverflowError:\n",
        "  print (sys.exc_info())\n",
        "else:\n",
        "  print(\"Success , no error!\")"
      ],
      "metadata": {
        "colab": {
          "base_uri": "https://localhost:8080/"
        },
        "id": "VEGmO9k25Mnu",
        "outputId": "edcd34ef-7c4f-4e42-afff-b5fb4a013387"
      },
      "execution_count": null,
      "outputs": [
        {
          "output_type": "stream",
          "name": "stdout",
          "text": [
            "(<class 'OverflowError'>, OverflowError('math range error'), <traceback object at 0x7f8519c729c0>)\n"
          ]
        }
      ]
    },
    {
      "cell_type": "markdown",
      "source": [
        "Exception created"
      ],
      "metadata": {
        "id": "jHTcdTSgBGrl"
      }
    },
    {
      "cell_type": "code",
      "source": [
        "try:\n",
        "  x = int(input('Enter first number:-'))\n",
        "  if x> 50:\n",
        "    raise ValueError(x) #if value of x is greater than 50 valueerror exception raised\n",
        "except:\n",
        "  print(sys.exc_info()[0])"
      ],
      "metadata": {
        "colab": {
          "base_uri": "https://localhost:8080/"
        },
        "id": "4u1SX9Fe7E37",
        "outputId": "57117a9a-d6c7-4abb-a31c-e2fecafecf81"
      },
      "execution_count": null,
      "outputs": [
        {
          "output_type": "stream",
          "name": "stdout",
          "text": [
            "Enter first number:-798\n",
            "<class 'ValueError'>\n"
          ]
        }
      ]
    },
    {
      "cell_type": "code",
      "source": [
        "# Holding specific exception\n",
        "try:\n",
        "  import os\n",
        "  x = int(input('enter first number:-'))\n",
        "  y  =int(input('Enter seccond number:'))\n",
        "  print(x/y)\n",
        "  os.remove('test3.txt')\n",
        "except NameError:\n",
        "  print('NameError exception occured')\n",
        "except FileNotFoundError:\n",
        "  print('FileNoteFoundError exception occured')\n",
        "except ZeroDivisionError:\n",
        "  print('ZeroDivisionError exception occured')\n"
      ],
      "metadata": {
        "colab": {
          "base_uri": "https://localhost:8080/"
        },
        "id": "WtY1PejLBOUA",
        "outputId": "a96f40da-98be-44b8-a535-c533829afb2e"
      },
      "execution_count": null,
      "outputs": [
        {
          "output_type": "stream",
          "name": "stdout",
          "text": [
            "enter first number:-45\n",
            "Enter seccond number:0\n",
            "ZeroDivisionError exception occured\n"
          ]
        }
      ]
    },
    {
      "cell_type": "code",
      "source": [
        "\n",
        "try:\n",
        "  import sys\n",
        "  os.remove(\"test3.txt\") #file not found error will be encountered\n",
        "except:\n",
        "  print(\"Bellow exception occured\")\n",
        "  print(sys.exc_info()[1])\n",
        "else:\n",
        "  print(\"\\nNo exception occured\")\n",
        "finally:\n",
        "  print('\\nRun this block of code always')"
      ],
      "metadata": {
        "colab": {
          "base_uri": "https://localhost:8080/"
        },
        "id": "y7YiF_DGkVsS",
        "outputId": "c00c0f6a-9743-49eb-9521-ab6aab7b0cad"
      },
      "execution_count": null,
      "outputs": [
        {
          "output_type": "stream",
          "name": "stdout",
          "text": [
            "Bellow exception occured\n",
            "[Errno 2] No such file or directory: 'test3.txt'\n",
            "\n",
            "Run this block of code always\n"
          ]
        }
      ]
    },
    {
      "cell_type": "code",
      "source": [
        "try:\n",
        "  print(x)\n",
        "except:\n",
        "  print('variable x is not defined')"
      ],
      "metadata": {
        "colab": {
          "base_uri": "https://localhost:8080/"
        },
        "id": "OXgHMvJGmEaz",
        "outputId": "9d46bab3-0bc5-48b0-f999-09b028b73a84"
      },
      "execution_count": null,
      "outputs": [
        {
          "output_type": "stream",
          "name": "stdout",
          "text": [
            "45\n"
          ]
        }
      ]
    },
    {
      "cell_type": "code",
      "source": [
        "try:\n",
        "  import sys\n",
        "  print(100/0) #ZeroDivisionError will be enxountered here\n",
        "except:\n",
        "  print(sys.exc_info()[1] , 'Exception occured' )#this statement will  be executed\n",
        "else:\n",
        "  print('No exception occured') # this will be skipped as code block is\n",
        "finally:\n",
        "  print(\"Run this block of code alwaya\") #this will be alwyas executed\n"
      ],
      "metadata": {
        "colab": {
          "base_uri": "https://localhost:8080/"
        },
        "id": "mX3yupt-n__G",
        "outputId": "e3b902e6-8041-4219-abd3-0d473380fe13"
      },
      "execution_count": null,
      "outputs": [
        {
          "output_type": "stream",
          "name": "stdout",
          "text": [
            "division by zero Exception occured\n",
            "Run this block of code alwaya\n"
          ]
        }
      ]
    },
    {
      "cell_type": "code",
      "source": [],
      "metadata": {
        "id": "iRbPDxEKqjSA"
      },
      "execution_count": null,
      "outputs": []
    }
  ]
}